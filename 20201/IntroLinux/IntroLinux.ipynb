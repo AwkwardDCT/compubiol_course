{
 "cells": [
  {
   "cell_type": "markdown",
   "metadata": {},
   "source": [
    "# Introducción a UNIX-SHELL\n",
    "## Fund. Biología Computacional\n",
    "## Javier C. Alvarez\n",
    "![title](UNIX-Licence-Plate.jpg)"
   ]
  },
  {
   "cell_type": "markdown",
   "metadata": {},
   "source": [
    "## Tema / Tiempo / Objetivo\n",
    "1. [Origen de UNIX/Linux](#1.-Origen-de-UNIX/Linux) / 60 min / Explain the basics of the Unix shell and how to use the command line\n",
    "2. [Practica en SHELL](#2.-Práctica-en-Shell) / 60 min / How do you move around the filesystem in the shell?\n"
   ]
  },
  {
   "cell_type": "markdown",
   "metadata": {},
   "source": [
    "### Competencias\n",
    "Al final de la clase el estudiantes estará en la capacidad de:\n",
    "1. Look at all or part of a file using the command line \n",
    "2. Use shell basic commands to work with directories and files\n",
    "3. Use shell basic commands to find and manipulate data\n",
    "4. Work with files and directories from the command line and internet\n",
    "5. Use tab completion to limit typing\n",
    "6. Moving and copying files\n",
    "7. Demonstrate counting lines, words, and characters with the shell command wc and appropriate flags\n",
    "8. Use strings to mine files and extract matched lines with the shell\n",
    "9. Redirect a command’s output to a file."
   ]
  },
  {
   "cell_type": "markdown",
   "metadata": {},
   "source": [
    "## 1. Origen de UNIX/Linux\n",
    "Unix (registrado oficialmente como UNIX®) es un sistema operativo portable, multitarea y multiusuario; desarrollado, en principio, en 1969 por un grupo de empleados de los laboratorios Bell de AT&T, entre los que figuran Ken Thompson, Dennis Ritchie y Douglas McIlroy.\n",
    "![image.png](fit.jpg)"
   ]
  },
  {
   "cell_type": "markdown",
   "metadata": {},
   "source": [
    "### Evolución de los sistemas operativos UNIX (1969-2017)\n",
    "![image.png](Unix_history.png)"
   ]
  },
  {
   "cell_type": "markdown",
   "metadata": {},
   "source": [
    "Linux: En 1991, cuando Linus Torvalds empezó a proponer el núcleo Linux y a reunir colaboradores, las herramientas GNU eran la elección perfecta.\n",
    " Al combinarse ambos elementos, conformaron la base del sistema operativo (basado en POSIX) que hoy se conoce como GNU/Linux. \n",
    "Las distribuciones basadas en el núcleo, el software GNU y otros agregados entre las que se pueden mencionar a Slackware Linux, Red Hat Linux y Debian GNU/Linux se han hecho populares tanto entre los aficionados a la computación como en el mundo empresarial. \n",
    "![linux](linux1.jpg)\n",
    "\n",
    "Su desarrollo es uno de los ejemplos más prominentes de software libre.<br>\n",
    "Todo su código fuente puede ser utilizado, modificado y redistribuido libremente por cualquiera bajo los términos de la GPL (Licencia Pública General de GNU, en inglés: General Public License) y otra serie de licencias libres.<br>\n",
    "\n",
    "### ¿Por qué Linux en bioinformática?\n",
    "- Es software libre, lo que quiere decir que no hay que pagar nada por el sistema en sí. \n",
    "- La mayoría de las aplicaciones de Bioinformática son desarrolladas para Linux.\n",
    "- Alto desempeño, es fácil controlar los procesos y el uso de los recursos.\n",
    "- Ampliamente utilizado por la comunidad científica. \n",
    "- Fácil modificación para intereses específicos. \n",
    "- Excelente soporte para Scripting y programación.\n",
    "- Excelente soporte para clusterización, multiprocesamiento, computación distribuida. \n",
    "- La mayoría de las herramientas son Open Source/Free."
   ]
  },
  {
   "cell_type": "markdown",
   "metadata": {},
   "source": [
    "### BioLinux - Una opción para usuarios con necesidades específicas en biología\n",
    "\n",
    "![biolinux](new_usb_key.png)\n",
    "- Distribución Linux dedicada para bioinformática.\n",
    "- Linux basado en Ubuntu.\n",
    "- Portable: puede ser ejecutado a partir de Cloud, USBs, DVDs o CDs. \n",
    "- Posee un amplio número de herramientas: \n",
    "        - Paquetes de análisis de estadística.\n",
    "        - Software para análisis de secuencias.\n",
    "- Tratamiento de secuencias biológicas.\n",
    "- Manejo de BD para datos biológicos.\n",
    "- Disponible en: http://environmentalomics.org/bio-linux/"
   ]
  },
  {
   "cell_type": "markdown",
   "metadata": {},
   "source": [
    "### Sistemas de archivos de Linux: Estructura básica\n",
    "Funciones:\n",
    "- Representar informaciones en algún tipo de dispositivo de almacenamiento: CD, DVD, USB, HD. \n",
    "- Garantizar el desempeño en el acceso a la información almacenada.\n",
    "<img src=\"Imagen2.png\" width=\"500\">"
   ]
  },
  {
   "cell_type": "markdown",
   "metadata": {},
   "source": [
    "### En UNIX todo está organizado por jerarquía\n",
    "<img src=\"Imagen3.png\" width=\"400\" align=\"left\">\n",
    "<img src=\"Imagen4.png\" width=\"500\">"
   ]
  },
  {
   "cell_type": "markdown",
   "metadata": {},
   "source": [
    "<img src=\"estructura.jpg\" width=\"900\">"
   ]
  },
  {
   "cell_type": "markdown",
   "metadata": {},
   "source": [
    "## Interpretadores de Comando en Linux\n",
    "Permiten manipular sistema de  archivos con el uso de comando especiales en formato de texto, por línea de comando <br>\n",
    "SHELL/CONSOLE<br>\n",
    "Es cualquier interface de usuario para el SO Unix o cualquier programa que reciba del usuario un input e la convierta en una instrucción para que el SO entienda.<br>\n",
    "El shell es fundamental para las computadoras basadas en Linux, y las máquinas macOS se entregan Terminal, un programa de shell. Para los usuarios de Windows, los shells populares como Cygwin o Git Bash proporcionan una interfaz similar a Unix, pero es posible que deban instalarse por separado. En Windows 10, PowerShell proporciona de forma nativa esa funcionalidad.<br>\n",
    "Hay diversos tipos de interpretadores de comando en Linux (SHELL/Konsole):\n",
    "- Bash:\n",
    "- Csh:\n",
    "- Sh:\n",
    "- Tcsh:\n",
    "\n",
    "¿Cómo abro la consola en mi computador?\n",
    "\n",
    "- Terminal para macOS: Command + Space y escribir Terminal\n",
    "- Git Bash para usuarios de Windows 10: https://www.youtube.com/watch?v=ks8Lp_JoK88\n",
    "- Terminal shell para usuarios de Linux? Ctrl+Alt+T \n",
    "- Biohub: Abrir una cuenta y en el dashboard ejecutar Workstation\n",
    "\n",
    "¿Cuál Shell estoy usando?\n",
    "Digíta en tu consola:"
   ]
  },
  {
   "cell_type": "code",
   "execution_count": 1,
   "metadata": {},
   "outputs": [
    {
     "name": "stdout",
     "output_type": "stream",
     "text": [
      "/bin/bash\n"
     ]
    }
   ],
   "source": [
    "%%bash\n",
    "echo $SHELL"
   ]
  },
  {
   "cell_type": "markdown",
   "metadata": {},
   "source": [
    "## Características de un estamento en la consola SHELL\n",
    "- Programa o comando\n",
    "- Argumento: Información extra pasada para la ejecución del comando. \n",
    "    - Opciones: Define como el programa será ejecutado\n",
    "    - Variables: Guardan información para ser utilizadas por los programas durante la sesión \n",
    "- Es sensible a mayúsculas y minúsculas, como también a los espacios y símbolos<br>\n",
    "\n",
    "|Símbolo|Función|\n",
    "|-------|-------|\n",
    "|..|indica el nivel anterior|\n",
    "|.|indica el nivel actual|\n",
    "|~|indica el nivel home del usuario|\n",
    "|#|indica comentario|\n",
    "|$|Definición de variables|\n",
    "|.xxxx|Archivos ocultos|\n",
    "|pipe|direcciona la salida a una entrada|\n",
    "|&|Envía aplicativo para background|\n",
    "|--help|obtener ayuda sobre utilización del comando|\n",
    "\n",
    "Ejemplo:"
   ]
  },
  {
   "cell_type": "code",
   "execution_count": 9,
   "metadata": {},
   "outputs": [
    {
     "name": "stdout",
     "output_type": "stream",
     "text": [
      "Sun Jan 26 18:50:11 UTC 2020\n"
     ]
    }
   ],
   "source": [
    "%%bash\n",
    "date -jnu"
   ]
  },
  {
   "cell_type": "markdown",
   "metadata": {},
   "source": [
    "### PATHS/Absolutos/Relativos\n",
    "\n",
    "<img src=\"Imagen5.png\" width=\"400\" align=\"left\">\n",
    "<img src=\"Imagen6.png\" width=\"400\">\n",
    "<img src=\"Imagen7.png\" width=\"400\">"
   ]
  },
  {
   "attachments": {},
   "cell_type": "markdown",
   "metadata": {},
   "source": [
    "## 2. Práctica en Shell\n",
    "\n",
    "### Comandos Grupo 1:\n",
    "- __cd__  : (change directory) cambia de directorio\n",
    "- __pwd__  : (print workin directory) exhibir el directorio actual\n",
    "- __ls__  : (list) listar archivo y directorios\n",
    "        Opciones útiles: -a (archivos ocultos),  -l (formato largo), -s (exhibe el tamaño de los archivos), -h (tamaño en K, MB, GB), -R (recursivo).\n",
    "- __cp__  : (copy) copiar archivos \n",
    "        Opciones útiles: -p (preserve molde), -r (recursiva), -v (verbosa). "
   ]
  },
  {
   "cell_type": "code",
   "execution_count": 3,
   "metadata": {},
   "outputs": [
    {
     "name": "stdout",
     "output_type": "stream",
     "text": [
      "total 3616\n",
      "drwxr-xr-x  17 javiercorreaalvarez  staff   544B Jan 26 16:46 .\n",
      "drwx------+ 41 javiercorreaalvarez  staff   1.3K Jan 26 09:47 ..\n",
      "-rw-r--r--@  1 javiercorreaalvarez  staff   6.0K Jan 26 10:15 .DS_Store\n",
      "drwxr-xr-x   3 javiercorreaalvarez  staff    96B Jan 26 09:49 .ipynb_checkpoints\n",
      "-rw-r--r--@  1 javiercorreaalvarez  staff   100K Jan 26 10:45 Imagen2.png\n",
      "-rw-r--r--@  1 javiercorreaalvarez  staff   602K Jan 26 13:35 Imagen3.png\n",
      "-rw-r--r--@  1 javiercorreaalvarez  staff   213K Jan 26 13:37 Imagen4.png\n",
      "-rw-r--r--@  1 javiercorreaalvarez  staff   177K Jan 26 13:54 Imagen5.png\n",
      "-rw-r--r--@  1 javiercorreaalvarez  staff   158K Jan 26 13:56 Imagen6.png\n",
      "-rw-r--r--@  1 javiercorreaalvarez  staff   223K Jan 26 16:37 Imagen7.png\n",
      "-rw-r--r--   1 javiercorreaalvarez  staff    12K Jan 26 16:46 IntroLinux.ipynb\n",
      "-rw-r--r--@  1 javiercorreaalvarez  staff    72K Jan 26 10:15 UNIX-Licence-Plate.jpg\n",
      "-rw-r--r--@  1 javiercorreaalvarez  staff    90K Jan 26 10:10 Unix_history.png\n",
      "-rw-r--r--@  1 javiercorreaalvarez  staff    38K Jan 26 10:53 estructura.jpg\n",
      "-rw-r--r--@  1 javiercorreaalvarez  staff    34K Jan 26 10:04 fit.jpg\n",
      "-rw-r--r--@  1 javiercorreaalvarez  staff    27K Jan 26 10:20 linux1.jpg\n",
      "-rw-r--r--@  1 javiercorreaalvarez  staff    33K Jan 26 10:29 new_usb_key.png\n"
     ]
    }
   ],
   "source": [
    "%%bash\n",
    "ls -lha"
   ]
  },
  {
   "attachments": {},
   "cell_type": "markdown",
   "metadata": {},
   "source": [
    "- __mkdir__ : (make directory) Creación de directorios\n",
    "    - Opciones: -p(parent)\n",
    "\n",
    "- __mv__ : (move) mover archivos de carpetas\n",
    "    - Opciones utiles: -f (fuerza, sin confirmar)\n",
    "\n",
    "- __rm__  : (remove) Remover archivos/directorios\n",
    "    - Opciones utiles: -R/r (recursivo), -f (fuerza)"
   ]
  },
  {
   "cell_type": "code",
   "execution_count": 4,
   "metadata": {},
   "outputs": [],
   "source": [
    "%%bash\n",
    "man cp"
   ]
  },
  {
   "attachments": {},
   "cell_type": "markdown",
   "metadata": {},
   "source": [
    "- __cat__  : Concatenación de los archivos en la salida estándar o pantalla\n",
    "- __wc__ :  (word count) contar el numero de lineas, palabras y bytes de un archivo.\n",
    "- __man__ : (manual) ofrece información detallada del comando especificado\n",
    "- __apropos__ <palabra>  : informa una lista de comandos relacionados con la palabra especificada"
   ]
  },
  {
   "cell_type": "code",
   "execution_count": 5,
   "metadata": {},
   "outputs": [
    {
     "name": "stdout",
     "output_type": "stream",
     "text": [
      "pcregrep(1)              - a grep with Perl-compatible regular expressions\n",
      "xzgrep(1)                - search compressed files for a regular expression\n",
      "grep(1), egrep(1), fgrep(1), zgrep(1), zegrep(1), zfgrep(1) - file pattern searcher\n",
      "pgrep(1), pkill(1)       - find or signal processes by name\n",
      "ptargrep(1)              - Apply pattern matching to the contents of files in a tar archive\n",
      "zipgrep(1)               - search files in a ZIP archive for lines matching a pattern\n",
      "git-grep(1)              - Print lines matching a pattern\n"
     ]
    }
   ],
   "source": [
    "%%bash\n",
    "apropos grep"
   ]
  },
  {
   "attachments": {},
   "cell_type": "markdown",
   "metadata": {},
   "source": [
    "- __Vi__ o __vim__\n",
    "Función: edición de archivos<br>\n",
    "Principales comandos: <br>\n",
    "l => editar (Bloquea todas las otras operaciones)<br>\n",
    "ESC => cancelar edición<br>\n",
    ":q! => fuerza la salida del editor, sin salvar<br>\n",
    "/gene => busca la palabra gene<br>\n",
    "/^gene => busca por  gene en el inicio de la línea<br>\n",
    "x => elimina el carácter de la posición del cursor<br>\n",
    "dd => elimina la línea actual (almacena mem.)<br>\n",
    "D=> elimina la línea actual a partir del cursor (almacena)<br>\n",
    "u => deshacer ultimo comando<br>\n",
    "^L =>actualiza la pantalla<br>\n",
    "G = va para la ultima  línea<br>\n",
    "23G => va para la línea 23.<br>\n",
    "w => guarda <br>"
   ]
  },
  {
   "cell_type": "code",
   "execution_count": null,
   "metadata": {},
   "outputs": [],
   "source": []
  }
 ],
 "metadata": {
  "kernelspec": {
   "display_name": "Python 3",
   "language": "python",
   "name": "python3"
  },
  "language_info": {
   "codemirror_mode": {
    "name": "ipython",
    "version": 3
   },
   "file_extension": ".py",
   "mimetype": "text/x-python",
   "name": "python",
   "nbconvert_exporter": "python",
   "pygments_lexer": "ipython3",
   "version": "3.7.3"
  }
 },
 "nbformat": 4,
 "nbformat_minor": 2
}
