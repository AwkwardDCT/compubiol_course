{
 "cells": [
  {
   "cell_type": "markdown",
   "metadata": {},
   "source": [
    "__Linux__\n",
    "Podemos clasificar las utilidades por consola de linux acorde a su función, y analizarlas de forma sistematica. Aprovecharemos las capacidades de ejecución de notebooks de bash para ilustrar los comandos, pero debe tenerse en cuenta que la linea inicial de cada bloque %%bash no esta asociada con su ejecución en una consola linux al igual que el uso de ! al inicio de linea. Ambos casos son la forma de indicarle al notebook que debe ejecutar en modo bash en la consola linux.\n",
    "Comentarios y escritura en consola\n",
    "Podemos imprimir mensajes en la consola (e incluso a archivos) con ayuda de echo y printf, teniendo mayor control este último.\n",
    "La indicación de comentarios en bash (texto que no posee efecto en ejecución) se logra indicando el simbolo # a partir de la parte de la linea que se desee interpretar como un comentario."
   ]
  },
  {
   "cell_type": "code",
   "execution_count": 3,
   "metadata": {},
   "outputs": [
    {
     "name": "stdout",
     "output_type": "stream",
     "text": [
      "Hello world\n"
     ]
    }
   ],
   "source": [
    "echo \"Hello world!\" # Hola Mundo Bash"
   ]
  },
  {
   "cell_type": "markdown",
   "metadata": {},
   "source": [
    "Scripting in Bash"
   ]
  },
  {
   "cell_type": "code",
   "execution_count": 7,
   "metadata": {},
   "outputs": [
    {
     "name": "stdout",
     "output_type": "stream",
     "text": [
      "Hoy es:\n",
      "Tue Feb 20 12:11:42 -05 2018\n"
     ]
    }
   ],
   "source": [
    "ls -la\n",
    "echo \"Arriba están los directorios de este folder\"\n",
    "pwd\n",
    "echo \"Hoy es:\"\n",
    "date"
   ]
  },
  {
   "cell_type": "markdown",
   "metadata": {},
   "source": [
    "Turning a text file into software"
   ]
  },
  {
   "cell_type": "code",
   "execution_count": 9,
   "metadata": {},
   "outputs": [
    {
     "name": "stdout",
     "output_type": "stream",
     "text": [
      "Propiedades del archivo\n",
      "-rwxr-xr-x  1 admin    10B Feb 20 12:17 ejecutar_prueba.sh\n",
      "Se ejecuta el archivo\n",
      "hola\n",
      "Se puede obviar el error por parte del propietario mediante sh (bash/dash/zsh/..)\n",
      "hola\n",
      "Se cambian permisos y ejecuta nuevamente\n",
      "hola\n"
     ]
    }
   ],
   "source": [
    "#! /bin/bash\n",
    "echo \"echo hola\" > ejecutar_prueba.sh # Creamos un archivo para ejecución\n",
    "echo \"Propiedades del archivo\"\n",
    "ls -oh *sh # Validamos permisos de ejecución. Por defecto los permisos son solo lectura.\n",
    "echo \"Se ejecuta el archivo\"\n",
    "./ejecutar_prueba.sh # Ejecutamos y se genera error de permisos.\n",
    "echo \"Se puede obviar el error por parte del propietario mediante sh (bash/dash/zsh/..)\"\n",
    "bash ejecutar_prueba.sh\n",
    "echo \"Se cambian permisos y ejecuta nuevamente\"\n",
    "chmod 755 ejecutar_prueba.sh # Se otorga permiso de ejecución\n",
    "./ejecutar_prueba.sh # Al ejecutar nuevamente se genera la salida esperada\n",
    "rm ./ejecutar_prueba.sh"
   ]
  },
  {
   "cell_type": "raw",
   "metadata": {},
   "source": [
    "_Permisos_ (chmod)\n",
    "Los permisos permiten no solo el acceso a los archivos por parte de los usuarios, sino la posibilidad de restringir el tipo de operaciones sobre los archivos.\n",
    "\n",
    "fila1 = \"|Permiso|\tValor|\tLetra|\"\n",
    "filaalineacion = \"|---:|:---:|:---:\"\n",
    "fila2 = \"|Lectura|\t4|\tr|\"\n",
    "fila3 = \"|Escritura|\t2|\tw|\"\n",
    "fila 4= \"|Ejecución|\t1|\tx|\"\n",
    "display(Markdown(fila1+\"\\n\"+filaalineacion+\"\\n\"fila2+\"\\n\"+fila3+\"\\n\"+fila4+\"\\n\"))\n",
    "\n",
    "Los permisos se pueden habilitar mediante + seguido de la letra asociada al permiso y el nombre del archivo, o mediante la indicación de la suma de valores de los permisos y en orden acorde a usuario propietario, usuarios del grupo y resto de usuarios."
   ]
  },
  {
   "cell_type": "code",
   "execution_count": null,
   "metadata": {},
   "outputs": [],
   "source": []
  }
 ],
 "metadata": {
  "kernelspec": {
   "display_name": "Bash",
   "language": "bash",
   "name": "bash"
  },
  "language_info": {
   "codemirror_mode": {
    "name": "ipython",
    "version": 3
   },
   "file_extension": ".py",
   "mimetype": "text/x-python",
   "name": "python",
   "nbconvert_exporter": "python",
   "pygments_lexer": "ipython3",
   "version": "3.6.3"
  }
 },
 "nbformat": 4,
 "nbformat_minor": 2
}
