{
 "cells": [
  {
   "cell_type": "code",
   "execution_count": 7,
   "metadata": {},
   "outputs": [],
   "source": [
    "def Distancia_Hamming(sec1,sec2):\n",
    "    seq1=sec1\n",
    "    seq2=sec2\n",
    "    distancia = 0 \n",
    "    Long= len(sec1)\n",
    "    Long2= len(sec2)\n",
    "    for i in range (Long):\n",
    "        if seq1[i] != seq2[i]:\n",
    "            distancia= distancia + 1\n",
    "            return (distancia)\n",
    "        elif Long != Long2:\n",
    "            resultado= resultado+(Long-Long2)\n",
    "            return (resultado)"
   ]
  },
  {
   "cell_type": "code",
   "execution_count": 8,
   "metadata": {},
   "outputs": [
    {
     "ename": "UnboundLocalError",
     "evalue": "local variable 'resultado' referenced before assignment",
     "output_type": "error",
     "traceback": [
      "\u001b[0;31m---------------------------------------------------------------------------\u001b[0m",
      "\u001b[0;31mUnboundLocalError\u001b[0m                         Traceback (most recent call last)",
      "\u001b[0;32m<ipython-input-8-ea3675bc3bb6>\u001b[0m in \u001b[0;36m<module>\u001b[0;34m()\u001b[0m\n\u001b[0;32m----> 1\u001b[0;31m \u001b[0mDistancia_Hamming\u001b[0m\u001b[0;34m(\u001b[0m\u001b[0;34m\"ATCTCTCTACGCTACT\"\u001b[0m\u001b[0;34m,\u001b[0m\u001b[0;34m\"ATCGCTGCGTCGACT\"\u001b[0m\u001b[0;34m)\u001b[0m\u001b[0;34m\u001b[0m\u001b[0m\n\u001b[0m",
      "\u001b[0;32m<ipython-input-7-ab7a5430093e>\u001b[0m in \u001b[0;36mDistancia_Hamming\u001b[0;34m(sec1, sec2)\u001b[0m\n\u001b[1;32m     10\u001b[0m             \u001b[0;32mreturn\u001b[0m \u001b[0;34m(\u001b[0m\u001b[0mdistancia\u001b[0m\u001b[0;34m)\u001b[0m\u001b[0;34m\u001b[0m\u001b[0m\n\u001b[1;32m     11\u001b[0m         \u001b[0;32melif\u001b[0m \u001b[0mLong\u001b[0m \u001b[0;34m!=\u001b[0m \u001b[0mLong2\u001b[0m\u001b[0;34m:\u001b[0m\u001b[0;34m\u001b[0m\u001b[0m\n\u001b[0;32m---> 12\u001b[0;31m             \u001b[0mresultado\u001b[0m\u001b[0;34m=\u001b[0m \u001b[0mresultado\u001b[0m\u001b[0;34m+\u001b[0m\u001b[0;34m(\u001b[0m\u001b[0mLong\u001b[0m\u001b[0;34m-\u001b[0m\u001b[0mLong2\u001b[0m\u001b[0;34m)\u001b[0m\u001b[0;34m\u001b[0m\u001b[0m\n\u001b[0m\u001b[1;32m     13\u001b[0m             \u001b[0;32mreturn\u001b[0m \u001b[0;34m(\u001b[0m\u001b[0mresultado\u001b[0m\u001b[0;34m)\u001b[0m\u001b[0;34m\u001b[0m\u001b[0m\n",
      "\u001b[0;31mUnboundLocalError\u001b[0m: local variable 'resultado' referenced before assignment"
     ]
    }
   ],
   "source": [
    "Distancia_Hamming(\"ATCTCTCTACGCTACT\",\"ATCGCTGCGTCGACT\")"
   ]
  },
  {
   "cell_type": "code",
   "execution_count": null,
   "metadata": {},
   "outputs": [],
   "source": []
  }
 ],
 "metadata": {
  "kernelspec": {
   "display_name": "Python 3",
   "language": "python",
   "name": "python3"
  },
  "language_info": {
   "codemirror_mode": {
    "name": "ipython",
    "version": 3
   },
   "file_extension": ".py",
   "mimetype": "text/x-python",
   "name": "python",
   "nbconvert_exporter": "python",
   "pygments_lexer": "ipython3",
   "version": "3.6.4"
  }
 },
 "nbformat": 4,
 "nbformat_minor": 2
}
