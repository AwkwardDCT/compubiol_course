{
 "cells": [
  {
   "cell_type": "markdown",
   "metadata": {},
   "source": [
    "# Taller 2 - Python\n",
    "## Fundamentos en Biología Computacional\n",
    "## 2019-1, Prof. Javier Correa\n",
    "Nota: Se calificará que el código sea lo más simple, claro, original y eficiente. No usar funciones no realizadas por ustedes mismos."
   ]
  },
  {
   "cell_type": "markdown",
   "metadata": {},
   "source": [
    "1. Realice un función para expresar cualquier número entero en su conotación factorial. <br>\n",
    "Ejemplo: factorial(4)<br>\n",
    "Out: 24"
   ]
  },
  {
   "cell_type": "code",
   "execution_count": 45,
   "metadata": {},
   "outputs": [
    {
     "data": {
      "text/plain": [
       "24"
      ]
     },
     "execution_count": 45,
     "metadata": {},
     "output_type": "execute_result"
    }
   ],
   "source": [
    "def Factorial(num): \n",
    "    i=1\n",
    "    prod=1\n",
    "    while i<=num:\n",
    "        prod=i*prod\n",
    "        i=1+i\n",
    "    return prod\n",
    "\n",
    "Factorial(4)"
   ]
  },
  {
   "cell_type": "markdown",
   "metadata": {},
   "source": [
    "2. Realice un función para expresar la potencia de cualquier número. La función recibe como parámetros la base y el exponencial. <br>\n",
    "Ejemplo: potencia(4,2)<br>\n",
    "Out: 16"
   ]
  },
  {
   "cell_type": "code",
   "execution_count": 46,
   "metadata": {},
   "outputs": [],
   "source": [
    "def Potencia(b,e):\n",
    "    return b**e\n",
    "\n"
   ]
  },
  {
   "cell_type": "code",
   "execution_count": 26,
   "metadata": {},
   "outputs": [
    {
     "data": {
      "text/plain": [
       "16"
      ]
     },
     "execution_count": 26,
     "metadata": {},
     "output_type": "execute_result"
    }
   ],
   "source": [
    "Potencia(4,2)"
   ]
  },
  {
   "cell_type": "markdown",
   "metadata": {},
   "source": [
    "3. Utilizando las dos funciones anteriormente definidas (factorial y potencia), realice un función para expresar el Coseno de un entero. <br>\n",
    "Ejemplo: coseno(5)<br>\n",
    "Out: 0.996194698"
   ]
  },
  {
   "cell_type": "code",
   "execution_count": 62,
   "metadata": {},
   "outputs": [],
   "source": [
    "def Coseno(N):\n",
    "    Num=(N*3.14)/180\n",
    "    i=0\n",
    "    Cos=0\n",
    "    while i <70:\n",
    "        Cos=(Cos+ ((Potencia(-1,i)) * Potencia(Num,2*i)/Factorial(2*i)))\n",
    "        i=i+1\n",
    "    return Cos\n"
   ]
  },
  {
   "cell_type": "code",
   "execution_count": 63,
   "metadata": {},
   "outputs": [
    {
     "data": {
      "text/plain": [
       "0.9961985529198225"
      ]
     },
     "execution_count": 63,
     "metadata": {},
     "output_type": "execute_result"
    }
   ],
   "source": [
    "Coseno(5)"
   ]
  },
  {
   "cell_type": "markdown",
   "metadata": {},
   "source": [
    "4. Dadas las cantidades de individuos con los genótipos AA, AB y BB. Calcular la frecuencia de los alelos A y B <br>\n",
    "Ejemplo: FrecuenciaAlelos(12,4,4) <br>\n",
    "Out: (0.7, 0.3)"
   ]
  },
  {
   "cell_type": "code",
   "execution_count": 27,
   "metadata": {},
   "outputs": [
    {
     "data": {
      "text/plain": [
       "(0.7, 0.3)"
      ]
     },
     "execution_count": 27,
     "metadata": {},
     "output_type": "execute_result"
    }
   ],
   "source": [
    "def FrecuenciasAlelos(A,AB,BB):\n",
    "    total=A+AB+BB\n",
    "    AleloA= (A+AB/2)/total\n",
    "    AleloB= (BB+AB/2)/total\n",
    "    \n",
    "    return (AleloA,AleloB)\n",
    "FrecuenciasAlelos(12,4,4)\n",
    "    "
   ]
  },
  {
   "cell_type": "markdown",
   "metadata": {},
   "source": [
    "5. Dada una cadena de DNA retornar una de (-) RNA en sentido 5'-> 3' <br>\n",
    "Ejemplo: DNA_to_RNA(\"TCTCTACTCATGTCTGCA\")<br>\n",
    "Out: GUACUCACGUCUGCUCUC"
   ]
  },
  {
   "cell_type": "code",
   "execution_count": 140,
   "metadata": {},
   "outputs": [
    {
     "data": {
      "text/plain": [
       "'UCUCUACUCAUGUCUGCA'"
      ]
     },
     "execution_count": 140,
     "metadata": {},
     "output_type": "execute_result"
    }
   ],
   "source": [
    "def DNA_to_RNA(DNA):\n",
    "    RNA_anti=''\n",
    "    i=0\n",
    "    for x in range (0,len(DNA)):\n",
    "        if(i=='T'):\n",
    "            RNA_anti= RNA_anti + 'U'\n",
    "        else:\n",
    "            RNA_anti=RNA_anti+ i\n",
    "    return RNA_anti\n",
    "Transcripcion(\"TCTCTACTCATGTCTGCA\")\n",
    "#Este código no da para el ejemplo presentado, pero según como entiendo el ejercicio es la única forma en la que tendría sentido.\n",
    "#La forma en la que podría dar el ejemplo, es que se pudiera cambiar T por C, A por G y C por U, cosa que por lo menos para mi no tiene sentido. "
   ]
  },
  {
   "cell_type": "markdown",
   "metadata": {},
   "source": [
    "6. Realizar una función que calcule la Temperatura de Melting Promedio de un par de primers de DNA en grados Celcius. Teniendo en cuenta que; en un oligonucleótido < de 14 nucleótidos, la Tm se calcula multiplicando la cantidad de G+C por 4 y las A+T por 2. Mientras que, si es >= de 14 nt, se debe aplicar la siguiente fórmula (64.9 + 41 * (totalG+C -16.4) / Tamaño sel oligo). <br>\n",
    "Ejemplo: tempromelt(TCTCTACTCATGTCTGCA, TCGCGTGCACGTG)<br>\n",
    "Out: 44.88333333333334"
   ]
  },
  {
   "cell_type": "code",
   "execution_count": 60,
   "metadata": {},
   "outputs": [],
   "source": [
    "def TempMelting(Primer1,Primer2):\n",
    "    A1=0; A2=0; T1=0; T2=0; C1=0; C2=0; G1=0; G2=0  \n",
    "    i=0; x=0; Tm1=0; Tm2=0; Tm1_c=0; Tm2_c=0; Tm1_l=0; Tm2_l=0 \n",
    "    while i<= len(Primer1)-1:\n",
    "        if Primer1[i]=='A':\n",
    "            A1=A1+1\n",
    "        if Primer1[i]=='T':\n",
    "            T1=T1+1\n",
    "        if Primer1[i]=='C':\n",
    "            C1=C1+1\n",
    "        if Primer1[i]=='G':\n",
    "            G1=G1+1\n",
    "        i=i+1\n",
    "    while x<= len(Primer2)-1:\n",
    "        if Primer2[x]=='A':\n",
    "            A2=A2+1\n",
    "        if Primer2[x]=='T':\n",
    "            T2=T2+1\n",
    "        if Primer2[x]=='C':\n",
    "            C2=C2+1\n",
    "        if Primer2[x]=='G':\n",
    "            G2=G2+1\n",
    "        x=x+1\n",
    "    if len(Primer1) < 14:\n",
    "        Tm1_c=(G1+C1)*4 + (A1+T1)*2\n",
    "        Tm1=Tm1_c\n",
    "    if len(Primer1)>= 14:\n",
    "        Tm1_l= (64.9 + 41*((G1+C1)-16.4)/len(Primer1))\n",
    "        Tm1=Tm1_l\n",
    "    if len(Primer2) < 14:\n",
    "        Tm2_c=(G2+C2)*4 + (A2+T2)*2\n",
    "        Tm2=Tm2_c\n",
    "    if len(Primer2)>= 14:\n",
    "        Tm2_l= (64.9 + 41*((G2+C2)-16.4)/len(Primer2))\n",
    "        Tm2=Tm2_l\n",
    "        \n",
    "    return (Tm2+Tm1)/2\n",
    "        \n",
    "   "
   ]
  },
  {
   "cell_type": "code",
   "execution_count": 61,
   "metadata": {},
   "outputs": [
    {
     "data": {
      "text/plain": [
       "44.88333333333334"
      ]
     },
     "execution_count": 61,
     "metadata": {},
     "output_type": "execute_result"
    }
   ],
   "source": [
    "TempMelting(\"TCTCTACTCATGTCTGCA\",\"TCGCGTGCACGTG\")"
   ]
  },
  {
   "cell_type": "markdown",
   "metadata": {},
   "source": [
    "7. Hallar la distancia Hamming entre dos secuencias dadas de polipéptidos. <br>\n",
    "link: https://es.wikipedia.org/wiki/Distancia_de_Hamming <br>\n",
    "Ejemplo: distancia_Hamming(\"SRSLLLRFLMSRSLLLRFLLFLLLLPPLPLFLLLLPPL\",\"SRSLLLRFLSSRSLLLRFLLFLLLLAALALFLLLLSML\")<br>\n",
    "Out:6"
   ]
  },
  {
   "cell_type": "code",
   "execution_count": 76,
   "metadata": {},
   "outputs": [],
   "source": [
    "def Hamming(Poli1,Poli2):\n",
    "    Distancia=0; i=0; x=0\n",
    "    while i <= len(Poli1)-1 and x <= len(Poli2)-1:\n",
    "        if Poli1[i]!=Poli2[x]:\n",
    "            Distancia=Distancia + 1\n",
    "        i=i+1 \n",
    "        x=x+1\n",
    "    return Distancia\n",
    "    \n",
    "\n"
   ]
  },
  {
   "cell_type": "code",
   "execution_count": 77,
   "metadata": {},
   "outputs": [
    {
     "data": {
      "text/plain": [
       "6"
      ]
     },
     "execution_count": 77,
     "metadata": {},
     "output_type": "execute_result"
    }
   ],
   "source": [
    "Hamming(\"SRSLLLRFLMSRSLLLRFLLFLLLLPPLPLFLLLLPPL\",\"SRSLLLRFLSSRSLLLRFLLFLLLLAALALFLLLLSML\")"
   ]
  },
  {
   "cell_type": "markdown",
   "metadata": {},
   "source": [
    "8. Dada la tabla de codones estandar, hacer una función para traducir una cadena de DNA empezando desde la posición 1 <br>\n",
    "Ejemplo: traducir(\"ATGGCGCGTATGAATAGCAATCCGAGCGCATGCCATGTTTGCCATGCGGCTCTGGCGGTCATTGATGCGTGCAATAACAATACCCGTAATAGCAATATCAATAGCTAA\")<br>\n",
    "Out: Met A R Met N S N P S A C H V C H A A L A V I D A C N N N T R N S N I N S Stop"
   ]
  },
  {
   "cell_type": "markdown",
   "metadata": {},
   "source": [
    "9. Usando la función anterior, traducir la secuencia de DNA dada en los 6 frames posibles para producir un polipéptido.\n",
    "Ejemplo: traducirALL(\"ATGGCGCGTATGAATAGCAATCCGAGCGCATGCCATGTTTGCCATGCGGCTCTGGCGGTCATTGATGCGTGCAATAACAATACCCGTAATAGCAATATCAATAGCTAA\")<br>\n",
    "Out: (Frame1:Met A R Met N S N P S A C H V C H A A L A V I D A C N N N T R N S N I N S Stop, Frame2:W R V Stop I A I R A H A Met F A Met R L W R S L Met R A I T I P V I A I S I A, Frame3:G A Y E Stop Q S E R Met P C L P C G S G G H Stop C V Q Stop Q Y P Stop Stop Q Y Q Stop L, Frame4:L A I D I A I T G I V I A R I N D R Q S R Met A N Met A C A R I A I H T R H, Frame5:Stop L L I L L L R V L L L H A S Met T A R A A W Q T W H A L G L L F I R A, Frame6:S Y Stop Y C Y Y G Y C Y C T H Q Stop P P E P H G K H G Met R S D C Y S Y A P)"
   ]
  },
  {
   "cell_type": "code",
   "execution_count": 1,
   "metadata": {},
   "outputs": [
    {
     "data": {
      "text/plain": [
       "'Met Ala Arg Met Asn Ser Asn Pro Ser Ala Cys His Val Cys His Ala Ala Leu Ala Val Ile Asp Ala Cys Asn Asn Asn Thr Arg Asn Ser Asn Ile Asn Ser Stop '"
      ]
     },
     "execution_count": 1,
     "metadata": {},
     "output_type": "execute_result"
    }
   ],
   "source": [
    "def tabla(codones):\n",
    "    \n",
    "    \n",
    "    tabla_codones = {'TTT':'Phe','TTC':'Phe','CTT':'Leu','CTC':'Leu','CTA':'Leu','CTG':'Leu',\n",
    "                  'TTG':'Leu','TTA':'Leu','ATT':'Ile','ATC':'Ile','ATA':'Ile','ATG':'Met','GTT':'Val','GTC':'Val',\n",
    "                 'GTA':'Val','GTG':'Val','TCT':'Ser','TCC':'Ser','TCA':'Ser','TCG':'Ser',\n",
    "                 'CCT':'Pro','CCC':'Pro','CCA':'Pro','CCG':'Pro','ACT':'Thr','ACC':'Thr',\n",
    "                 'ACA':'Thr','ACG':'Thr','GCT':'Ala','GCC':'Ala','GCA':'Ala','GCG':'Ala',\n",
    "                 'TAT':'Tyr','TAC':'Tyr','TAA':'Stop','TAG':'Stop','TGA':'Stop','CAT':'His',\n",
    "                 'CAC':'His','CAA':'Gln','CAG':'Gln','AAT':'Asn','AAC':'Asn','AAA':'Lys',\n",
    "                 'AAG':'Lys','GAT':'Asp','GAC':'Asp','GAA':'Glu','GAG':'Glu','TGT':'Cys',\n",
    "                 'TGC':'Cys','TGG':'Trp','CGT':'Arg','CGC':'Arg','CGA':'Arg','CGG':'Arg',\n",
    "                 'AGT':'Ser','AGC':'Ser','AGA':'Arg','AGG':'Arg','GGT':'Gly','GGC':'Gly',\n",
    "                 'GGA':'Gly','GGG':'Gly'}\n",
    "    \n",
    "    return tabla_codones[codones]+' '\n",
    "    \n",
    "\n",
    "def Traducir(DNA):\n",
    "    i=0\n",
    "    Codones=''\n",
    "    try:\n",
    "        while i <= len(DNA)-1:\n",
    "            Codones=Codones+tabla(DNA[i:i+3])\n",
    "            i=i+3\n",
    "    except:\n",
    "        pass\n",
    "    \n",
    "    return Codones\n",
    "\n",
    "Traducir(\"ATGGCGCGTATGAATAGCAATCCGAGCGCATGCCATGTTTGCCATGCGGCTCTGGCGGTCATTGATGCGTGCAATAACAATACCCGTAATAGCAATATCAATAGCTAA\")\n"
   ]
  },
  {
   "cell_type": "code",
   "execution_count": 3,
   "metadata": {},
   "outputs": [
    {
     "data": {
      "text/plain": [
       "'TACCGCGCATACTTATCGTTAGGCTCGCGTACGGTACAAACGGTACGCCGAGACCGCCAGTAACTACGCACGTTATTGTTATGGGCATTATCGTTATAGTTATCGATT'"
      ]
     },
     "execution_count": 3,
     "metadata": {},
     "output_type": "execute_result"
    }
   ],
   "source": [
    "def DNA_Complement(Secuencia):\n",
    "    DNA=''\n",
    "    i=0\n",
    "    for i in range(0,len(Secuencia)):\n",
    "        if Secuencia[i]=='A':\n",
    "            DNA=DNA+'T'\n",
    "        if Secuencia[i]=='T':\n",
    "            DNA=DNA+'A'\n",
    "        if Secuencia[i]=='C':\n",
    "            DNA=DNA+'G'\n",
    "        if Secuencia[i]=='G':\n",
    "            DNA=DNA+'C'\n",
    "        \n",
    "    return DNA\n",
    "\n",
    "DNA_Complement(\"ATGGCGCGTATGAATAGCAATCCGAGCGCATGCCATGTTTGCCATGCGGCTCTGGCGGTCATTGATGCGTGCAATAACAATACCCGTAATAGCAATATCAATAGCTAA\")\n",
    "\n"
   ]
  },
  {
   "cell_type": "code",
   "execution_count": 15,
   "metadata": {},
   "outputs": [
    {
     "data": {
      "text/plain": [
       "('Frame 1:Met Ala Arg Met Asn Ser Asn Pro Ser Ala Cys His Val Cys His Ala Ala Leu Ala Val Ile Asp Ala Cys Asn Asn Asn Thr Arg Asn Ser Asn Ile Asn Ser Stop ',\n",
       " 'Frame 2:Trp Arg Val Stop Ile Ala Ile Arg Ala His Ala Met Phe Ala Met Arg Leu Trp Arg Ser Leu Met Arg Ala Ile Thr Ile Pro Val Ile Ala Ile Ser Ile Ala ',\n",
       " 'Frame 3:Gly Ala Tyr Glu Stop Gln Ser Glu Arg Met Pro Cys Leu Pro Cys Gly Ser Gly Gly His Stop Cys Val Gln Stop Gln Tyr Pro Stop Stop Gln Tyr Gln Stop Leu ',\n",
       " 'Frame 4:Leu Ala Ile Asp Ile Ala Ile Thr Gly Ile Val Ile Ala Arg Ile Asn Asp Arg Gln Ser Arg Met Ala Asn Met Ala Cys Ala Arg Ile Ala Ile His Thr Arg His ',\n",
       " 'Frame 5:Stop Leu Leu Ile Leu Leu Leu Arg Val Leu Leu Leu His Ala Ser Met Thr Ala Arg Ala Ala Trp Gln Thr Trp His Ala Leu Gly Leu Leu Phe Ile Arg Ala ',\n",
       " 'Frame 6:Ser Tyr Stop Tyr Cys Tyr Tyr Gly Tyr Cys Tyr Cys Thr His Gln Stop Pro Pro Glu Pro His Gly Lys His Gly Met Arg Ser Asp Cys Tyr Ser Tyr Ala Pro ')"
      ]
     },
     "execution_count": 15,
     "metadata": {},
     "output_type": "execute_result"
    }
   ],
   "source": [
    "def ORF(Secuencia):\n",
    "    ADN_invert= Secuencia[::-1]\n",
    "    \n",
    "    return(\"Frame 1\"+\":\"+Traducir(Secuencia),\"Frame 2\"+\":\"+ Traducir(Secuencia[1:]),\"Frame 3\"+\":\"+ Traducir(Secuencia[2:]), \"Frame 4\"+\":\"+Traducir(DNA_Complement(ADN_invert)),\"Frame 5\"+\":\"+Traducir(DNA_Complement(ADN_invert[1:])),\"Frame 6\"+\":\"+Traducir(DNA_Complement(ADN_invert[2:])))\n",
    "\n",
    "\n",
    "ORF(\"ATGGCGCGTATGAATAGCAATCCGAGCGCATGCCATGTTTGCCATGCGGCTCTGGCGGTCATTGATGCGTGCAATAACAATACCCGTAATAGCAATATCAATAGCTAA\")    \n"
   ]
  },
  {
   "cell_type": "markdown",
   "metadata": {},
   "source": []
  },
  {
   "cell_type": "markdown",
   "metadata": {},
   "source": [
    "10. Su código genético es esencialmente el mismo desde que nace hasta que muere, y el mismo en su sangre y su cerebro. Los genes que se activan y desactivan marcan la diferencia entre las células. Esta regulación de los genes está orquestada por un mecanismo inmensamente complejo, que solo hemos empezado a comprender. Una parte central de este mecanismo consiste en moléculas llamadas factores de transcripción que se adhieren al ADN, y al hacerlo, activan o desactivan los genes cercanos. Estas moléculas se unen preferentemente a secuencias específicas de ADN, y este patrón de preferencia de unión puede representarse mediante una tabla de frecuencias de símbolos dados en cada posición del patrón. Más precisamente, cada fila en la tabla corresponde a las bases A, C, G y T, mientras que la columna j refleja cuántas veces aparece la base en la posición j en la secuencia del ADN.\n",
    "\n",
    "    Por ejemplo; si nuestro conjunto de secuencias de ADN son TAG, GGT y GGG, la tabla se convierte en\n",
    "\n",
    "\n",
    "|base|\t0|\t1|\t2|\n",
    "|----|---|---|---|\n",
    "|A\t|0\t|1\t|0  |\n",
    "|C\t|0\t|0\t|0  |\n",
    "|G \t|2\t|2\t|2  |\n",
    "|T\t|1\t|0\t|1  |\n",
    "\n",
    "De esta tabla podemos leer que la base A aparece una vez en el índice 1 en las cadenas de ADN, la base C no aparece en absoluto, la base G aparece dos veces en todas las posiciones y la base T aparece una vez al principio y al final de las cadenas.\n",
    "\n",
    "a. Dada una lista de Strings con motivos de 4 nucleótidos, construir una matriz de frecuencias para las posiciones de los 4 nucleótidos. \n",
    "\n",
    "Ejemplo:<br>\n",
    "listamotivos =[\"ACTG\", \"CCAG\", \"AGAG\", \"CGTA\"]<br>\n",
    "MatrizFrecuencia(listamotivos)<br>\n",
    "Out: [[2, 0, 2, 1]<br>\n",
    " [2, 2, 0, 0]<br>\n",
    " [0, 2, 0, 3]<br>\n",
    " [0, 0, 2, 0]]<br>\n",
    " \n",
    "b. Realizar una función que retorne el nucleótido que más frecuencia obtuvo por posición. Si tienen la misma frecuecia retornar los valores iguales. <br>\n",
    "Ejemplo:<br>\n",
    "FrecuenciaMayorNt(MatrizFrecuencia(listamotivos))<br>\n",
    "Out: [[A:0.5, C:0.5],<br>\n",
    "[C:0.5,G:0.5],<br>\n",
    "[A:0.5,T:0.5],<br>\n",
    "[G:0.75]]<br>"
   ]
  },
  {
   "cell_type": "code",
   "execution_count": null,
   "metadata": {},
   "outputs": [],
   "source": []
  },
  {
   "cell_type": "code",
   "execution_count": 119,
   "metadata": {},
   "outputs": [
    {
     "data": {
      "text/plain": [
       "array([[1., 1., 0., 0.],\n",
       "       [0., 1., 0., 0.],\n",
       "       [1., 0., 0., 0.],\n",
       "       [0., 0., 0., 0.]])"
      ]
     },
     "execution_count": 119,
     "metadata": {},
     "output_type": "execute_result"
    }
   ],
   "source": [
    "def MatrizFrecuencia(Motivos):\n",
    "    import numpy as np\n",
    "\n",
    "    Conteo= np.zeros( (4, len(Motivos[0])) )\n",
    "    i=0;j=0;C=[\"A\",\"C\",\"G\",\"T\"];d=0\n",
    "    while i< len(Motivos):\n",
    "        while j< len(Motivos[0]):\n",
    "            if (Motivos[i])[j]==C[d]:\n",
    "                Conteo[i,j]=Conteo[i,j]+1\n",
    "            j=j+1\n",
    "            d=d+1\n",
    "        i=i+1\n",
    "        j=0\n",
    "        d=0\n",
    "    return Conteo\n",
    "MatrizFrecuencia([\"ACTG\", \"CCAG\", \"AGAG\", \"CGTA\"])\n",
    "#Le pensé demasiado pero no fui capaz "
   ]
  },
  {
   "cell_type": "code",
   "execution_count": null,
   "metadata": {},
   "outputs": [],
   "source": []
  }
 ],
 "metadata": {
  "kernelspec": {
   "display_name": "Python 3",
   "language": "python",
   "name": "python3"
  },
  "language_info": {
   "codemirror_mode": {
    "name": "ipython",
    "version": 3
   },
   "file_extension": ".py",
   "mimetype": "text/x-python",
   "name": "python",
   "nbconvert_exporter": "python",
   "pygments_lexer": "ipython3",
   "version": "3.7.1"
  }
 },
 "nbformat": 4,
 "nbformat_minor": 2
}
