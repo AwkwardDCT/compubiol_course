{
 "cells": [
  {
   "cell_type": "markdown",
   "metadata": {},
   "source": [
    "# Taller 2 - Python\n",
    "## Fundamentos en Biología Computacional\n",
    "## 2019-1, Prof. Javier Correa\n",
    "Nota: Se calificará que el código sea lo más simple, claro, original y eficiente. No usar funciones no realizadas por ustedes mismos."
   ]
  },
  {
   "cell_type": "markdown",
   "metadata": {},
   "source": [
    "MARÍA CAMILA CASTELLANOS MEJÍA"
   ]
  },
  {
   "cell_type": "markdown",
   "metadata": {},
   "source": [
    "1. Realice un función para expresar cualquier número entero en su conotación factorial. <br>\n",
    "Ejemplo: factorial(4)<br>\n",
    "Out: 24"
   ]
  },
  {
   "cell_type": "code",
   "execution_count": 4,
   "metadata": {},
   "outputs": [],
   "source": [
    "def factor(n):\n",
    "    suma=0\n",
    "    fac=n-1\n",
    "    while fac>=1:\n",
    "        suma=n*fac+suma\n",
    "        fac=fac-1\n",
    "    return suma"
   ]
  },
  {
   "cell_type": "code",
   "execution_count": 13,
   "metadata": {},
   "outputs": [
    {
     "data": {
      "text/plain": [
       "24"
      ]
     },
     "execution_count": 13,
     "metadata": {},
     "output_type": "execute_result"
    }
   ],
   "source": [
    "factor(4)"
   ]
  },
  {
   "cell_type": "markdown",
   "metadata": {},
   "source": [
    "2. Realice un función para expresar la potencia de cualquier número. La función recibe como parámetros la base y el exponencial. <br>\n",
    "Ejemplo: potencia(4,2)<br>\n",
    "Out: 16"
   ]
  },
  {
   "cell_type": "code",
   "execution_count": 5,
   "metadata": {},
   "outputs": [],
   "source": [
    "def pot(b,e):\n",
    "    po=b**e\n",
    "    return po\n"
   ]
  },
  {
   "cell_type": "code",
   "execution_count": 23,
   "metadata": {},
   "outputs": [
    {
     "name": "stdout",
     "output_type": "stream",
     "text": [
      "49\n"
     ]
    }
   ],
   "source": [
    "print(pot(7,2))"
   ]
  },
  {
   "cell_type": "markdown",
   "metadata": {},
   "source": [
    "3. Utilizando las dos funciones anteriormente definidas (factorial y potencia), realice un función para expresar el Coseno de un entero. <br>\n",
    "Ejemplo: coseno(5)<br>\n",
    "Out: 0.996194698"
   ]
  },
  {
   "cell_type": "code",
   "execution_count": 9,
   "metadata": {},
   "outputs": [],
   "source": [
    "import math\n",
    "def coseno(x):\n",
    "    cos=1\n",
    "    n=1\n",
    "    x= (x*math.pi)/180\n",
    "    while (n<=200):\n",
    "        cos = cos + ((pot (-1, n)* pot(x,2*n))/ factor(2*n))\n",
    "        n = n + 1\n",
    "    return cos\n"
   ]
  },
  {
   "cell_type": "code",
   "execution_count": 12,
   "metadata": {},
   "outputs": [
    {
     "data": {
      "text/plain": [
       "0.9961946938127417"
      ]
     },
     "execution_count": 12,
     "metadata": {},
     "output_type": "execute_result"
    }
   ],
   "source": [
    "coseno(5)"
   ]
  },
  {
   "cell_type": "markdown",
   "metadata": {},
   "source": [
    "4. Dadas las cantidades de individuos con los genótipos AA, AB y BB. Calcular la frecuencia de los alelos A y B <br>\n",
    "Ejemplo: FrecuenciaAlelos(12,4,4) <br>\n",
    "Out: (0.7, 0.3)"
   ]
  },
  {
   "cell_type": "code",
   "execution_count": 13,
   "metadata": {},
   "outputs": [],
   "source": [
    "def f_alelos(AA,AB,BB):\n",
    "    alelos=AA+AB+BB\n",
    "    ab2=AB/2\n",
    "    fa1=(AA/alelos)+(ab2/alelos)\n",
    "    fa2=(BB/alelos)+(ab2/alelos)\n",
    "    return fa1, fa2"
   ]
  },
  {
   "cell_type": "code",
   "execution_count": null,
   "metadata": {},
   "outputs": [],
   "source": [
    "f_alelos(16,4,4)"
   ]
  },
  {
   "cell_type": "markdown",
   "metadata": {},
   "source": [
    "5. Dada una cadena de DNA retornar una de (-) RNA en sentido 5'-> 3' <br>\n",
    "Ejemplo: DNA_to_RNA(\"TCTCTACTCATGTCTGCA\")<br>\n",
    "Out: GUACUCACGUCUGCUCUC"
   ]
  },
  {
   "cell_type": "code",
   "execution_count": 4,
   "metadata": {},
   "outputs": [],
   "source": [
    "def DNA_RNA(cDNA):\n",
    "    i=0\n",
    "    x=len (cDNA)\n",
    "   \n",
    "    RNA=''\n",
    "    RNAco=''\n",
    "    for i in range (0,x):\n",
    "        ii=cDNA[i]\n",
    "        if ii=='T':\n",
    "            RNA=RNA+'A'\n",
    "        if ii=='A':\n",
    "            RNA=RNA+'U'\n",
    "        if ii=='C':\n",
    "            RNA=RNA+'G'\n",
    "        if ii=='G':\n",
    "            RNA=RNA+'C'      \n",
    "            \n",
    "    y=len(RNA)\n",
    "    for i in range (0,y):\n",
    "        rr=RNA[i]\n",
    "        if rr=='U':\n",
    "            RNAco=RNAco+'A'\n",
    "        if rr=='A':\n",
    "            RNAco=RNAco+'U'\n",
    "        if rr=='C':\n",
    "            RNAco=RNAco+'G'\n",
    "        if rr=='G':\n",
    "            RNAco=RNAco+'C'\n",
    "    \n",
    "    return RNAco[::-1]"
   ]
  },
  {
   "cell_type": "code",
   "execution_count": 120,
   "metadata": {},
   "outputs": [
    {
     "data": {
      "text/plain": [
       "'ACGUCUGUACUCAUCUCU'"
      ]
     },
     "execution_count": 120,
     "metadata": {},
     "output_type": "execute_result"
    }
   ],
   "source": [
    "DNA_RNA('TCTCTACTCATGTCTGCA')"
   ]
  },
  {
   "cell_type": "markdown",
   "metadata": {},
   "source": [
    "6. Realizar una función que calcule la Temperatura de Melting Promedio de un par de primers de DNA en grados Celcius. Teniendo en cuenta que; en un oligonucleótido < de 14 nucleótidos, la Tm se calcula multiplicando la cantidad de G+C por 4 y las A+T por 2. Mientras que, si es >= de 14 nt, se debe aplicar la siguiente fórmula (64.9 + 41 * (totalG+C -16.4) / Tamaño sel oligo). <br>\n",
    "Ejemplo: tempromelt(TCTCTACTCATGTCTGCA, TCGCGTGCACGTG)<br>\n",
    "Out: 44.88333333333334"
   ]
  },
  {
   "cell_type": "code",
   "execution_count": 95,
   "metadata": {},
   "outputs": [],
   "source": [
    "def sumagcat(p):\n",
    "    i=0\n",
    "    sumaG=0\n",
    "    sumaC=0\n",
    "    sumaT=0\n",
    "    sumaA=0  \n",
    "    T_melting=0\n",
    "    for i in range(i,len(p)):\n",
    "        if p[i]=='G':\n",
    "            sumaG=1+sumaG \n",
    "        elif p[i]=='C':\n",
    "            sumaC=1+sumaC\n",
    "        elif p[i]=='A':\n",
    "            sumaA=1+sumaA\n",
    "        elif p[i]=='T':\n",
    "            sumaT=1+sumaT\n",
    "    if (len(p)< 14):\n",
    "        T_melting=((sumaG+sumaC)*4)+((sumaA+sumaT)*2)\n",
    "        \n",
    "    elif (len(p)>=14):\n",
    "        T_melting=(64.9 + 41 * ((sumaG+sumaC) -16.4) / len(p))\n",
    "    \n",
    "    return T_melting\n",
    "                   \n",
    "    \n",
    "def promedio(primer1,primer2):\n",
    "    suma= sumagcat(primer1)+sumagcat(primer2)\n",
    "    return suma/2\n",
    "  \n",
    "\n",
    "\n",
    "\n"
   ]
  },
  {
   "cell_type": "code",
   "execution_count": 97,
   "metadata": {},
   "outputs": [
    {
     "name": "stdout",
     "output_type": "stream",
     "text": [
      "44.88333333333334\n"
     ]
    }
   ],
   "source": [
    "print(promedio(\"TCTCTACTCATGTCTGCA\", \"TCGCGTGCACGTG\"))"
   ]
  },
  {
   "cell_type": "markdown",
   "metadata": {},
   "source": [
    "7. Hallar la distancia Hamming entre dos secuencias dadas de polipéptidos. <br>\n",
    "link: https://es.wikipedia.org/wiki/Distancia_de_Hamming <br>\n",
    "Ejemplo: distancia_Hamming(\"SRSLLLRFLMSRSLLLRFLLFLLLLPPLPLFLLLLPPL\",\"SRSLLLRFLSSRSLLLRFLLFLLLLAALALFLLLLSML\")<br>\n",
    "Out:6"
   ]
  },
  {
   "cell_type": "code",
   "execution_count": 1,
   "metadata": {},
   "outputs": [],
   "source": [
    "def dham(s1,s2):\n",
    "    i=0\n",
    "    suma=0\n",
    "    for i in range (0,len(s1)):\n",
    "        c=s1[i]\n",
    "        c1=s2[i]\n",
    "        if c!=c1:\n",
    "            suma=suma+1\n",
    "        else:\n",
    "            suma=suma\n",
    "    \n",
    "    return suma      \n",
    "     "
   ]
  },
  {
   "cell_type": "code",
   "execution_count": 2,
   "metadata": {},
   "outputs": [
    {
     "data": {
      "text/plain": [
       "6"
      ]
     },
     "execution_count": 2,
     "metadata": {},
     "output_type": "execute_result"
    }
   ],
   "source": [
    "dham(\"SRSLLLRFLMSRSLLLRFLLFLLLLPPLPLFLLLLPPL\",\"SRSLLLRFLSSRSLLLRFLLFLLLLAALALFLLLLSML\")"
   ]
  },
  {
   "cell_type": "markdown",
   "metadata": {},
   "source": [
    "8. Dada la tabla de codones estandar, hacer una función para traducir una cadena de DNA empezando desde la posición 1 <br>\n",
    "Ejemplo: traducir(\"ATGGCGCGTATGAATAGCAATCCGAGCGCATGCCATGTTTGCCATGCGGCTCTGGCGGTCATTGATGCGTGCAATAACAATACCCGTAATAGCAATATCAATAGCTAA\")<br>\n",
    "Out: Met A R Met N S N P S A C H V C H A A L A V I D A C N N N T R N S N I N S Stop"
   ]
  },
  {
   "cell_type": "code",
   "execution_count": 20,
   "metadata": {},
   "outputs": [],
   "source": [
    "def codones(cadenaDNA):\n",
    "    i=0      \n",
    "    tcodones={\n",
    "    'ATA':'I ', 'ATC':'I ', 'ATT':'I ', 'ATG':'Met ',\n",
    "    'ACA':'T ', 'ACC':'T ', 'ACG':'T ', 'ACT':'T ',\n",
    "    'AAC':'N ', 'AAT':'N ', 'AAA':'K ', 'AAG':'K ',\n",
    "    'AGC':'S ', 'AGT':'S ', 'AGA':'R ', 'AGG':'R ',\n",
    "    'CTA':'L ', 'CTC':'L ', 'CTG':'L ', 'CTT':'L ',\n",
    "    'CCA':'P ', 'CCC':'P ', 'CCG':'P ', 'CCT':'P ',\n",
    "    'CAC':'H ', 'CAT':'H ', 'CAA':'Q ', 'CAG':'Q ',\n",
    "    'CGA':'R ', 'CGC':'R ', 'CGG':'R ', 'CGT':'R ',\n",
    "    'GTA':'V ', 'GTC':'V ', 'GTG':'V ', 'GTT':'V ',\n",
    "    'GCA':'A ', 'GCC':'A ', 'GCG':'A ', 'GCT':'A ',\n",
    "    'GAC':'D ', 'GAT':'D ', 'GAA':'E ', 'GAG':'E ',\n",
    "    'GGA':'G ', 'GGC':'G ', 'GGG':'G ', 'GGT':'G ',\n",
    "    'TCA':'S ', 'TCC':'S ', 'TCG':'S ', 'TCT':'S ',\n",
    "    'TTC':'F ', 'TTT':'F ', 'TTA':'L ', 'TTG':'L ',\n",
    "    'TAC':'Y ', 'TAT':'Y ', 'TAA':'Stop ', 'TAG':'Stop ',\n",
    "    'TGC':'C ', 'TGT':'C ', 'TGA':'Stop ', 'TGG':'W '}\n",
    "    \n",
    "    traducir=''\n",
    "    for i in range (0,len(cadenaDNA),3):\n",
    "        try:\n",
    "            codon=cadenaDNA[i:i+3]\n",
    "            traducir+=tcodones[codon]     \n",
    "        except:\n",
    "            pass\n",
    "    return traducir"
   ]
  },
  {
   "cell_type": "code",
   "execution_count": 21,
   "metadata": {},
   "outputs": [
    {
     "data": {
      "text/plain": [
       "'Met A R Met N S N P S A C H V C H A A L A V I D A C N N N T R N S N I N S Stop '"
      ]
     },
     "execution_count": 21,
     "metadata": {},
     "output_type": "execute_result"
    }
   ],
   "source": [
    "codones(\"ATGGCGCGTATGAATAGCAATCCGAGCGCATGCCATGTTTGCCATGCGGCTCTGGCGGTCATTGATGCGTGCAATAACAATACCCGTAATAGCAATATCAATAGCTAA\")"
   ]
  },
  {
   "cell_type": "markdown",
   "metadata": {},
   "source": [
    "9. Usando la función anterior, traducir la secuencia de DNA dada en los 6 frames posibles para producir un polipéptido.\n",
    "Ejemplo: traducirALL(\"ATGGCGCGTATGAATAGCAATCCGAGCGCATGCCATGTTTGCCATGCGGCTCTGGCGGTCATTGATGCGTGCAATAACAATACCCGTAATAGCAATATCAATAGCTAA\")<br>\n",
    "Out: (Frame1:Met A R Met N S N P S A C H V C H A A L A V I D A C N N N T R N S N I N S Stop, Frame2:W R V Stop I A I R A H A Met F A Met R L W R S L Met R A I T I P V I A I S I A, Frame3:G A Y E Stop Q S E R Met P C L P C G S G G H Stop C V Q Stop Q Y P Stop Stop Q Y Q Stop L, Frame4:L A I D I A I T G I V I A R I N D R Q S R Met A N Met A C A R I A I H T R H, Frame5:Stop L L I L L L R V L L L H A S Met T A R A A W Q T W H A L G L L F I R A, Frame6:S Y Stop Y C Y Y G Y C Y C T H Q Stop P P E P H G K H G Met R S D C Y S Y A P)"
   ]
  },
  {
   "cell_type": "code",
   "execution_count": 26,
   "metadata": {},
   "outputs": [],
   "source": [
    "def complementaria (cadenaDNA):\n",
    "    cDNA = \"\"\n",
    "    DNAt = len (cadenaDNA)\n",
    "    i = 0\n",
    "    \n",
    "    while i <= DNAt-1:\n",
    "        if cadenaDNA[i]==\"A\":\n",
    "            cDNA=cDNA+\"T\"\n",
    "        if cadenaDNA[i]==\"C\":\n",
    "            cDNA=cDNA+\"G\"\n",
    "        if cadenaDNA[i]==\"G\":\n",
    "            cDNA=cDNA+\"C\"\n",
    "        if cadenaDNA[i]==\"T\":\n",
    "            cDNA=cDNA+\"A\"\n",
    "            \n",
    "        i = i + 1\n",
    "    return cDNA\n",
    "\n",
    "def frame13 (secuencia):\n",
    "    return ((\"Frame1:\" + codones(secuencia)) + (\"Frame2:\" + codones(secuencia[1:])) + (\"Frame3:\" + codones(secuencia[2:])))\n",
    "\n",
    "def frame46 (secuencia):\n",
    "    sec_in = secuencia[::-1]\n",
    "    return ((\"Frame4:\"+ codones(complementaria(sec_in)))) + (\"Frame5:\" + codones(complementaria(sec_in[1:]))) + (\"Frame6:\" + codones(complementaria(seqinv[2:])))\n",
    "    \n",
    "def frames (secuencia):\n",
    "    sec_in = secuencia[::-1]\n",
    "    return ((\"Frame1:\" + codones(secuencia)) + (\"Frame2:\" + codones(secuencia[1:])) + (\"Frame3:\" + codones(secuencia[2:]))) + ((\"Frame4:\"+ codones(complementaria(sec_in)))) + (\"Frame5:\" + codones(complementaria(sec_in[1:]))) + (\"Frame6:\" + codones(complementaria(sec_in[2:])))"
   ]
  },
  {
   "cell_type": "code",
   "execution_count": 27,
   "metadata": {
    "scrolled": true
   },
   "outputs": [
    {
     "data": {
      "text/plain": [
       "'Frame1:Met A R Met N S N P S A C H V C H A A L A V I D A C N N N T R N S N I N S Stop Frame2:W R V Stop I A I R A H A Met F A Met R L W R S L Met R A I T I P V I A I S I A Frame3:G A Y E Stop Q S E R Met P C L P C G S G G H Stop C V Q Stop Q Y P Stop Stop Q Y Q Stop L Frame4:L A I D I A I T G I V I A R I N D R Q S R Met A N Met A C A R I A I H T R H Frame5:Stop L L I L L L R V L L L H A S Met T A R A A W Q T W H A L G L L F I R A Frame6:S Y Stop Y C Y Y G Y C Y C T H Q Stop P P E P H G K H G Met R S D C Y S Y A P '"
      ]
     },
     "execution_count": 27,
     "metadata": {},
     "output_type": "execute_result"
    }
   ],
   "source": [
    "frames(\"ATGGCGCGTATGAATAGCAATCCGAGCGCATGCCATGTTTGCCATGCGGCTCTGGCGGTCATTGATGCGTGCAATAACAATACCCGTAATAGCAATATCAATAGCTAA\")"
   ]
  },
  {
   "cell_type": "markdown",
   "metadata": {},
   "source": []
  },
  {
   "cell_type": "markdown",
   "metadata": {},
   "source": [
    "10. Su código genético es esencialmente el mismo desde que nace hasta que muere, y el mismo en su sangre y su cerebro. Los genes que se activan y desactivan marcan la diferencia entre las células. Esta regulación de los genes está orquestada por un mecanismo inmensamente complejo, que solo hemos empezado a comprender. Una parte central de este mecanismo consiste en moléculas llamadas factores de transcripción que se adhieren al ADN, y al hacerlo, activan o desactivan los genes cercanos. Estas moléculas se unen preferentemente a secuencias específicas de ADN, y este patrón de preferencia de unión puede representarse mediante una tabla de frecuencias de símbolos dados en cada posición del patrón. Más precisamente, cada fila en la tabla corresponde a las bases A, C, G y T, mientras que la columna j refleja cuántas veces aparece la base en la posición j en la secuencia del ADN.\n",
    "\n",
    "    Por ejemplo; si nuestro conjunto de secuencias de ADN son TAG, GGT y GGG, la tabla se convierte en\n",
    "\n",
    "\n",
    "|base|\t0|\t1|\t2|\n",
    "|----|---|---|---|\n",
    "|A\t|0\t|1\t|0  |\n",
    "|C\t|0\t|0\t|0  |\n",
    "|G \t|2\t|2\t|2  |\n",
    "|T\t|1\t|0\t|1  |\n",
    "\n",
    "De esta tabla podemos leer que la base A aparece una vez en el índice 1 en las cadenas de ADN, la base C no aparece en absoluto, la base G aparece dos veces en todas las posiciones y la base T aparece una vez al principio y al final de las cadenas.\n",
    "\n",
    "a. Dada una lista de Strings con motivos de 4 nucleótidos, construir una matriz de frecuencias para las posiciones de los 4 nucleótidos. \n",
    "\n",
    "Ejemplo:<br>\n",
    "listamotivos =[\"ACTG\", \"CCAG\", \"AGAG\", \"CGTA\"]<br>\n",
    "MatrizFrecuencia(listamotivos)<br>\n",
    "Out: [[2, 0, 2, 1]<br>\n",
    " [2, 2, 0, 0]<br>\n",
    " [0, 2, 0, 3]<br>\n",
    " [0, 0, 2, 0]]<br>\n",
    " \n",
    "b. Realizar una función que retorne el nucleótido que más frecuencia obtuvo por posición. Si tienen la misma frecuecia retornar los valores iguales. <br>\n",
    "Ejemplo:<br>\n",
    "FrecuenciaMayorNt(MatrizFrecuencia(listamotivos))<br>\n",
    "Out: [[A:0.5, C:0.5],<br>\n",
    "[C:0.5,G:0.5],<br>\n",
    "[A:0.5,T:0.5],<br>\n",
    "[G:0.75]]<br>"
   ]
  },
  {
   "cell_type": "code",
   "execution_count": 10,
   "metadata": {},
   "outputs": [
    {
     "data": {
      "text/plain": [
       "[[2, 0, 2, 1], [2, 2, 0, 0], [0, 2, 0, 3], [0, 0, 2, 0]]"
      ]
     },
     "execution_count": 10,
     "metadata": {},
     "output_type": "execute_result"
    }
   ],
   "source": [
    "def nbases (nucleotidos):\n",
    "    A = [0]*len(nucleotidos[0])\n",
    "    T = [0]*len(nucleotidos[0])\n",
    "    C = [0]*len(nucleotidos[0])\n",
    "    G = [0]*len(nucleotidos[0])\n",
    "    for columna in range (len(nucleotidos[0])):\n",
    "        A1 = 0\n",
    "        T1 = 0\n",
    "        G1 = 0\n",
    "        C1 = 0\n",
    "        for fila in range (len(nucleotidos)):\n",
    "            if nucleotidos[fila][columna] == 'A':\n",
    "                A1 = A1 + 1\n",
    "            elif nucleotidos[fila][columna] == 'T':\n",
    "                T1 = T1 + 1\n",
    "            elif nucleotidos[fila][columna] == 'G':\n",
    "                G1 = G1 + 1\n",
    "            elif nucleotidos[fila][columna] == 'C':\n",
    "                C1 = C1 + 1\n",
    "        A[columna] = A1\n",
    "        C[columna] = C1\n",
    "        G[columna] = G1\n",
    "        T[columna] = T1\n",
    "\n",
    "    matriz= [A, C, G, T]\n",
    "    return(matriz)\n",
    "\n",
    "nbases([\"ACTG\", \"CCAG\", \"AGAG\", \"CGTA\"])\n",
    "\n"
   ]
  },
  {
   "cell_type": "code",
   "execution_count": 17,
   "metadata": {},
   "outputs": [
    {
     "name": "stdout",
     "output_type": "stream",
     "text": [
      "(['A', 'C', '0', '0'], [0.5, 0.5])\n",
      "(['0', 'C', 'G', '0'], [0.5, 0.5])\n",
      "(['A', '0', '0', 'T'], [0.5, 0.5])\n",
      "(['0', '0', 'G', '0'], [0.75])\n"
     ]
    }
   ],
   "source": [
    "def frecposi (nucleotidos, posicion):\n",
    "    numbases = nbases([\"ACTG\", \"CCAG\", \"AGAG\", \"CGTA\"])\n",
    "    freq = [0]*len(numbases[0])\n",
    "    for fila in range (len(numbases[0])):\n",
    "        freq[fila] = numbases[fila][posicion]/len(numbases[0])\n",
    "        \n",
    "    return(freq)\n",
    "\n",
    "def freqmayor (nucleotidos, posicion):\n",
    "    fp = frecposi(nucleotidos,posicion) \n",
    "    mayor  = max(fp)\n",
    "    tmño = 0\n",
    "    for fila in range (len(fp)):\n",
    "        if fp[fila] == mayor:\n",
    "            tmño = tmño+1\n",
    "    posim = [0]*len(fp)\n",
    "    nucleotidos= [0]*tmño\n",
    "    for fila in range (len(fp)):\n",
    "        if fp[fila] == mayor:\n",
    "            for columna in range (tmño):\n",
    "                posim[fila] = fila+1\n",
    "                nucleotidos[columna] = fp[fila]\n",
    "                \n",
    "                \n",
    "    return(posim,nucleotidos)\n",
    "        \n",
    "\n",
    "def resultado (nucleotidos, posicion):\n",
    "    l = freqmayor(nucleotidos, posicion)\n",
    "    for k in range (4):\n",
    "        if l[0][k] == 1:\n",
    "            l[0][k] = 'A'\n",
    "        elif l[0][k] == 2:\n",
    "            l[0][k] = 'C'\n",
    "        elif l[0][k] == 3:\n",
    "            l[0][k] = 'G'\n",
    "        elif l[0][k] == 4:\n",
    "            l[0][k] = 'T'\n",
    "    for k in range (4):\n",
    "        l[0][k] = str(l[0][k])\n",
    "    return(l)\n",
    "\n",
    "resultado([\"ACTG\", \"CCAG\", \"AGAG\", \"CGTA\"],0)\n",
    "\n",
    "for m in range (4):\n",
    "    print(resultado([\"ACTG\", \"CCAG\", \"AGAG\", \"CGTA\"],m))"
   ]
  },
  {
   "cell_type": "code",
   "execution_count": null,
   "metadata": {},
   "outputs": [],
   "source": []
  }
 ],
 "metadata": {
  "kernelspec": {
   "display_name": "Python 3",
   "language": "python",
   "name": "python3"
  },
  "language_info": {
   "codemirror_mode": {
    "name": "ipython",
    "version": 3
   },
   "file_extension": ".py",
   "mimetype": "text/x-python",
   "name": "python",
   "nbconvert_exporter": "python",
   "pygments_lexer": "ipython3",
   "version": "3.7.1"
  }
 },
 "nbformat": 4,
 "nbformat_minor": 2
}
