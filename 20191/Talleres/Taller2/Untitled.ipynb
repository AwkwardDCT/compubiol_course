{
 "cells": [
  {
   "cell_type": "code",
   "execution_count": null,
   "metadata": {},
   "outputs": [],
   "source": [
    "import numpy as np\n",
    "def MatrizFrecuencia(lis=[]):\n",
    "    col = lis[0]\n",
    "    col = len(col)\n",
    "    i=0\n",
    "    pos=0\n",
    "    conA=0\n",
    "    conC=0\n",
    "    conG=0\n",
    "    conT=0\n",
    "    matriz = np.zeros((4,col))\n",
    "    while (i<col):\n",
    "        while (pos<len(lis)):\n",
    "            cadena = lis[pos]\n",
    "            if (cadena[i]=='A'):\n",
    "                conA = conA + 1\n",
    "            elif (cadena[i]=='C'):\n",
    "                conC = conC + 1\n",
    "            elif (cadena[i]=='G'):\n",
    "                conG = conG + 1\n",
    "            elif (cadena[i]=='T'): \n",
    "                conT = conT + 1\n",
    "            pos = pos +1\n",
    "        matriz[0][i]=conA\n",
    "        matriz[1][i]=conC\n",
    "        matriz[2][i]=conG\n",
    "        matriz[3][i]=conT\n",
    "        i = i +1\n",
    "        pos=0\n",
    "        conA=0\n",
    "        conC=0\n",
    "        conG=0\n",
    "        conT=0\n",
    "    return matriz\n",
    "def FrecuenciaMayorNt(lista=[]):\n",
    "    col = lista[0] #numero de columnas\n",
    "    col = len(col)\n",
    "    matriz_fr=MatrizFrecuencia(lista)\n",
    "    contador=0 #contador\n",
    "    k=0 #contador2\n",
    "    i=0 #filas\n",
    "    pos=0 #arreglos dentro de la lista\n",
    "    mayor=0 #numero mayor\n",
    "    lismayor=np.zeros(col) #lista de mayores en x posición\n",
    "    fmayor=0 #fila en donde se encuentra el mayor\n",
    "    \n",
    "    while(i<col):\n",
    "        while(k<col):\n",
    "            mayor=max(matriz_fr[:,k])\n",
    "        \n",
    "    \n",
    "    return final\n"
   ]
  },
  {
   "cell_type": "code",
   "execution_count": null,
   "metadata": {},
   "outputs": [],
   "source": [
    "print(MatrizFrecuencia([\"ACTGA\", \"CCAGA\", \"AGAGA\", \"CGTAA\"]))"
   ]
  },
  {
   "cell_type": "code",
   "execution_count": null,
   "metadata": {},
   "outputs": [],
   "source": []
  }
 ],
 "metadata": {
  "kernelspec": {
   "display_name": "Python 3",
   "language": "python",
   "name": "python3"
  },
  "language_info": {
   "codemirror_mode": {
    "name": "ipython",
    "version": 3
   },
   "file_extension": ".py",
   "mimetype": "text/x-python",
   "name": "python",
   "nbconvert_exporter": "python",
   "pygments_lexer": "ipython3",
   "version": "3.6.5"
  }
 },
 "nbformat": 4,
 "nbformat_minor": 2
}
