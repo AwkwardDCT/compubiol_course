{
 "cells": [
  {
   "cell_type": "markdown",
   "metadata": {},
   "source": [
    "# Taller 2 - Python\n",
    "## Fundamentos en Biología Computacional\n",
    "## 2019-1, Prof. Javier Correa\n",
    "Nota: Se calificará que el código sea lo más simple, claro, original y eficiente. No usar funciones no realizadas por ustedes mismos."
   ]
  },
  {
   "cell_type": "markdown",
   "metadata": {},
   "source": [
    "1. Realice un función para expresar cualquier número entero en su conotación factorial. <br>\n",
    "Ejemplo: factorial(4)<br>\n",
    "Out: 24"
   ]
  },
  {
   "cell_type": "code",
   "execution_count": 52,
   "metadata": {},
   "outputs": [
    {
     "data": {
      "text/plain": [
       "24"
      ]
     },
     "execution_count": 52,
     "metadata": {},
     "output_type": "execute_result"
    }
   ],
   "source": [
    "def factorial(num):\n",
    "    i=1\n",
    "    mul=1\n",
    "    while i<=num:\n",
    "        mul=mul*i\n",
    "        i=i+1\n",
    "    return mul\n",
    "\n",
    "\n",
    "factorial(4)"
   ]
  },
  {
   "cell_type": "markdown",
   "metadata": {},
   "source": [
    "2. Realice un función para expresar la potencia de cualquier número. La función recibe como parámetros la base y el exponencial. <br>\n",
    "Ejemplo: potencia(4,2)<br>\n",
    "Out: 16"
   ]
  },
  {
   "cell_type": "code",
   "execution_count": 53,
   "metadata": {},
   "outputs": [
    {
     "data": {
      "text/plain": [
       "125"
      ]
     },
     "execution_count": 53,
     "metadata": {},
     "output_type": "execute_result"
    }
   ],
   "source": [
    "def expo(base,exp):\n",
    "    i=1\n",
    "    potencia=0\n",
    "    multiplica=1\n",
    "    while i<=exp:\n",
    "        multiplica=base**exp\n",
    "        i=i+1\n",
    "    return multiplica\n",
    "\n",
    "expo(5,3)"
   ]
  },
  {
   "cell_type": "markdown",
   "metadata": {},
   "source": [
    "3. Utilizando las dos funciones anteriormente definidas (factorial y potencia), realice un función para expresar el Coseno de un entero. <br>\n",
    "Ejemplo: coseno(5)<br>\n",
    "Out: 0.996194698"
   ]
  },
  {
   "cell_type": "code",
   "execution_count": 54,
   "metadata": {},
   "outputs": [
    {
     "data": {
      "text/plain": [
       "0.9961946803061181"
      ]
     },
     "execution_count": 54,
     "metadata": {},
     "output_type": "execute_result"
    }
   ],
   "source": [
    "def cos(ang):\n",
    "    angg=(3.1416/180)*ang\n",
    "    suma=0\n",
    "    i=0\n",
    "    total=0\n",
    "    while i<=10:\n",
    "        suma=((-1)**i)*(expo(angg,2*i)/(factorial(2*i)))\n",
    "        total=total+suma\n",
    "        i=i+1\n",
    "    return total\n",
    "\n",
    "cos(5)"
   ]
  },
  {
   "cell_type": "markdown",
   "metadata": {},
   "source": [
    "4. Dadas las cantidades de individuos con los genótipos AA, AB y BB. Calcular la frecuencia de los alelos A y B <br>\n",
    "Ejemplo: FrecuenciaAlelos(12,4,4) <br>\n",
    "Out: (0.7, 0.3)"
   ]
  },
  {
   "cell_type": "code",
   "execution_count": 55,
   "metadata": {},
   "outputs": [
    {
     "data": {
      "text/plain": [
       "(0.7, 0.3)"
      ]
     },
     "execution_count": 55,
     "metadata": {},
     "output_type": "execute_result"
    }
   ],
   "source": [
    "def FrecuenciaAlelos(AA,AB,BB):\n",
    "    total=AA+AB+BB\n",
    "    ABdiv=AB/2\n",
    "    AleloA=(AA+ABdiv)/total\n",
    "    AleloB=(BB+ABdiv)/total\n",
    "    \n",
    "    return AleloA,AleloB\n",
    "\n",
    "FrecuenciaAlelos(12,4,4)"
   ]
  },
  {
   "cell_type": "markdown",
   "metadata": {},
   "source": [
    "5. Dada una cadena de DNA retornar una de (-) RNA en sentido 5'-> 3' <br>\n",
    "Ejemplo: DNA_to_RNA(\"TCTCTACTCATGTCTGCA\")<br>\n",
    "Out: GUACUCACGUCUGCUCUC"
   ]
  },
  {
   "cell_type": "code",
   "execution_count": 56,
   "metadata": {},
   "outputs": [
    {
     "data": {
      "text/plain": [
       "'Este es tu RNA: AGAGAUGAGUACAGACGU Y este es tu RNA (-): UGCAGACAUGAGUAGAGA'"
      ]
     },
     "execution_count": 56,
     "metadata": {},
     "output_type": "execute_result"
    }
   ],
   "source": [
    "def DNA_to_RNA(DNA53):\n",
    "    RNA=''\n",
    "    DNAsize=len(DNA53)\n",
    "    i=0\n",
    "\n",
    "    while i <= DNAsize-1:\n",
    "        if DNA53[i]=='A':\n",
    "            RNA=RNA+'U'\n",
    "        if DNA53[i]=='T':\n",
    "            RNA=RNA+'A'\n",
    "        if DNA53[i]=='C':\n",
    "            RNA=RNA+'G'\n",
    "        if DNA53[i]=='G':\n",
    "            RNA=RNA+'C'\n",
    "        i=i+1\n",
    "    \n",
    "    return \"Este es tu RNA: \" + RNA + \" Y este es tu RNA (-): \" +RNA[::-1]\n",
    "\n",
    "DNA_to_RNA(\"TCTCTACTCATGTCTGCA\")"
   ]
  },
  {
   "cell_type": "markdown",
   "metadata": {},
   "source": [
    "6. Realizar una función que calcule la Temperatura de Melting Promedio de un par de primers de DNA en grados Celcius. Teniendo en cuenta que; en un oligonucleótido < de 14 nucleótidos, la Tm se calcula multiplicando la cantidad de G+C por 4 y las A+T por 2. Mientras que, si es >= de 14 nt, se debe aplicar la siguiente fórmula (64.9 + 41 * (totalG+C -16.4) / Tamaño sel oligo). <br>\n",
    "Ejemplo: tempromelt(TCTCTACTCATGTCTGCA, TCGCGTGCACGTG)<br>\n",
    "Out: 44.88333333333334"
   ]
  },
  {
   "cell_type": "code",
   "execution_count": 57,
   "metadata": {},
   "outputs": [
    {
     "data": {
      "text/plain": [
       "'La temperatura promedio es: 44.88333333333334'"
      ]
     },
     "execution_count": 57,
     "metadata": {},
     "output_type": "execute_result"
    }
   ],
   "source": [
    "def tempromelt(primer1,primer2):\n",
    "    \n",
    "    if(len(primer1))<14:\n",
    "        contarGC1=0\n",
    "        contarAT1=0\n",
    "        i=0\n",
    "        while i<=len(primer1)-1:\n",
    "            if primer1[i]=='G':\n",
    "                contarGC1=contarGC1+1\n",
    "            if primer1[i]=='C':\n",
    "                contarGC1=contarGC1+1\n",
    "            if primer1[i]=='A':\n",
    "                contarAT1=contarAT1+1\n",
    "            if primer1[i]=='T':\n",
    "                contarAT1=contarAT1+1\n",
    "            i=i+1\n",
    "\n",
    "        AT1=contarAT1\n",
    "        GC1=contarGC1\n",
    "        Tm1=(GC1*4)+(AT1*2)\n",
    "        #return \"Su primer 1 tiene una Tm de: \"+str(Tm1)\n",
    "    \n",
    "    if(len(primer1))>=14:\n",
    "        \n",
    "        contarGC1=0\n",
    "        contarAT1=0\n",
    "        i=0\n",
    "        while i<=len(primer1)-1:\n",
    "            if primer1[i]=='G':\n",
    "                contarGC1=contarGC1+1\n",
    "            if primer1[i]=='C':\n",
    "                contarGC1=contarGC1+1\n",
    "            if primer1[i]=='A':\n",
    "                contarAT1=contarAT1+1\n",
    "            if primer1[i]=='T':\n",
    "                contarAT1=contarAT1+1\n",
    "            i=i+1\n",
    "            \n",
    "        AT1=contarAT1\n",
    "        GC1=contarGC1\n",
    "        Tm1=(64.9 + 41 * (GC1-16.4) /(len(primer1)))\n",
    "        #return \"Su primer 1 tiene una Tm de: \"+str(Tm1)        \n",
    "             \n",
    "    if (len(primer2))<14:\n",
    "        contarGC2=0\n",
    "        contarAT2=0\n",
    "        d=0 \n",
    "        while d<=len(primer2)-1:\n",
    "            if primer2[d]=='G':\n",
    "                contarGC2=contarGC2+1\n",
    "            if primer2[d]=='C':\n",
    "                contarGC2=contarGC2+1\n",
    "            if primer2[d]=='A':\n",
    "                contarAT2=contarAT2+1\n",
    "            if primer2[d]=='T':\n",
    "                contarAT2=contarAT2+1                \n",
    "            d=d+1\n",
    "\n",
    "        AT2=contarAT2\n",
    "        GC2=contarGC2\n",
    "        Tm2=(GC2*4)+(AT2*2)\n",
    "        #return \"Su primer 2 tiene una Tm de: \"+str(Tm2)\n",
    "    \n",
    "    if (len(primer2))>=14:        \n",
    "        contarGC2=0\n",
    "        contarAT2=0\n",
    "        d=0\n",
    "        while d<=len(primer2)-1:\n",
    "            if primer2[d]=='G':\n",
    "                contarGC2=contarGC2+1\n",
    "            if primer2[d]=='C':\n",
    "                contarGC2=contarGC2+1\n",
    "            if primer2[d]=='A':\n",
    "                contarAT2=contarAT2+1\n",
    "            if primer2[d]=='T':\n",
    "                contarAT2=contarAT2+1                \n",
    "            d=d+1            \n",
    "            \n",
    "        AT2=contarAT2\n",
    "        GC2=contarGC2\n",
    "        \n",
    "        Tm2=(64.9 + 41 * (GC1-16.4) /(len(primer2)))\n",
    "        #return \"Su primer 2 tiene una Tm de: \"+str(Tm2)\n",
    "    \n",
    "    Tmprom=(Tm1+Tm2)/2\n",
    "    return \"La temperatura promedio es: \"+str(Tmprom)\n",
    "        \n",
    "\n",
    "tempromelt(\"TCTCTACTCATGTCTGCA\", \"TCGCGTGCACGTG\")"
   ]
  },
  {
   "cell_type": "markdown",
   "metadata": {},
   "source": [
    "7. Hallar la distancia Hamming entre dos secuencias dadas de polipéptidos. <br>\n",
    "link: https://es.wikipedia.org/wiki/Distancia_de_Hamming <br>\n",
    "Ejemplo: distancia_Hamming(\"SRSLLLRFLMSRSLLLRFLLFLLLLPPLPLFLLLLPPL\",\"SRSLLLRFLSSRSLLLRFLLFLLLLAALALFLLLLSML\")<br>\n",
    "Out:6"
   ]
  },
  {
   "cell_type": "code",
   "execution_count": 58,
   "metadata": {},
   "outputs": [
    {
     "data": {
      "text/plain": [
       "'La distancia Hamming es: 6'"
      ]
     },
     "execution_count": 58,
     "metadata": {},
     "output_type": "execute_result"
    }
   ],
   "source": [
    "def distancia_Hamming(polipeptido1,polipeptido2):\n",
    "    i=1\n",
    "    suma=0\n",
    "    \n",
    "    \n",
    "    if len(polipeptido1)==len(polipeptido2):\n",
    "        \n",
    "        while i<=len(polipeptido1)-1:\n",
    "            \n",
    "            if polipeptido1[i]!=polipeptido2[i]:\n",
    "                suma=suma+1\n",
    "            \n",
    "            i=i+1\n",
    "        \n",
    "        return \"La distancia Hamming es: \"+str(suma)\n",
    "    \n",
    "    else:\n",
    "        \n",
    "        return \"Los polipéptidos no son iguales\"\n",
    "                \n",
    "\n",
    "\n",
    "distancia_Hamming(\"SRSLLLRFLMSRSLLLRFLLFLLLLPPLPLFLLLLPPL\",\"SRSLLLRFLSSRSLLLRFLLFLLLLAALALFLLLLSML\")"
   ]
  },
  {
   "cell_type": "markdown",
   "metadata": {},
   "source": [
    "8. Dada la tabla de codones estandar, hacer una función para traducir una cadena de DNA empezando desde la posición 1 <br>\n",
    "Ejemplo: traducir(\"ATGGCGCGTATGAATAGCAATCCGAGCGCATGCCATGTTTGCCATGCGGCTCTGGCGGTCATTGATGCGTGCAATAACAATACCCGTAATAGCAATATCAATAGCTAA\")<br>\n",
    "Out: Met A R Met N S N P S A C H V C H A A L A V I D A C N N N T R N S N I N S Stop"
   ]
  },
  {
   "cell_type": "code",
   "execution_count": 97,
   "metadata": {},
   "outputs": [
    {
     "name": "stdout",
     "output_type": "stream",
     "text": [
      "['Met', 'Ala', 'Arg', 'Met', 'Asn', 'Ser', 'Asn', 'Pro', 'Ser', 'Ala', 'Cys', 'His', 'Val', 'Cys', 'His', 'Ala', 'Ala', 'Leu', 'Ala', 'Val', 'Ile', 'Asp', 'Ala', 'Cys', 'Asn', 'Asn', 'Asn', 'Thr', 'Arg', 'Asn', 'Ser', 'Asn', 'Ile', 'Asn', 'Ser', 'STOP']\n"
     ]
    }
   ],
   "source": [
    "def traduzco(codon):\n",
    "    \n",
    "    #Primera columna\n",
    "    \n",
    "    tabla_codones = {}\n",
    "    tabla_codones[\"TTT\"] = [\"Phe\"]\n",
    "    tabla_codones[\"TTC\"] = [\"Phe\"]\n",
    "    tabla_codones[\"TTA\"] = [\"Leu\"]\n",
    "    tabla_codones[\"TTG\"] = [\"Leu\"]\n",
    "    \n",
    "    tabla_codones[\"CTT\"] = [\"Leu\"]\n",
    "    tabla_codones[\"CTC\"] = [\"Leu\"]\n",
    "    tabla_codones[\"CTA\"] = [\"Leu\"]\n",
    "    tabla_codones[\"CTG\"] = [\"Leu\"]\n",
    "    \n",
    "    tabla_codones[\"ATT\"] = [\"Ile\"]\n",
    "    tabla_codones[\"ATC\"] = [\"Ile\"]\n",
    "    tabla_codones[\"ATA\"] = [\"Ile\"]\n",
    "    tabla_codones[\"ATG\"] = [\"Met\"]\n",
    "    \n",
    "    tabla_codones[\"GTT\"] = [\"Val\"]\n",
    "    tabla_codones[\"GTC\"] = [\"Val\"]\n",
    "    tabla_codones[\"GTA\"] = [\"Val\"]\n",
    "    tabla_codones[\"GTG\"] = [\"Val\"]\n",
    "    \n",
    "    #Segunda columna\n",
    "    \n",
    "    tabla_codones[\"TCT\"] = [\"Ser\"]\n",
    "    tabla_codones[\"TCC\"] = [\"Ser\"]\n",
    "    tabla_codones[\"TCA\"] = [\"Ser\"]\n",
    "    tabla_codones[\"TCG\"] = [\"Ser\"]\n",
    "    \n",
    "    tabla_codones[\"CCT\"] = [\"Pro\"]\n",
    "    tabla_codones[\"CCC\"] = [\"Pro\"]\n",
    "    tabla_codones[\"CCA\"] = [\"Pro\"]\n",
    "    tabla_codones[\"CCG\"] = [\"Pro\"]\n",
    "    \n",
    "    tabla_codones[\"ACT\"] = [\"Thr\"]\n",
    "    tabla_codones[\"ACC\"] = [\"Thr\"]\n",
    "    tabla_codones[\"ACA\"] = [\"Thr\"]\n",
    "    tabla_codones[\"ACG\"] = [\"Thr\"]\n",
    "    \n",
    "    tabla_codones[\"GCT\"] = [\"Ala\"]\n",
    "    tabla_codones[\"GCC\"] = [\"Ala\"]\n",
    "    tabla_codones[\"GCA\"] = [\"Ala\"]\n",
    "    tabla_codones[\"GCG\"] = [\"Ala\"]\n",
    "    \n",
    "    #Tercera columna\n",
    "\n",
    "    tabla_codones[\"TAT\"] = [\"Tyr\"]\n",
    "    tabla_codones[\"TAC\"] = [\"Tyr\"]\n",
    "    tabla_codones[\"TAA\"] = [\"STOP\"]\n",
    "    tabla_codones[\"TAG\"] = [\"STOP\"]\n",
    "    \n",
    "    tabla_codones[\"CAT\"] = [\"His\"]\n",
    "    tabla_codones[\"CAC\"] = [\"His\"]\n",
    "    tabla_codones[\"CAA\"] = [\"Gln\"]\n",
    "    tabla_codones[\"CAG\"] = [\"Gln\"]\n",
    "    \n",
    "    tabla_codones[\"AAT\"] = [\"Asn\"]\n",
    "    tabla_codones[\"AAC\"] = [\"Asn\"]\n",
    "    tabla_codones[\"AAA\"] = [\"Lys\"]\n",
    "    tabla_codones[\"AAG\"] = [\"Lys\"]\n",
    "\n",
    "    tabla_codones[\"GAT\"] = [\"Asp\"]\n",
    "    tabla_codones[\"GAC\"] = [\"Asp\"]\n",
    "    tabla_codones[\"GAA\"] = [\"Glu\"]\n",
    "    tabla_codones[\"GAG\"] = [\"Glu\"]\n",
    "    \n",
    "    #Cuarta columna\n",
    "    \n",
    "    tabla_codones[\"TGT\"] = [\"Cys\"]\n",
    "    tabla_codones[\"TGC\"] = [\"Cys\"]\n",
    "    tabla_codones[\"TGA\"] = [\"STOP\"]\n",
    "    tabla_codones[\"TGG\"] = [\"Trp\"]\n",
    "    \n",
    "    tabla_codones[\"CGT\"] = [\"Arg\"]\n",
    "    tabla_codones[\"CGC\"] = [\"Arg\"]\n",
    "    tabla_codones[\"CGA\"] = [\"Arg\"]\n",
    "    tabla_codones[\"CGG\"] = [\"Arg\"]\n",
    "    \n",
    "    tabla_codones[\"AGT\"] = [\"Ser\"]\n",
    "    tabla_codones[\"AGC\"] = [\"Ser\"]\n",
    "    tabla_codones[\"AGA\"] = [\"Arg\"]\n",
    "    tabla_codones[\"AGG\"] = [\"Arg\"]\n",
    "    \n",
    "    tabla_codones[\"GGT\"] = [\"Gly\"]\n",
    "    tabla_codones[\"GGC\"] = [\"Gly\"]\n",
    "    tabla_codones[\"GGA\"] = [\"Gly\"]\n",
    "    tabla_codones[\"GGG\"] = [\"Gly\"]\n",
    "\n",
    "    return tabla_codones[codon]\n",
    "\n",
    "def traducir (DNAcod):\n",
    "    i=0\n",
    "    d=3\n",
    "    codones=[]\n",
    "    while i <=len(DNAcod)-1:\n",
    "        codones=codones + (traduzco(DNAcod[i:d]))\n",
    "        i=i+3\n",
    "        d=d+3\n",
    "    \n",
    "    print(codones)\n",
    "    \n",
    "    \n",
    "traducir(\"ATGGCGCGTATGAATAGCAATCCGAGCGCATGCCATGTTTGCCATGCGGCTCTGGCGGTCATTGATGCGTGCAATAACAATACCCGTAATAGCAATATCAATAGCTAA\")"
   ]
  },
  {
   "cell_type": "markdown",
   "metadata": {},
   "source": [
    "9. Usando la función anterior, traducir la secuencia de DNA dada en los 6 frames posibles para producir un polipéptido.\n",
    "Ejemplo: traducirALL(\"ATGGCGCGTATGAATAGCAATCCGAGCGCATGCCATGTTTGCCATGCGGCTCTGGCGGTCATTGATGCGTGCAATAACAATACCCGTAATAGCAATATCAATAGCTAA\")<br>\n",
    "Out: (Frame1:Met A R Met N S N P S A C H V C H A A L A V I D A C N N N T R N S N I N S Stop, Frame2:W R V Stop I A I R A H A Met F A Met R L W R S L Met R A I T I P V I A I S I A, Frame3:G A Y E Stop Q S E R Met P C L P C G S G G H Stop C V Q Stop Q Y P Stop Stop Q Y Q Stop L, Frame4:L A I D I A I T G I V I A R I N D R Q S R Met A N Met A C A R I A I H T R H, Frame5:Stop L L I L L L R V L L L H A S Met T A R A A W Q T W H A L G L L F I R A, Frame6:S Y Stop Y C Y Y G Y C Y C T H Q Stop P P E P H G K H G Met R S D C Y S Y A P)"
   ]
  },
  {
   "cell_type": "code",
   "execution_count": 160,
   "metadata": {},
   "outputs": [
    {
     "name": "stdout",
     "output_type": "stream",
     "text": [
      "FRAME 1:  ['Met', 'Ala', 'Arg', 'Met', 'Asn', 'Ser', 'Asn', 'Pro', 'Ser', 'Ala', 'Cys', 'His', 'Val', 'Cys', 'His', 'Ala', 'Ala', 'Leu', 'Ala', 'Val', 'Ile', 'Asp', 'Ala', 'Cys', 'Asn', 'Asn', 'Asn', 'Thr', 'Arg', 'Asn', 'Ser', 'Asn', 'Ile', 'Asn', 'Ser', 'STOP']\n",
      "\n",
      "FRAME 2:  ['Trp', 'Arg', 'Val', 'STOP', 'Ile', 'Ala', 'Ile', 'Arg', 'Ala', 'His', 'Ala', 'Met', 'Phe', 'Ala', 'Met', 'Arg', 'Leu', 'Trp', 'Arg', 'Ser', 'Leu', 'Met', 'Arg', 'Ala', 'Ile', 'Thr', 'Ile', 'Pro', 'Val', 'Ile', 'Ala', 'Ile', 'Ser', 'Ile', 'Ala']\n",
      "\n",
      "FRAME 3:  ['Gly', 'Ala', 'Tyr', 'Glu', 'STOP', 'Gln', 'Ser', 'Glu', 'Arg', 'Met', 'Pro', 'Cys', 'Leu', 'Pro', 'Cys', 'Gly', 'Ser', 'Gly', 'Gly', 'His', 'STOP', 'Cys', 'Val', 'Gln', 'STOP', 'Gln', 'Tyr', 'Pro', 'STOP', 'STOP', 'Gln', 'Tyr', 'Gln', 'STOP', 'Leu']\n",
      "\n",
      "FRAME 4:  ['Leu', 'Ala', 'Ile', 'Asp', 'Ile', 'Ala', 'Ile', 'Thr', 'Gly', 'Ile', 'Val', 'Ile', 'Ala', 'Arg', 'Ile', 'Asn', 'Asp', 'Arg', 'Gln', 'Ser', 'Arg', 'Met', 'Ala', 'Asn', 'Met', 'Ala', 'Cys', 'Ala', 'Arg', 'Ile', 'Ala', 'Ile', 'His', 'Thr', 'Arg', 'His']\n",
      "\n",
      "FRAME 5:  ['STOP', 'Leu', 'Leu', 'Ile', 'Leu', 'Leu', 'Leu', 'Arg', 'Val', 'Leu', 'Leu', 'Leu', 'His', 'Ala', 'Ser', 'Met', 'Thr', 'Ala', 'Arg', 'Ala', 'Ala', 'Trp', 'Gln', 'Thr', 'Trp', 'His', 'Ala', 'Leu', 'Gly', 'Leu', 'Leu', 'Phe', 'Ile', 'Arg', 'Ala']\n",
      "\n",
      "FRAME 6:  ['Ser', 'Tyr', 'STOP', 'Tyr', 'Cys', 'Tyr', 'Tyr', 'Gly', 'Tyr', 'Cys', 'Tyr', 'Cys', 'Thr', 'His', 'Gln', 'STOP', 'Pro', 'Pro', 'Glu', 'Pro', 'His', 'Gly', 'Lys', 'His', 'Gly', 'Met', 'Arg', 'Ser', 'Asp', 'Cys', 'Tyr', 'Ser', 'Tyr', 'Ala', 'Pro']\n",
      "\n"
     ]
    }
   ],
   "source": [
    "def traducirALL (DNAcodificante):\n",
    "    f1=0\n",
    "    s1=3\n",
    "    codones1=[]\n",
    "    while f1 <=len(DNAcodificante)-1:\n",
    "        codones1=codones1 + (traduzco(DNAcodificante[f1:s1]))\n",
    "        f1=f1+3\n",
    "        s1=s1+3\n",
    "        \n",
    "    print(\"FRAME 1: \",codones1)\n",
    "    print('')\n",
    "    \n",
    "    f2=1\n",
    "    s2=4\n",
    "    codones2=[]\n",
    "    while f2 <=len(DNAcodificante)-3:\n",
    "        codones2=codones2 + (traduzco(DNAcodificante[f2:s2]))\n",
    "        f2=f2+3\n",
    "        s2=s2+3\n",
    "    \n",
    "    print(\"FRAME 2: \",codones2)\n",
    "    print('')\n",
    "    \n",
    "    f3=2\n",
    "    s3=5\n",
    "    codones3=[]\n",
    "    while f3 <=len(DNAcodificante)-3:\n",
    "        codones3=codones3 + (traduzco(DNAcodificante[f3:s3]))\n",
    "        f3=f3+3\n",
    "        s3=s3+3\n",
    "    \n",
    "    print(\"FRAME 3: \",codones3)\n",
    "    print('')    \n",
    "    \n",
    "    \n",
    "    Comp=''\n",
    "    DNAsize=len(DNAcodificante)\n",
    "    yy=0\n",
    "\n",
    "    while yy <= DNAsize-1:\n",
    "        if DNAcodificante[yy]=='A':\n",
    "            Comp=Comp+'T'\n",
    "        if DNAcodificante[yy]=='T':\n",
    "            Comp=Comp+'A'\n",
    "        if DNAcodificante[yy]=='C':\n",
    "            Comp=Comp+'G'\n",
    "        if DNAcodificante[yy]=='G':\n",
    "            Comp=Comp+'C'\n",
    "        yy=yy+1\n",
    "    \n",
    "    Compr=Comp[::-1]\n",
    "    f4=0\n",
    "    s4=3\n",
    "    codones4=[]\n",
    "    while f4 <=len(Comp)-1:\n",
    "        codones4=codones4 + (traduzco(Compr[f4:s4]))\n",
    "        f4=f4+3\n",
    "        s4=s4+3\n",
    "        \n",
    "    print(\"FRAME 4: \",codones4)\n",
    "    print('')\n",
    "    \n",
    "    \n",
    "    f5=1\n",
    "    s5=4\n",
    "    codones5=[]\n",
    "    while f5 <=len(Comp)-3:\n",
    "        codones5=codones5 + (traduzco(Compr[f5:s5]))\n",
    "        f5=f5+3\n",
    "        s5=s5+3\n",
    "        \n",
    "    print(\"FRAME 5: \",codones5)\n",
    "    print('')\n",
    "    \n",
    "    \n",
    "    f6=2\n",
    "    s6=5\n",
    "    codones6=[]\n",
    "    while f6 <=len(Comp)-3:\n",
    "        codones6=codones6 + (traduzco(Compr[f6:s6]))\n",
    "        f6=f6+3\n",
    "        s6=s6+3\n",
    "        \n",
    "    print(\"FRAME 6: \",codones6)\n",
    "    print('')\n",
    "    \n",
    "    \n",
    "    \n",
    "    \n",
    "traducirALL(\"ATGGCGCGTATGAATAGCAATCCGAGCGCATGCCATGTTTGCCATGCGGCTCTGGCGGTCATTGATGCGTGCAATAACAATACCCGTAATAGCAATATCAATAGCTAA\")"
   ]
  },
  {
   "cell_type": "markdown",
   "metadata": {},
   "source": [
    "$$FRAME 1:  ['Met', 'Ala', 'Arg', 'Met', 'Asn', 'Ser', 'Asn', 'Pro', 'Ser', 'Ala', 'Cys', 'His', 'Val', 'Cys', 'His', 'Ala', 'Ala', 'Leu', 'Ala', 'Val', 'Ile', 'Asp', 'Ala', 'Cys', 'Asn', 'Asn', 'Asn', 'Thr', 'Arg', 'Asn', 'Ser', 'Asn', 'Ile', 'Asn', 'Ser', 'STOP']$$\n",
    "\n",
    "$$FRAME 2:  ['Trp', 'Arg', 'Val', 'STOP', 'Ile', 'Ala', 'Ile', 'Arg', 'Ala', 'His', 'Ala', 'Met', 'Phe', 'Ala', 'Met', 'Arg', 'Leu', 'Trp', 'Arg', 'Ser', 'Leu', 'Met', 'Arg', 'Ala', 'Ile', 'Thr', 'Ile', 'Pro', 'Val', 'Ile', 'Ala', 'Ile', 'Ser', 'Ile', 'Ala']$$\n",
    "\n",
    "$$FRAME 3:  ['Gly', 'Ala', 'Tyr', 'Glu', 'STOP', 'Gln', 'Ser', 'Glu', 'Arg', 'Met', 'Pro', 'Cys', 'Leu', 'Pro', 'Cys', 'Gly', 'Ser', 'Gly', 'Gly', 'His', 'STOP', 'Cys', 'Val', 'Gln', 'STOP', 'Gln', 'Tyr', 'Pro', 'STOP', 'STOP', 'Gln', 'Tyr', 'Gln', 'STOP', 'Leu']$$\n",
    "\n",
    "$$FRAME 4:  ['Leu', 'Ala', 'Ile', 'Asp', 'Ile', 'Ala', 'Ile', 'Thr', 'Gly', 'Ile', 'Val', 'Ile', 'Ala', 'Arg', 'Ile', 'Asn', 'Asp', 'Arg', 'Gln', 'Ser', 'Arg', 'Met', 'Ala', 'Asn', 'Met', 'Ala', 'Cys', 'Ala', 'Arg', 'Ile', 'Ala', 'Ile', 'His', 'Thr', 'Arg', 'His']$$\n",
    "\n",
    "$$FRAME 5:  ['STOP', 'Leu', 'Leu', 'Ile', 'Leu', 'Leu', 'Leu', 'Arg', 'Val', 'Leu', 'Leu', 'Leu', 'His', 'Ala', 'Ser', 'Met', 'Thr', 'Ala', 'Arg', 'Ala', 'Ala', 'Trp', 'Gln', 'Thr', 'Trp', 'His', 'Ala', 'Leu', 'Gly', 'Leu', 'Leu', 'Phe', 'Ile', 'Arg', 'Ala']$$\n",
    "\n",
    "$$FRAME 6:  ['Ser', 'Tyr', 'STOP', 'Tyr', 'Cys', 'Tyr', 'Tyr', 'Gly', 'Tyr', 'Cys', 'Tyr', 'Cys', 'Thr', 'His', 'Gln', 'STOP', 'Pro', 'Pro', 'Glu', 'Pro', 'His', 'Gly', 'Lys', 'His', 'Gly', 'Met', 'Arg', 'Ser', 'Asp', 'Cys', 'Tyr', 'Ser', 'Tyr', 'Ala', 'Pro'])$$"
   ]
  },
  {
   "cell_type": "markdown",
   "metadata": {},
   "source": [
    "10. Su código genético es esencialmente el mismo desde que nace hasta que muere, y el mismo en su sangre y su cerebro. Los genes que se activan y desactivan marcan la diferencia entre las células. Esta regulación de los genes está orquestada por un mecanismo inmensamente complejo, que solo hemos empezado a comprender. Una parte central de este mecanismo consiste en moléculas llamadas factores de transcripción que se adhieren al ADN, y al hacerlo, activan o desactivan los genes cercanos. Estas moléculas se unen preferentemente a secuencias específicas de ADN, y este patrón de preferencia de unión puede representarse mediante una tabla de frecuencias de símbolos dados en cada posición del patrón. Más precisamente, cada fila en la tabla corresponde a las bases A, C, G y T, mientras que la columna j refleja cuántas veces aparece la base en la posición j en la secuencia del ADN.\n",
    "\n",
    "    Por ejemplo; si nuestro conjunto de secuencias de ADN son TAG, GGT y GGG, la tabla se convierte en\n",
    "\n",
    "\n",
    "|base|\t0|\t1|\t2|\n",
    "|----|---|---|---|\n",
    "|A\t|0\t|1\t|0  |\n",
    "|C\t|0\t|0\t|0  |\n",
    "|G \t|2\t|2\t|2  |\n",
    "|T\t|1\t|0\t|1  |\n",
    "\n",
    "De esta tabla podemos leer que la base A aparece una vez en el índice 1 en las cadenas de ADN, la base C no aparece en absoluto, la base G aparece dos veces en todas las posiciones y la base T aparece una vez al principio y al final de las cadenas.\n",
    "\n",
    "a. Dada una lista de Strings con motivos de 4 nucleótidos, construir una matriz de frecuencias para las posiciones de los 4 nucleótidos. \n",
    "\n",
    "Ejemplo:<br>\n",
    "listamotivos =[\"ACTG\", \"CCAG\", \"AGAG\", \"CGTA\"]<br>\n",
    "MatrizFrecuencia(listamotivos)<br>\n",
    "Out: [[2, 0, 2, 1]<br>\n",
    " [2, 2, 0, 0]<br>\n",
    " [0, 2, 0, 3]<br>\n",
    " [0, 0, 2, 0]]<br>\n",
    " \n",
    "b. Realizar una función que retorne el nucleótido que más frecuencia obtuvo por posición. Si tienen la misma frecuecia retornar los valores iguales. <br>\n",
    "Ejemplo:<br>\n",
    "FrecuenciaMayorNt(MatrizFrecuencia(listamotivos))<br>\n",
    "Out: [[A:0.5, C:0.5],<br>\n",
    "[C:0.5,G:0.5],<br>\n",
    "[A:0.5,T:0.5],<br>\n",
    "[G:0.75]]<br>"
   ]
  },
  {
   "cell_type": "code",
   "execution_count": 7,
   "metadata": {},
   "outputs": [
    {
     "name": "stdout",
     "output_type": "stream",
     "text": [
      "(['A', 'C', '0', '0'], [0.5, 0.5])\n",
      "(['0', 'C', 'G', '0'], [0.5, 0.5])\n",
      "(['A', '0', '0', 'T'], [0.5, 0.5])\n",
      "(['0', '0', 'G', '0'], [0.75])\n"
     ]
    }
   ],
   "source": [
    "def numbases(lista):\n",
    "    A=[0]*len(lista[0])\n",
    "    T=[0]*len(lista[0])\n",
    "    C=[0]*len(lista[0])\n",
    "    G=[0]*len(lista[0])\n",
    "    for x in range(len(lista[0])):\n",
    "        Aa=0\n",
    "        Tt=0\n",
    "        Gg=0\n",
    "        Cc=0\n",
    "        for i in range(len(lista)):\n",
    "            if lista[i][x]=='A':\n",
    "                Aa=Aa+1\n",
    "            elif lista[i][x]=='T':\n",
    "                Tt=Tt+1\n",
    "            elif lista[i][x]=='G':\n",
    "                Gg=Gg+1\n",
    "            elif lista[i][x]=='C':\n",
    "                Cc=Cc+1\n",
    "        A[x]=Aa\n",
    "        C[x]=Cc\n",
    "        G[x]=Gg\n",
    "        T[x]=Tt\n",
    "\n",
    "    resultado=[A,C,G,T]\n",
    "    return(resultado)\n",
    "\n",
    "numbases([\"ACTG\",\"CCAG\",\"AGAG\",\"CGTA\"])\n",
    "\n",
    "# Aquí empieza el punto B\n",
    "\n",
    "def frecuencia(lista,posicion):\n",
    "    numerobases=numbases([\"ACTG\",\"CCAG\",\"AGAG\",\"CGTA\"])\n",
    "    freq=[0]*len(numerobases[0])\n",
    "    for i in range(len(numerobases[0])):\n",
    "        freq[i]=numerobases[i][posicion]/len(numerobases[0])\n",
    "    return(freq)\n",
    "\n",
    "def Elmayor(lista,posicion):\n",
    "    freq=frecuencia(lista,posicion) \n",
    "    mayor=max(freq)\n",
    "    size=0\n",
    "    for i in range(len(freq)):\n",
    "        if freq[i]==mayor:\n",
    "            size=size+1\n",
    "    posmayores=[0]*len(freq)\n",
    "    lista=[0]*size\n",
    "    for i in range(len(freq)):\n",
    "        if freq[i]==mayor:\n",
    "            for j in range(size):\n",
    "                posmayores[i]=i+1\n",
    "                lista[j]=freq[i]\n",
    "    return(posmayores,lista)\n",
    "        \n",
    "\n",
    "def end(lista,posicion):\n",
    "    xx=Elmayor(lista,posicion)\n",
    "    for ww in range(4):\n",
    "        if xx[0][ww]==1:\n",
    "            xx[0][ww]='A'\n",
    "        elif xx[0][ww]==2:\n",
    "            xx[0][ww]='C'\n",
    "        elif xx[0][ww]==3:\n",
    "            xx[0][ww]='G'\n",
    "        elif xx[0][ww]==4:\n",
    "            xx[0][ww]='T'\n",
    "    for ww in range(4):\n",
    "        xx[0][ww]=str(xx[0][ww])\n",
    "    return(xx)\n",
    "\n",
    "end([\"ACTG\", \"CCAG\", \"AGAG\", \"CGTA\"],0)\n",
    "\n",
    "for d in range (4):\n",
    "    print(end([\"ACTG\", \"CCAG\", \"AGAG\", \"CGTA\"],d))"
   ]
  }
 ],
 "metadata": {
  "kernelspec": {
   "display_name": "Python 3",
   "language": "python",
   "name": "python3"
  },
  "language_info": {
   "codemirror_mode": {
    "name": "ipython",
    "version": 3
   },
   "file_extension": ".py",
   "mimetype": "text/x-python",
   "name": "python",
   "nbconvert_exporter": "python",
   "pygments_lexer": "ipython3",
   "version": "3.7.1"
  }
 },
 "nbformat": 4,
 "nbformat_minor": 2
}
