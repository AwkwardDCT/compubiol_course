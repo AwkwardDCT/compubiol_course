{
 "cells": [
  {
   "cell_type": "markdown",
   "metadata": {},
   "source": [
    "# Taller 2 - Python\n",
    "## Fundamentos en Biología Computacional\n",
    "## 2019-1, Prof. Javier Correa\n",
    "### Por: Juliana Zapata Correa\n"
   ]
  },
  {
   "cell_type": "markdown",
   "metadata": {},
   "source": [
    "1. Realice un función para expresar cualquier número entero en su conotación factorial. <br>\n",
    "Ejemplo: factorial(4)<br>\n",
    "Out: 24"
   ]
  },
  {
   "cell_type": "code",
   "execution_count": 125,
   "metadata": {},
   "outputs": [
    {
     "data": {
      "text/plain": [
       "24"
      ]
     },
     "execution_count": 125,
     "metadata": {},
     "output_type": "execute_result"
    }
   ],
   "source": [
    "def fact(numero):\n",
    "    result=1\n",
    "    i=1 \n",
    "    while i<=numero:\n",
    "        result=result*i\n",
    "        i=i+1\n",
    "    return result\n",
    "fact(4)\n"
   ]
  },
  {
   "cell_type": "markdown",
   "metadata": {},
   "source": [
    "2. Realice un función para expresar la potencia de cualquier número. La función recibe como parámetros la base y el exponencial. <br>\n",
    "Ejemplo: potencia(4,2)<br>\n",
    "Out: 16"
   ]
  },
  {
   "cell_type": "code",
   "execution_count": 126,
   "metadata": {},
   "outputs": [
    {
     "data": {
      "text/plain": [
       "16"
      ]
     },
     "execution_count": 126,
     "metadata": {},
     "output_type": "execute_result"
    }
   ],
   "source": [
    "def potencia(base,exp):\n",
    "    resultado= base**exp\n",
    "    return resultado\n",
    "potencia(4,2)\n"
   ]
  },
  {
   "cell_type": "markdown",
   "metadata": {},
   "source": [
    "3. Utilizando las dos funciones anteriormente definidas (factorial y potencia), realice un función para expresar el Coseno de un entero. <br>\n",
    "Ejemplo: coseno(5)<br>\n",
    "Out: 0.996194698\n"
   ]
  },
  {
   "cell_type": "code",
   "execution_count": 127,
   "metadata": {},
   "outputs": [
    {
     "data": {
      "text/plain": [
       "0.9961946803061181"
      ]
     },
     "execution_count": 127,
     "metadata": {},
     "output_type": "execute_result"
    }
   ],
   "source": [
    "def coseno(numero):\n",
    "    pi = 3.1416\n",
    "    radianes = numero * pi / 180 \n",
    "    radianes= float(radianes)\n",
    "    result=0.0\n",
    "    i=0\n",
    "    while i in range(0,20):\n",
    "        result= result+(potencia(-1,i))*(potencia(radianes,2*i)/(fact(2*i)))\n",
    "        i=i+1\n",
    "    return result\n",
    "\n",
    "coseno(5)\n",
    "\n",
    "\n"
   ]
  },
  {
   "cell_type": "markdown",
   "metadata": {},
   "source": [
    "4. Dadas las cantidades de individuos con los genótipos AA, AB y BB. Calcular la frecuencia de los alelos A y B <br>\n",
    "Ejemplo: FrecuenciaAlelos(12,4,4) <br>\n",
    "Out: (0.7, 0.3)"
   ]
  },
  {
   "cell_type": "code",
   "execution_count": 128,
   "metadata": {},
   "outputs": [
    {
     "data": {
      "text/plain": [
       "(0.7, 0.30000000000000004)"
      ]
     },
     "execution_count": 128,
     "metadata": {},
     "output_type": "execute_result"
    }
   ],
   "source": [
    "def FrecuenciaAlelos(AA,BB,AB):\n",
    "    individuos= AA+BB+AB\n",
    "    AA=AA/individuos\n",
    "    BB=BB/individuos\n",
    "    AB=AB/individuos\n",
    "    A=0\n",
    "    B=0\n",
    "    A=AA+(AB/2)\n",
    "    B=BB+(AB/2)\n",
    "    return A,B\n",
    "FrecuenciaAlelos(12,4,4)\n",
    "    \n",
    "    "
   ]
  },
  {
   "cell_type": "markdown",
   "metadata": {},
   "source": [
    "5. Dada una cadena de DNA retornar una de (-) RNA en sentido 5'-> 3' <br>\n",
    "Ejemplo: DNA_to_RNA(\"TCTCTACTCATGTCTGCA\")<br>\n",
    "Out: GUACUCACGUCUGCUCUC"
   ]
  },
  {
   "cell_type": "code",
   "execution_count": 133,
   "metadata": {},
   "outputs": [
    {
     "data": {
      "text/plain": [
       "'UGCAGACAUGAGUAGAG'"
      ]
     },
     "execution_count": 133,
     "metadata": {},
     "output_type": "execute_result"
    }
   ],
   "source": [
    "def DNA_to_RNA(ADN):\n",
    "    j=1\n",
    "    RNA=\"\"\n",
    "    long_ADN=len(ADN)\n",
    "    \n",
    "    while j<long_ADN:\n",
    "        if ADN[j]==\"T\":\n",
    "            RNA=RNA + \"A\"\n",
    "        if ADN[j]==\"G\":\n",
    "            RNA=RNA+\"C\"\n",
    "        if ADN[j]==\"A\":\n",
    "            RNA=RNA+\"U\"\n",
    "        if ADN[j]==\"C\":\n",
    "            RNA=RNA+\"G\"\n",
    "        j=j+1\n",
    "    return RNA [::-1]\n",
    "\n",
    "\n",
    "\n",
    "ADN=\"TCTCTACTCATGTCTGCA\"\n",
    "\n",
    "DNA_to_RNA(ADN)\n",
    "\n"
   ]
  },
  {
   "cell_type": "markdown",
   "metadata": {},
   "source": [
    "6. Realizar una función que calcule la Temperatura de Melting Promedio de un par de primers de DNA en grados Celcius. Teniendo en cuenta que; en un oligonucleótido < de 14 nucleótidos, la Tm se calcula multiplicando la cantidad de G+C por 4 y las A+T por 2. Mientras que, si es >= de 14 nt, se debe aplicar la siguiente fórmula (64.9 + 41 * (totalG+C -16.4) / Tamaño sel oligo). <br>\n",
    "Ejemplo: tempromelt(TCTCTACTCATGTCTGCA, TCGCGTGCACGTG)<br>\n",
    "Out: 44.88333333333334"
   ]
  },
  {
   "cell_type": "code",
   "execution_count": 134,
   "metadata": {},
   "outputs": [
    {
     "data": {
      "text/plain": [
       "44.88333333333334"
      ]
     },
     "execution_count": 134,
     "metadata": {},
     "output_type": "execute_result"
    }
   ],
   "source": [
    "def temperaturapromelt(primer1,primer2):\n",
    "    suma11=0\n",
    "    suma12=0\n",
    "    suma21=0\n",
    "    suma22=0\n",
    "    tamaño_primer1=len(primer1)\n",
    "    tamaño_primer2=len(primer2)\n",
    "    i=0\n",
    "    j=0\n",
    "    Tm1=0\n",
    "    Tm2=0\n",
    "    \n",
    "    while i<tamaño_primer1:\n",
    "        if primer1[i]==\"A\" or primer1[i]==\"T\":\n",
    "            suma11=suma11+1\n",
    "        if primer1[i]==\"C\" or primer1[i]==\"G\":\n",
    "            suma12=suma12+1\n",
    "        i=i+1\n",
    "    \n",
    "    if tamaño_primer1 < 14:\n",
    "        Tm1 = (suma12 * 4 + suma11*2)\n",
    "    else:\n",
    "        Tm1 = 64.9 + 41 * ((suma12 - 16.4)/tamaño_primer1)\n",
    "\n",
    "    while j<tamaño_primer2:\n",
    "        if primer2[j]==\"A\" or primer2[j]==\"T\":\n",
    "            suma21=suma21+1\n",
    "        if primer2[j]==\"C\" or primer2[j]==\"G\":\n",
    "            suma22=suma22+1\n",
    "        j=j+1\n",
    "        \n",
    "    if tamaño_primer2 < 14:\n",
    "        Tm2 = (suma22 * 4 + suma21 * 2)\n",
    "    else:\n",
    "        Tm2 = 64.9 + 41 * ((suma22 - 16.4)/tamaño_primer2)\n",
    "\n",
    "    Prom = (Tm1 + Tm2)/2 \n",
    "    \n",
    "    return Prom\n",
    "\n",
    "primer1= \"TCTCTACTCATGTCTGCA\"\n",
    "primer2= \"TCGCGTGCACGTG\"\n",
    "\n",
    "temperaturapromelt(primer1,primer2)\n"
   ]
  },
  {
   "cell_type": "markdown",
   "metadata": {},
   "source": [
    "7. Hallar la distancia Hamming entre dos secuencias dadas de polipéptidos. <br>\n",
    "link: https://es.wikipedia.org/wiki/Distancia_de_Hamming <br>\n",
    "Ejemplo: distancia_Hamming(\"SRSLLLRFLMSRSLLLRFLLFLLLLPPLPLFLLLLPPL\",\"SRSLLLRFLSSRSLLLRFLLFLLLLAALALFLLLLSML\")<br>\n",
    "Out:6"
   ]
  },
  {
   "cell_type": "code",
   "execution_count": 135,
   "metadata": {},
   "outputs": [
    {
     "data": {
      "text/plain": [
       "6"
      ]
     },
     "execution_count": 135,
     "metadata": {},
     "output_type": "execute_result"
    }
   ],
   "source": [
    "def distancia_Hamming(polipeptido1,polipeptido2):\n",
    "    log_pol = len(polipeptido1)\n",
    "    i=0\n",
    "    resultado=0\n",
    "    while i < log_pol:\n",
    "        if polipeptido1[i] != polipeptido2[i]:\n",
    "            resultado=resultado+1\n",
    "            i=i+1\n",
    "        else:\n",
    "            i=i+1\n",
    "    return resultado\n",
    "\n",
    "polipeptido1= \"SRSLLLRFLMSRSLLLRFLLFLLLLPPLPLFLLLLPPL\"\n",
    "polipeptido2= \"SRSLLLRFLSSRSLLLRFLLFLLLLAALALFLLLLSML\"\n",
    "distancia_Hamming (polipeptido1,polipeptido2)\n"
   ]
  },
  {
   "cell_type": "markdown",
   "metadata": {},
   "source": [
    "8. Dada la tabla de codones estandar, hacer una función para traducir una cadena de DNA empezando desde la posición 1 <br>\n",
    "Ejemplo: traducir(\"ATGGCGCGTATGAATAGCAATCCGAGCGCATGCCATGTTTGCCATGCGGCTCTGGCGGTCATTGATGCGTGCAATAACAATACCCGTAATAGCAATATCAATAGCTAA\")<br>\n",
    "Out: Met A R Met N S N P S A C H V C H A A L A V I D A C N N N T R N S N I N S Stop"
   ]
  },
  {
   "cell_type": "code",
   "execution_count": 136,
   "metadata": {},
   "outputs": [],
   "source": [
    "codones={'ATG':'Met','ACA':'T', 'ACC':'T', 'ACG':'T',\n",
    "         'ACT':'T','ATA':'I', 'ATC':'I', 'ATT':'I', \n",
    "         'AAC':'N', 'AAT':'N', 'AAA':'K', 'AAG':'K',\n",
    "         'AGC':'S', 'AGT':'S', 'CAA':'Q', 'CAG':'Q',\n",
    "         'GTA':'V', 'GTC':'V', 'GTG':'V', 'GTT':'V',\n",
    "         'CCA':'P', 'CCC':'P', 'CCG':'P', 'CCT':'P',\n",
    "         'CAC':'H', 'CAT':'H', 'AGA':'R', 'AGG':'R',\n",
    "         'CGA':'R', 'CGC':'R', 'CGG':'R', 'CGT':'R',\n",
    "         'CTA':'L', 'CTC':'L', 'CTG':'L', 'CTT':'L',\n",
    "         'GCA':'A', 'GCC':'A', 'GCG':'A', 'GCT':'A',\n",
    "         'GAC':'D', 'GAT':'D', 'GAA':'E', 'GAG':'E',\n",
    "         'GGA':'G', 'GGC':'G', 'GGG':'G', 'GGT':'G',\n",
    "         'TCA':'S', 'TCC':'S', 'TCG':'S', 'TCT':'S',\n",
    "         'TTC':'F', 'TTT':'F', 'TTA':'L', 'TTG':'L',\n",
    "         'TAC':'Y', 'TAT':'Y', 'TGC':'C', 'TGT':'C', \n",
    "         'TGA':'Stop', 'TGG':'W','TAA':'Stop', 'TAG':'Stop',}"
   ]
  },
  {
   "cell_type": "code",
   "execution_count": 137,
   "metadata": {},
   "outputs": [
    {
     "data": {
      "text/plain": [
       "'MetARMetNSNPSACHVCHAALAVIDACNNNTRNSNINSStop'"
      ]
     },
     "execution_count": 137,
     "metadata": {},
     "output_type": "execute_result"
    }
   ],
   "source": [
    "def traducir(secuenciaADN):\n",
    "    j = 0\n",
    "    pro = \"\"\n",
    "    longsec=len(secuenciaADN)\n",
    "    while j < longsec - 2:\n",
    "        result = codones[secuenciaADN[j:j+3]]\n",
    "        pro = pro + result\n",
    "        j = j + 3\n",
    "    return pro\n",
    "\n",
    "secuenciaADN= (\"ATGGCGCGTATGAATAGCAATCCGAGCGCATGCCATGTTTGCCATGCGGCTCTGGCGGTCATTGATGCGTGCAATAACAATACCCGTAATAGCAATATCAATAGCTAA\")\n",
    "traducir(secuenciaADN)"
   ]
  },
  {
   "cell_type": "markdown",
   "metadata": {},
   "source": [
    "9. Usando la función anterior, traducir la secuencia de DNA dada en los 6 frames posibles para producir un polipéptido.\n",
    "Ejemplo: traducirALL(\"ATGGCGCGTATGAATAGCAATCCGAGCGCATGCCATGTTTGCCATGCGGCTCTGGCGGTCATTGATGCGTGCAATAACAATACCCGTAATAGCAATATCAATAGCTAA\")<br>\n",
    "Out: (Frame1:Met A R Met N S N P S A C H V C H A A L A V I D A C N N N T R N S N I N S Stop, Frame2:W R V Stop I A I R A H A Met F A Met R L W R S L Met R A I T I P V I A I S I A, Frame3:G A Y E Stop Q S E R Met P C L P C G S G G H Stop C V Q Stop Q Y P Stop Stop Q Y Q Stop L, Frame4:L A I D I A I T G I V I A R I N D R Q S R Met A N Met A C A R I A I H T R H, Frame5:Stop L L I L L L R V L L L H A S Met T A R A A W Q T W H A L G L L F I R A, Frame6:S Y Stop Y C Y Y G Y C Y C T H Q Stop P P E P H G K H G Met R S D C Y S Y A P)"
   ]
  },
  {
   "cell_type": "code",
   "execution_count": 138,
   "metadata": {},
   "outputs": [
    {
     "name": "stdout",
     "output_type": "stream",
     "text": [
      "1:MetARMetNSNPSACHVCHAALAVIDACNNNTRNSNINSStop\n",
      "2:WRVStopIAIRAHAMetFAMetRLWRSLMetRAITIPVIAISIA\n",
      "3:GAYEStopQSERMetPCLPCGSGGHStopCVQStopQYPStopStopQYQStopL\n",
      "4: LAIDIAITGIVIARINDRQSRMetANMetACARIAIHTRH\n",
      "5: StopLLILLLRVLLLHASMetTARAAWQTWHALGLLFIRA\n",
      "6: SYStopYCYYGYCYCTHQStopPPEPHGKHGMetRSDCYSYAP\n"
     ]
    }
   ],
   "source": [
    "def traducirALL(secuenciaADN):\n",
    "    print(\"1:\"+traducir(secuenciaADN))\n",
    "    print(\"2:\"+traducir(secuenciaADN[1:]))\n",
    "    print(\"3:\"+traducir(secuenciaADN[2:]))\n",
    "traducirALL(secuenciaADN)\n",
    "COMPL=\"ATGGCGCGTATGAATAGCAATCCGAGCGCATGCCATGTTTGCCATGCGGCTCTGGCGGTCATTGATGCGTGCAATAACAATACCCGTAATAGCAATATCAATAGCTAA\"\n",
    "def DNA_to_DNAC(COMPL):\n",
    "    j=0\n",
    "    ADNC=\"\"\n",
    "    while j < len(COMPL):\n",
    "        if COMPL[j]==\"T\":\n",
    "            ADNC=ADNC + \"A\"\n",
    "        if COMPL[j]==\"G\":\n",
    "            ADNC=ADNC+\"C\"\n",
    "        if COMPL[j]==\"A\":\n",
    "            ADNC=ADNC+\"T\"\n",
    "        if COMPL[j]==\"C\":\n",
    "            ADNC=ADNC+\"G\"\n",
    "        j=j+1\n",
    "    return ADNC[::-1]\n",
    "DNA_to_DNAC(COMPL)\n",
    "print (\"4: \"+ traducir(DNA_to_DNAC(COMPL)))\n",
    "print (\"5: \"+ traducir(DNA_to_DNAC(COMPL)[1:]))\n",
    "print (\"6: \"+ traducir(DNA_to_DNAC(COMPL)[2:]))"
   ]
  },
  {
   "cell_type": "code",
   "execution_count": 139,
   "metadata": {},
   "outputs": [
    {
     "name": "stdout",
     "output_type": "stream",
     "text": [
      "4: LAIDIAITGIVIARINDRQSRMetANMetACARIAIHTRH\n",
      "5: StopLLILLLRVLLLHASMetTARAAWQTWHALGLLFIRA\n",
      "6: SYStopYCYYGYCYCTHQStopPPEPHGKHGMetRSDCYSYAP\n"
     ]
    }
   ],
   "source": [
    "COMPL=\"ATGGCGCGTATGAATAGCAATCCGAGCGCATGCCATGTTTGCCATGCGGCTCTGGCGGTCATTGATGCGTGCAATAACAATACCCGTAATAGCAATATCAATAGCTAA\"\n",
    "def DNA_to_DNAC(COMPL):\n",
    "    j=0\n",
    "    ADNC=\"\"\n",
    "    while j < len(COMPL):\n",
    "        if COMPL[j]==\"T\":\n",
    "            ADNC=ADNC + \"A\"\n",
    "        if COMPL[j]==\"G\":\n",
    "            ADNC=ADNC+\"C\"\n",
    "        if COMPL[j]==\"A\":\n",
    "            ADNC=ADNC+\"T\"\n",
    "        if COMPL[j]==\"C\":\n",
    "            ADNC=ADNC+\"G\"\n",
    "        j=j+1\n",
    "    return ADNC[::-1]\n",
    "DNA_to_DNAC(COMPL)\n",
    "print (\"4: \"+ traducir(DNA_to_DNAC(COMPL)))\n",
    "print (\"5: \"+ traducir(DNA_to_DNAC(COMPL)[1:]))\n",
    "print (\"6: \"+ traducir(DNA_to_DNAC(COMPL)[2:]))"
   ]
  },
  {
   "cell_type": "markdown",
   "metadata": {},
   "source": [
    "#### Tipo markdown y latex \n",
    "\n",
    "$$(##'1:MetARMetNSNPSACHVCHAALAVIDACNNNTRNSNINSStop\n",
    "2:WRVStopIAIRAHAMetFAMetRLWRSLMetRAITIPVIAISIA\n",
    "3:GAYEStopQSERMetPCLPCGSGGHStopCVQStopQYPStopStopQYQStopL\n",
    "4: LAIDIAITGIVIARINDRQSRMetANMetACARIAIHTRH\n",
    "5: StopLLILLLRVLLLHASMetTARAAWQTWHALGLLFIRA\n",
    "6: SYStopYCYYGYCYCTHQStopPPEPHGKHGMetRSDCYSYAP)$$"
   ]
  },
  {
   "cell_type": "markdown",
   "metadata": {},
   "source": [
    "10. Su código genético es esencialmente el mismo desde que nace hasta que muere, y el mismo en su sangre y su cerebro. Los genes que se activan y desactivan marcan la diferencia entre las células. Esta regulación de los genes está orquestada por un mecanismo inmensamente complejo, que solo hemos empezado a comprender. Una parte central de este mecanismo consiste en moléculas llamadas factores de transcripción que se adhieren al ADN, y al hacerlo, activan o desactivan los genes cercanos. Estas moléculas se unen preferentemente a secuencias específicas de ADN, y este patrón de preferencia de unión puede representarse mediante una tabla de frecuencias de símbolos dados en cada posición del patrón. Más precisamente, cada fila en la tabla corresponde a las bases A, C, G y T, mientras que la columna j refleja cuántas veces aparece la base en la posición j en la secuencia del ADN.\n",
    "\n",
    "    Por ejemplo; si nuestro conjunto de secuencias de ADN son TAG, GGT y GGG, la tabla se convierte en\n",
    "\n",
    "\n",
    "|base|\t0|\t1|\t2|\n",
    "|----|---|---|---|\n",
    "|A\t|0\t|1\t|0  |\n",
    "|C\t|0\t|0\t|0  |\n",
    "|G \t|2\t|2\t|2  |\n",
    "|T\t|1\t|0\t|1  |\n",
    "\n",
    "De esta tabla podemos leer que la base A aparece una vez en el índice 1 en las cadenas de ADN, la base C no aparece en absoluto, la base G aparece dos veces en todas las posiciones y la base T aparece una vez al principio y al final de las cadenas.\n",
    "\n",
    "a. Dada una lista de Strings con motivos de 4 nucleótidos, construir una matriz de frecuencias para las posiciones de los 4 nucleótidos. \n",
    "\n",
    "Ejemplo:<br>\n",
    "listamotivos =[\"ACTG\", \"CCAG\", \"AGAG\", \"CGTA\"]<br>\n",
    "MatrizFrecuencia(listamotivos)<br>\n",
    "Out: [[2, 0, 2, 1]<br>\n",
    " [2, 2, 0, 0]<br>\n",
    " [0, 2, 0, 3]<br>\n",
    " [0, 0, 2, 0]]<br>\n",
    " \n",
    "b. Realizar una función que retorne el nucleótido que más frecuencia obtuvo por posición. Si tienen la misma frecuecia retornar los valores iguales. <br>\n",
    "Ejemplo:<br>\n",
    "FrecuenciaMayorNt(MatrizFrecuencia(listamotivos))<br>\n",
    "Out: [[A:0.5, C:0.5],<br>\n",
    "[C:0.5,G:0.5],<br>\n",
    "[A:0.5,T:0.5],<br>\n",
    "[G:0.75]]<br>"
   ]
  },
  {
   "cell_type": "code",
   "execution_count": 140,
   "metadata": {},
   "outputs": [
    {
     "data": {
      "text/plain": [
       "[[2, 0, 2, 1], [2, 2, 0, 0], [0, 2, 0, 3], [0, 0, 1, 0]]"
      ]
     },
     "execution_count": 140,
     "metadata": {},
     "output_type": "execute_result"
    }
   ],
   "source": [
    "##Punto a\n",
    "def matrizfrecuencia(listamotivos):\n",
    "    matriz=[[0,0,0,0],[0,0,0,0],[0,0,0,0],[0,0,0,0]]\n",
    "    j:0\n",
    "    for frecuencia in (listamotivos):\n",
    "        \n",
    "        for j in range (0,4):\n",
    "            if frecuencia[j]=='A':\n",
    "                matriz [0][j]=matriz[0][j]+1\n",
    "            if frecuencia[j]=='C':\n",
    "                matriz [1][j]=matriz[1][j]+1\n",
    "            if frecuencia[j]=='G':\n",
    "                matriz [2][j]=matriz[2][j]+1\n",
    "            if frecuencia[j]=='T':\n",
    "                matriz [3][j]=matriz[2][j]+1\n",
    "    return matriz\n",
    "listamotivos = \"ACTG\", \"CCAG\", \"AGAG\", \"CGTA\"\n",
    "matrizfrecuencia(listamotivos)"
   ]
  },
  {
   "cell_type": "code",
   "execution_count": 81,
   "metadata": {},
   "outputs": [
    {
     "ename": "TypeError",
     "evalue": "'function' object is not subscriptable",
     "output_type": "error",
     "traceback": [
      "\u001b[0;31m---------------------------------------------------------------------------\u001b[0m",
      "\u001b[0;31mTypeError\u001b[0m                                 Traceback (most recent call last)",
      "\u001b[0;32m<ipython-input-81-d26af493d95b>\u001b[0m in \u001b[0;36m<module>\u001b[0;34m\u001b[0m\n\u001b[1;32m     27\u001b[0m                 \u001b[0mfrec0\u001b[0m\u001b[0;34m[\u001b[0m\u001b[0mj\u001b[0m\u001b[0;34m]\u001b[0m\u001b[0;34m=\u001b[0m\u001b[0mmatrizfrecuencia\u001b[0m\u001b[0;34m[\u001b[0m\u001b[0mj\u001b[0m\u001b[0;34m]\u001b[0m\u001b[0;34m[\u001b[0m\u001b[0mi\u001b[0m\u001b[0;34m]\u001b[0m\u001b[0;34m\u001b[0m\u001b[0;34m\u001b[0m\u001b[0m\n\u001b[1;32m     28\u001b[0m     \u001b[0;32mreturn\u001b[0m \u001b[0mfreco\u001b[0m\u001b[0;34m\u001b[0m\u001b[0;34m\u001b[0m\u001b[0m\n\u001b[0;32m---> 29\u001b[0;31m \u001b[0mFrecuenciaMayorNt\u001b[0m\u001b[0;34m(\u001b[0m\u001b[0mmatrizfrecuencia\u001b[0m\u001b[0;34m)\u001b[0m\u001b[0;34m\u001b[0m\u001b[0;34m\u001b[0m\u001b[0m\n\u001b[0m",
      "\u001b[0;32m<ipython-input-81-d26af493d95b>\u001b[0m in \u001b[0;36mFrecuenciaMayorNt\u001b[0;34m(matrizfrecuencia)\u001b[0m\n\u001b[1;32m     24\u001b[0m     \u001b[0;32mfor\u001b[0m \u001b[0mi\u001b[0m \u001b[0;32min\u001b[0m \u001b[0mrange\u001b[0m\u001b[0;34m(\u001b[0m\u001b[0;36m0\u001b[0m\u001b[0;34m,\u001b[0m\u001b[0;36m4\u001b[0m\u001b[0;34m)\u001b[0m\u001b[0;34m:\u001b[0m\u001b[0;34m\u001b[0m\u001b[0;34m\u001b[0m\u001b[0m\n\u001b[1;32m     25\u001b[0m         \u001b[0;32mfor\u001b[0m \u001b[0mj\u001b[0m \u001b[0;32min\u001b[0m \u001b[0mrange\u001b[0m\u001b[0;34m(\u001b[0m\u001b[0;36m0\u001b[0m\u001b[0;34m,\u001b[0m\u001b[0;36m4\u001b[0m\u001b[0;34m)\u001b[0m\u001b[0;34m:\u001b[0m\u001b[0;34m\u001b[0m\u001b[0;34m\u001b[0m\u001b[0m\n\u001b[0;32m---> 26\u001b[0;31m             \u001b[0;32mif\u001b[0m \u001b[0mmatrizfrecuencia\u001b[0m\u001b[0;34m[\u001b[0m\u001b[0mj\u001b[0m\u001b[0;34m]\u001b[0m\u001b[0;34m[\u001b[0m\u001b[0mi\u001b[0m\u001b[0;34m]\u001b[0m\u001b[0;34m>=\u001b[0m\u001b[0mmatrizfrecuencia\u001b[0m\u001b[0;34m[\u001b[0m\u001b[0mj\u001b[0m\u001b[0;34m]\u001b[0m\u001b[0;34m[\u001b[0m\u001b[0mi\u001b[0m\u001b[0;34m+\u001b[0m\u001b[0;36m1\u001b[0m\u001b[0;34m]\u001b[0m\u001b[0;34m:\u001b[0m\u001b[0;34m\u001b[0m\u001b[0;34m\u001b[0m\u001b[0m\n\u001b[0m\u001b[1;32m     27\u001b[0m                 \u001b[0mfrec0\u001b[0m\u001b[0;34m[\u001b[0m\u001b[0mj\u001b[0m\u001b[0;34m]\u001b[0m\u001b[0;34m=\u001b[0m\u001b[0mmatrizfrecuencia\u001b[0m\u001b[0;34m[\u001b[0m\u001b[0mj\u001b[0m\u001b[0;34m]\u001b[0m\u001b[0;34m[\u001b[0m\u001b[0mi\u001b[0m\u001b[0;34m]\u001b[0m\u001b[0;34m\u001b[0m\u001b[0;34m\u001b[0m\u001b[0m\n\u001b[1;32m     28\u001b[0m     \u001b[0;32mreturn\u001b[0m \u001b[0mfreco\u001b[0m\u001b[0;34m\u001b[0m\u001b[0;34m\u001b[0m\u001b[0m\n",
      "\u001b[0;31mTypeError\u001b[0m: 'function' object is not subscriptable"
     ]
    }
   ],
   "source": [
    "##Punto b\n",
    "def matrizfrecuencia(listamotivos):\n",
    "    matriz=[[0,0,0,0],[0,0,0,0],[0,0,0,0],[0,0,0,0]]\n",
    "    j:0\n",
    "    for frecuencia in (listamotivos):\n",
    "        \n",
    "        for j in range (0,4):\n",
    "            if frecuencia[j]=='A':\n",
    "                matriz [0][j]=matriz[0][j]+1\n",
    "            if frecuencia[j]=='C':\n",
    "                matriz [1][j]=matriz[1][j]+1\n",
    "            if frecuencia[j]=='G':\n",
    "                matriz [2][j]=matriz[2][j]+1\n",
    "            if frecuencia[j]=='T':\n",
    "                matriz [3][j]=matriz[2][j]+1\n",
    "    return matriz\n",
    "listamotivos = \"ACTG\", \"CCAG\", \"AGAG\", \"CGTA\"\n",
    "matrizfrecuencia(listamotivos)\n",
    "\n",
    "def FrecuenciaMayorNt(matrizfrecuencia):\n",
    "    i=0\n",
    "    j=0\n",
    "    freco=[0,0,0,0]\n",
    "    for i in range(0,4):\n",
    "        for j in range(0,4):\n",
    "            if matrizfrecuencia[j][i]>=matrizfrecuencia[j][i+1]:\n",
    "                frec0[j]=matrizfrecuencia[j][i]\n",
    "    return freco\n",
    "FrecuenciaMayorNt(matrizfrecuencia)"
   ]
  },
  {
   "cell_type": "code",
   "execution_count": null,
   "metadata": {},
   "outputs": [],
   "source": []
  }
 ],
 "metadata": {
  "kernelspec": {
   "display_name": "Python 3",
   "language": "python",
   "name": "python3"
  },
  "language_info": {
   "codemirror_mode": {
    "name": "ipython",
    "version": 3
   },
   "file_extension": ".py",
   "mimetype": "text/x-python",
   "name": "python",
   "nbconvert_exporter": "python",
   "pygments_lexer": "ipython3",
   "version": "3.7.1"
  }
 },
 "nbformat": 4,
 "nbformat_minor": 2
}
