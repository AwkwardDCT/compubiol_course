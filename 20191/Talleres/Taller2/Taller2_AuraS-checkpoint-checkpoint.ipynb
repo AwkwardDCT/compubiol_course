{
 "cells": [
  {
   "cell_type": "markdown",
   "metadata": {},
   "source": [
    "# Taller 2 - Aura Cristina Sanchez Ortiz\n",
    "## Fundamentos en Biología Computacional\n",
    "## 2019-1, Prof. Javier Correa\n",
    "Nota: Se calificará que el código sea lo más simple, claro, original y eficiente. No usar funciones no realizadas por ustedes mismos."
   ]
  },
  {
   "cell_type": "markdown",
   "metadata": {},
   "source": [
    "1. Realice un función para expresar cualquier número entero en su conotación factorial. <br>\n",
    "Ejemplo: factorial(4)<br>\n",
    "Out: 24"
   ]
  },
  {
   "cell_type": "code",
   "execution_count": 5,
   "metadata": {},
   "outputs": [
    {
     "data": {
      "text/plain": [
       "24"
      ]
     },
     "execution_count": 5,
     "metadata": {},
     "output_type": "execute_result"
    }
   ],
   "source": [
    "def factorial(entero):\n",
    "    if entero==0:\n",
    "        return 1\n",
    "    else:\n",
    "        return entero * factorial(entero-1)\n",
    "factorial (4)\n",
    "\n",
    "    "
   ]
  },
  {
   "cell_type": "markdown",
   "metadata": {},
   "source": [
    "2. Realice un función para expresar la potencia de cualquier número. La función recibe como parámetros la base y el exponencial. <br>\n",
    "Ejemplo: potencia(4,2)<br>\n",
    "Out: 16"
   ]
  },
  {
   "cell_type": "code",
   "execution_count": 6,
   "metadata": {},
   "outputs": [
    {
     "data": {
      "text/plain": [
       "9"
      ]
     },
     "execution_count": 6,
     "metadata": {},
     "output_type": "execute_result"
    }
   ],
   "source": [
    "def potenciaentero (base, exponencial):\n",
    "    return base**exponencial\n",
    "\n",
    "potenciaentero (3, 2)"
   ]
  },
  {
   "cell_type": "markdown",
   "metadata": {},
   "source": [
    "3. Utilizando las dos funciones anteriormente definidas (factorial y potencia), realice un función para expresar el Coseno de un entero. <br>\n",
    "Ejemplo: coseno(5)<br>\n",
    "Out: 0.996194698"
   ]
  },
  {
   "cell_type": "code",
   "execution_count": 7,
   "metadata": {},
   "outputs": [],
   "source": [
    "import math \n",
    "math.pi\n",
    "\n",
    "def cos(ent):\n",
    "    n=0\n",
    "    entero=0\n",
    "    ent= ent * math.pi/180\n",
    "    for n in range (0,10):\n",
    "        entero = entero + potenciaentero (-1,n)*((potenciaentero(ent,2*n)/factorial(2*n)))\n",
    "        n=n+1\n",
    "    return (entero)\n",
    "\n",
    "\n",
    "\n",
    " \n",
    "\n"
   ]
  },
  {
   "cell_type": "code",
   "execution_count": 8,
   "metadata": {},
   "outputs": [
    {
     "data": {
      "text/plain": [
       "0.9961946980917454"
      ]
     },
     "execution_count": 8,
     "metadata": {},
     "output_type": "execute_result"
    }
   ],
   "source": [
    "cos(5)"
   ]
  },
  {
   "cell_type": "markdown",
   "metadata": {},
   "source": [
    "4. Dadas las cantidades de individuos con los genótipos AA, AB y BB. Calcular la frecuencia de los alelos A y B <br>\n",
    "Ejemplo: FrecuenciaAlelos(12,4,4) <br>\n",
    "Out: (0.7, 0.3)"
   ]
  },
  {
   "cell_type": "code",
   "execution_count": 9,
   "metadata": {},
   "outputs": [],
   "source": [
    "def genotipos(a,b,c):\n",
    "    total= a+b+c\n",
    "    freca= (a/total)+(b/total)*1/2\n",
    "    frecb= (b/total)+(b/total)*1/2\n",
    "    frec=(freca,frecb)\n",
    "    return frec\n"
   ]
  },
  {
   "cell_type": "code",
   "execution_count": 10,
   "metadata": {},
   "outputs": [
    {
     "data": {
      "text/plain": [
       "(0.7, 0.30000000000000004)"
      ]
     },
     "execution_count": 10,
     "metadata": {},
     "output_type": "execute_result"
    }
   ],
   "source": [
    "genotipos(12,4,4)"
   ]
  },
  {
   "cell_type": "markdown",
   "metadata": {},
   "source": [
    "5. Dada una cadena de DNA retornar una de (-) RNA en sentido 5'-> 3' <br>\n",
    "Ejemplo: DNA_to_RNA(\"TCTCTACTCATGTCTGCA\")<br>\n",
    "Out: GUACUCACGUCUGCUCUC"
   ]
  },
  {
   "cell_type": "code",
   "execution_count": 11,
   "metadata": {},
   "outputs": [],
   "source": [
    "def secuen(ADN):\n",
    "    n=0\n",
    "    cadena = ''\n",
    "    for n in range(0,len (ADN)-1):\n",
    "        if ADN[n]=='T':\n",
    "            cadena= cadena+'A'\n",
    "        if ADN[n]=='A':\n",
    "            cadena= cadena +'U'\n",
    "        if ADN[n]=='G':\n",
    "            cadena= cadena+'C'\n",
    "        if ADN[n]=='C':\n",
    "            cadena= cadena + 'G'\n",
    "        \n",
    "    return  cadena [::-1]\n",
    "\n",
    "\n",
    "    \n",
    "    \n",
    "    \n"
   ]
  },
  {
   "cell_type": "code",
   "execution_count": 12,
   "metadata": {},
   "outputs": [
    {
     "data": {
      "text/plain": [
       "'GCAGACAUGAGUAGAGA'"
      ]
     },
     "execution_count": 12,
     "metadata": {},
     "output_type": "execute_result"
    }
   ],
   "source": [
    "secuen('TCTCTACTCATGTCTGCA')"
   ]
  },
  {
   "cell_type": "markdown",
   "metadata": {},
   "source": [
    "6. Realizar una función que calcule la Temperatura de Melting Promedio de un par de primers de DNA en grados Celcius. Teniendo en cuenta que; en un oligonucleótido < de 14 nucleótidos, la Tm se calcula multiplicando la cantidad de G+C por 4 y las A+T por 2. Mientras que, si es >= de 14 nt, se debe aplicar la siguiente fórmula (64.9 + 41 * (totalG+C -16.4) / Tamaño sel oligo). <br>\n",
    "Ejemplo: tempromelt(TCTCTACTCATGTCTGCA, TCGCGTGCACGTG)<br>\n",
    "Out: 44.88333333333334"
   ]
  },
  {
   "cell_type": "code",
   "execution_count": 13,
   "metadata": {},
   "outputs": [],
   "source": [
    "\n",
    "\n",
    "#conteo\n",
    "\n",
    "\n",
    "def A(primers):\n",
    "    long= len(primers)\n",
    "    cantidad =0\n",
    "    n=0 \n",
    "    for n in range(long):\n",
    "        if primers[n]=='A':\n",
    "            cantidad= cantidad + 1\n",
    "    return cantidad\n",
    "\n",
    "def T (primers):\n",
    "    long= len(primers)\n",
    "    cantidad =0\n",
    "    n=0 \n",
    "    for n in range(long):\n",
    "        if primers[n]=='T':\n",
    "            cantidad= cantidad + 1\n",
    "    return cantidad\n",
    "\n",
    "def G (primers):\n",
    "    long= len(primers)\n",
    "    cantidad =0\n",
    "    n=0 \n",
    "    for n in range(long):\n",
    "        if primers[n]=='G':\n",
    "            cantidad= cantidad + 1\n",
    "    return cantidad\n",
    "\n",
    "def C (primers):\n",
    "    long= len(primers)\n",
    "    cantidad =0\n",
    "    n=0 \n",
    "    for n in range(long):\n",
    "        if primers[n]=='C':\n",
    "            cantidad= cantidad + 1\n",
    "    return cantidad\n",
    "\n",
    "\n",
    "\n",
    "#porcentajes\n",
    "\n",
    "def porcentajeAT(primers):\n",
    "    AT= A(primers) + T(primers)\n",
    "    return (AT)\n",
    "def porcentajeGC(primers):\n",
    "    GC= G(primers) + C(primers)\n",
    "    return GC\n",
    "\n",
    "\n",
    "\n",
    "\n",
    "#TM\n",
    "def TM (primers):\n",
    "    if len(primers)<14:\n",
    "        \n",
    "         temp = porcentajeGC(primers)*4 + porcentajeAT(primers)*2\n",
    "    else:\n",
    "         temp =64.9 + 41 *(porcentajeGC(primers)-16.4)/len(primers)\n",
    "    return temp\n",
    "\n",
    "#promedio\n",
    "                            \n",
    "def prom (primers1 , primers2):\n",
    "    return  (TM(primers1) + TM(primers2))/2\n",
    "                            \n",
    "                            "
   ]
  },
  {
   "cell_type": "code",
   "execution_count": 14,
   "metadata": {},
   "outputs": [
    {
     "data": {
      "text/plain": [
       "44.88333333333334"
      ]
     },
     "execution_count": 14,
     "metadata": {},
     "output_type": "execute_result"
    }
   ],
   "source": [
    "prom (\"TCTCTACTCATGTCTGCA\" , \"TCGCGTGCACGTG\")"
   ]
  },
  {
   "cell_type": "markdown",
   "metadata": {},
   "source": [
    "7. Hallar la distancia Hamming entre dos secuencias dadas de polipéptidos. <br>\n",
    "link: https://es.wikipedia.org/wiki/Distancia_de_Hamming <br>\n",
    "Ejemplo: distancia_Hamming(\"SRSLLLRFLMSRSLLLRFLLFLLLLPPLPLFLLLLPPL\",\"SRSLLLRFLSSRSLLLRFLLFLLLLAALALFLLLLSML\")<br>\n",
    "Out:6"
   ]
  },
  {
   "cell_type": "code",
   "execution_count": 15,
   "metadata": {},
   "outputs": [],
   "source": [
    "def distancia(secuencia1, secuencia2):\n",
    "    longitud = len(secuencia1)\n",
    "    hamming=0\n",
    "    for n in range (longitud):\n",
    "        if secuencia1[n] != secuencia2[n]:\n",
    "            hamming= hamming + 1\n",
    "    return hamming\n"
   ]
  },
  {
   "cell_type": "code",
   "execution_count": 16,
   "metadata": {},
   "outputs": [
    {
     "data": {
      "text/plain": [
       "6"
      ]
     },
     "execution_count": 16,
     "metadata": {},
     "output_type": "execute_result"
    }
   ],
   "source": [
    "distancia (\"SRSLLLRFLMSRSLLLRFLLFLLLLPPLPLFLLLLPPL\",\"SRSLLLRFLSSRSLLLRFLLFLLLLAALALFLLLLSML\")"
   ]
  },
  {
   "cell_type": "markdown",
   "metadata": {},
   "source": [
    "8. Dada la tabla de codones estandar, hacer una función para traducir una cadena de DNA empezando desde la posición 1 <br>\n",
    "Ejemplo: traducir(\"ATGGCGCGTATGAATAGCAATCCGAGCGCATGCCATGTTTGCCATGCGGCTCTGGCGGTCATTGATGCGTGCAATAACAATACCCGTAATAGCAATATCAATAGCTAA\")<br>\n",
    "Out: Met A R Met N S N P S A C H V C H A A L A V I D A C N N N T R N S N I N S Stop"
   ]
  },
  {
   "cell_type": "code",
   "execution_count": 17,
   "metadata": {},
   "outputs": [],
   "source": [
    "def traducir(seq):\n",
    "    codones= {'ATA':'I', 'ATC':'I', 'ATT':'I', 'ATG':'Met',\n",
    "    'ACA':'T', 'ACC':'T', 'ACG':'T', 'ACT':'T',\n",
    "    'AAC':'N', 'AAT':'N', 'AAA':'K', 'AAG':'K',\n",
    "    'AGC':'S', 'AGT':'S', 'AGA':'R', 'AGG':'R',\n",
    "    'CTA':'L', 'CTC':'L', 'CTG':'L', 'CTT':'L',\n",
    "    'CCA':'P', 'CCC':'P', 'CCG':'P', 'CCT':'P',\n",
    "    'CAC':'H', 'CAT':'H', 'CAA':'Q', 'CAG':'Q',\n",
    "    'CGA':'R', 'CGC':'R', 'CGG':'R', 'CGT':'R',\n",
    "    'GTA':'V', 'GTC':'V', 'GTG':'V', 'GTT':'V',\n",
    "    'GCA':'A', 'GCC':'A', 'GCG':'A', 'GCT':'A',\n",
    "    'GAC':'D', 'GAT':'D', 'GAA':'E', 'GAG':'E',\n",
    "    'GGA':'G', 'GGC':'G', 'GGG':'G', 'GGT':'G',\n",
    "    'TCA':'S', 'TCC':'S', 'TCG':'S', 'TCT':'S',\n",
    "    'TTC':'F', 'TTT':'F', 'TTA':'L', 'TTG':'L',\n",
    "    'TAC':'Y', 'TAT':'Y', 'TAA':'Stop', 'TAG':'Stop',\n",
    "    'TGC':'C', 'TGT':'C', 'TGA':'Stop', 'TGG':'W'}\n",
    "    \n",
    "    aminoacido= ''\n",
    "    if len(seq):\n",
    "        for n in  range (0,len(seq),3):\n",
    "            try:\n",
    "                codon = seq[n:n+3]\n",
    "                aminoacido += codones[codon]\n",
    "            except:\n",
    "                pass\n",
    "        return aminoacido\n",
    "    "
   ]
  },
  {
   "cell_type": "code",
   "execution_count": 18,
   "metadata": {},
   "outputs": [
    {
     "data": {
      "text/plain": [
       "'MetARMetNSNPSACHVCHAALAVIDACNNNTRNSNINSStop'"
      ]
     },
     "execution_count": 18,
     "metadata": {},
     "output_type": "execute_result"
    }
   ],
   "source": [
    "traducir(\"ATGGCGCGTATGAATAGCAATCCGAGCGCATGCCATGTTTGCCATGCGGCTCTGGCGGTCATTGATGCGTGCAATAACAATACCCGTAATAGCAATATCAATAGCTAA\")"
   ]
  },
  {
   "cell_type": "markdown",
   "metadata": {},
   "source": [
    "9. Usando la función anterior, traducir la secuencia de DNA dada en los 6 frames posibles para producir un polipéptido.\n",
    "Ejemplo: traducirALL(\"ATGGCGCGTATGAATAGCAATCCGAGCGCATGCCATGTTTGCCATGCGGCTCTGGCGGTCATTGATGCGTGCAATAACAATACCCGTAATAGCAATATCAATAGCTAA\")<br>\n",
    "Out: (Frame1:Met A R Met N S N P S A C H V C H A A L A V I D A C N N N T R N S N I N S Stop, Frame2:W R V Stop I A I R A H A Met F A Met R L W R S L Met R A I T I P V I A I S I A, Frame3:G A Y E Stop Q S E R Met P C L P C G S G G H Stop C V Q Stop Q Y P Stop Stop Q Y Q Stop L, Frame4:L A I D I A I T G I V I A R I N D R Q S R Met A N Met A C A R I A I H T R H, Frame5:Stop L L I L L L R V L L L H A S Met T A R A A W Q T W H A L G L L F I R A, Frame6:S Y Stop Y C Y Y G Y C Y C T H Q Stop P P E P H G K H G Met R S D C Y S Y A P)"
   ]
  },
  {
   "cell_type": "code",
   "execution_count": 20,
   "metadata": {},
   "outputs": [
    {
     "data": {
      "text/plain": [
       "'Frame1:MetARMetNSNPSACHVCHAALAVIDACNNNTRNSNINSStopFrame2:WRVStopIAIRAHAMetFAMetRLWRSLMetRAITIPVIAISIAFrame3:GAYEStopQSERMetPCLPCGSGGHStopCVQStopQYPStopStopQYQStopLFrame4:LAIDIAITGIVIARINDRQSRMetANMetACARIAIHTRHFrame5:StopLLILLLRVLLLHASMetTARAAWQTWHALGLLFIRAFrame6:SYStopYCYYGYCYCTHQStopPPEPHGKHGMetRSDCYSYAP'"
      ]
     },
     "execution_count": 20,
     "metadata": {},
     "output_type": "execute_result"
    }
   ],
   "source": [
    "def traducirF (ADN):\n",
    "    ADNcomplementario = \"\"\n",
    "    ADNt = len (ADN)\n",
    "    n = 0\n",
    "    \n",
    "    while n <= ADNt-1:\n",
    "        if ADN[n]==\"A\":\n",
    "            ADNcomplementario =ADNcomplementario+\"T\"\n",
    "        if ADN[n]==\"T\":\n",
    "            ADNcomplementario =ADNcomplementario+\"A\"\n",
    "        if ADN[n]==\"G\":\n",
    "            ADNcomplementario =ADNcomplementario+\"C\"\n",
    "        if ADN[n]==\"C\":\n",
    "            ADNcomplementario =ADNcomplementario+\"G\"\n",
    "            \n",
    "        n = n + 1\n",
    "    return ADNcomplementario\n",
    "\n",
    "\n",
    "def frame(seq):\n",
    "    return ((\"Frame1:\" + traducir(seq)) + (\"Frame2:\" + traducir(seq[1:])) + (\"Frame3:\" + traducir(seq[2:])))\n",
    "\n",
    "def frame456 (seq):\n",
    "    invertir = seq[::-1]\n",
    "    return ((\"Frame4:\"+ traducir(traducirF(invertir)))) + (\"Frame5:\" + traducir(traducirF(invertir[1:]))) + (\"Frame6:\" + traducir(traducirF(invertir[2:])))\n",
    "\n",
    "def traducirT(seq):\n",
    "    invertir = seq[::-1]\n",
    "    return ((\"Frame1:\" + traducir(seq)) + (\"Frame2:\" + traducir(seq[1:])) + (\"Frame3:\" + traducir(seq[2:]))) + ((\"Frame4:\"+ traducir(traducirF(invertir)))) + (\"Frame5:\" + traducir(traducirF(invertir[1:]))) + (\"Frame6:\" + traducir(traducirF(invertir[2:])))\n",
    "\n",
    "traducirT(\"ATGGCGCGTATGAATAGCAATCCGAGCGCATGCCATGTTTGCCATGCGGCTCTGGCGGTCATTGATGCGTGCAATAACAATACCCGTAATAGCAATATCAATAGCTAA\")\n"
   ]
  },
  {
   "cell_type": "markdown",
   "metadata": {},
   "source": []
  },
  {
   "cell_type": "markdown",
   "metadata": {},
   "source": [
    "10. Su código genético es esencialmente el mismo desde que nace hasta que muere, y el mismo en su sangre y su cerebro. Los genes que se activan y desactivan marcan la diferencia entre las células. Esta regulación de los genes está orquestada por un mecanismo inmensamente complejo, que solo hemos empezado a comprender. Una parte central de este mecanismo consiste en moléculas llamadas factores de transcripción que se adhieren al ADN, y al hacerlo, activan o desactivan los genes cercanos. Estas moléculas se unen preferentemente a secuencias específicas de ADN, y este patrón de preferencia de unión puede representarse mediante una tabla de frecuencias de símbolos dados en cada posición del patrón. Más precisamente, cada fila en la tabla corresponde a las bases A, C, G y T, mientras que la columna j refleja cuántas veces aparece la base en la posición j en la secuencia del ADN.\n",
    "\n",
    "    Por ejemplo; si nuestro conjunto de secuencias de ADN son TAG, GGT y GGG, la tabla se convierte en\n",
    "\n",
    "\n",
    "|base|\t0|\t1|\t2|\n",
    "|----|---|---|---|\n",
    "|A\t|0\t|1\t|0  |\n",
    "|C\t|0\t|0\t|0  |\n",
    "|G \t|2\t|2\t|2  |\n",
    "|T\t|1\t|0\t|1  |\n",
    "\n",
    "De esta tabla podemos leer que la base A aparece una vez en el índice 1 en las cadenas de ADN, la base C no aparece en absoluto, la base G aparece dos veces en todas las posiciones y la base T aparece una vez al principio y al final de las cadenas.\n",
    "\n",
    "a. Dada una lista de Strings con motivos de 4 nucleótidos, construir una matriz de frecuencias para las posiciones de los 4 nucleótidos. \n",
    "\n",
    "Ejemplo:<br>\n",
    "listamotivos =[\"ACTG\", \"CCAG\", \"AGAG\", \"CGTA\"]<br>\n",
    "MatrizFrecuencia(listamotivos)<br>\n",
    "Out: [[2, 0, 2, 1]<br>\n",
    " [2, 2, 0, 0]<br>\n",
    " [0, 2, 0, 3]<br>\n",
    " [0, 0, 2, 0]]<br>\n",
    " \n",
    "b. Realizar una función que retorne el nucleótido que más frecuencia obtuvo por posición. Si tienen la misma frecuecia retornar los valores iguales. <br>\n",
    "Ejemplo:<br>\n",
    "FrecuenciaMayorNt(MatrizFrecuencia(listamotivos))<br>\n",
    "Out: [[A:0.5, C:0.5],<br>\n",
    "[C:0.5,G:0.5],<br>\n",
    "[A:0.5,T:0.5],<br>\n",
    "[G:0.75]]<br>"
   ]
  },
  {
   "cell_type": "code",
   "execution_count": 32,
   "metadata": {
    "scrolled": true
   },
   "outputs": [
    {
     "name": "stdout",
     "output_type": "stream",
     "text": [
      "(['A', 'C', '0', '0'], [0.5, 0.5, 'AGAG', 'CGTA'])\n",
      "(['0', 'C', 'G', '0'], [0.5, 0.5, 'AGAG', 'CGTA'])\n",
      "(['A', '0', '0', 'T'], [0.5, 0.5, 'AGAG', 'CGTA'])\n",
      "(['0', '0', 'G', '0'], [0.75, 'CCAG', 'AGAG', 'CGTA'])\n"
     ]
    }
   ],
   "source": [
    "def Nucleotidos (st):\n",
    "\n",
    "    C = [0]*len(st[0])\n",
    "    G = [0]*len(st[0])\n",
    "    A = [0]*len(st[0])\n",
    "    T = [0]*len(st[0])\n",
    "    for m in range (len(st[0])):\n",
    "        Ad = 0\n",
    "        Ti = 0\n",
    "        Gu = 0\n",
    "        Ci = 0\n",
    "        for n in range (len(st)):\n",
    "            if st[n][m] == 'A':\n",
    "                Ad = Ad + 1\n",
    "            elif st[n][m] == 'T':\n",
    "                Ti = Ti + 1\n",
    "            elif st[n][m] == 'G':\n",
    "                Gu = Gu + 1\n",
    "            elif st[n][m] == 'C':\n",
    "                Ci = Ci + 1\n",
    "        A[m] = Ad\n",
    "        C[m] = Ci\n",
    "        G[m] = Gu\n",
    "        T[m] = Ti\n",
    "\n",
    "    resultado = [A, C, G, T]\n",
    "    return(resultado)\n",
    "\n",
    "\n",
    "\n",
    "\n",
    "\n",
    "def frecuenciaP (st, pos):\n",
    "    bases = Nucleotidos([\"ACTG\", \"CCAG\", \"AGAG\", \"CGTA\"])\n",
    "    frecu = [0]*len(bases[0])\n",
    "    for n in range (len(bases[0])):\n",
    "        frecu[n] = bases[n][pos]/len(bases[0])\n",
    "        \n",
    "    return(frecu)\n",
    "\n",
    "def Fmayor (st, pos):\n",
    "    Fposición = frecuenciaP(st,pos) \n",
    "    mayor  = max(Fposición)\n",
    "    tamaño = 0\n",
    "    for n in range (len(Fposición)):\n",
    "        if Fposición[n] == mayor:\n",
    "            tamaño = tamaño+1\n",
    "    posiciónM = [0]*len(Fposición)\n",
    "    lista = [0]*tamaño\n",
    "    for n in range (len(Fposición)):\n",
    "        if Fposición[n] == mayor:\n",
    "            for m in range (tamaño):\n",
    "                posiciónM[n] = n+1\n",
    "                st[m] = Fposición[n]\n",
    "                \n",
    "                \n",
    "    return(posiciónM,st)\n",
    "        \n",
    "\n",
    "def final (st, pos):\n",
    "    x = Fmayor(st, pos)\n",
    "    for w in range (4):\n",
    "        if x[0][w] == 1:\n",
    "            x[0][w] = 'A'\n",
    "        elif x[0][w] == 2:\n",
    "            x[0][w] = 'C'\n",
    "        elif x[0][w] == 3:\n",
    "            x[0][w] = 'G'\n",
    "        elif x[0][w] == 4:\n",
    "            x[0][w] = 'T'\n",
    "    for w in range (4):\n",
    "        x[0][w] = str(x[0][w])\n",
    "    return(x)\n",
    "\n",
    "final([\"ACTG\", \"CCAG\", \"AGAG\", \"CGTA\"],0)\n",
    "\n",
    "for p in range (4):\n",
    "    print(final([\"ACTG\", \"CCAG\", \"AGAG\", \"CGTA\"],p))\n",
    "\n"
   ]
  },
  {
   "cell_type": "code",
   "execution_count": null,
   "metadata": {},
   "outputs": [],
   "source": []
  }
 ],
 "metadata": {
  "kernelspec": {
   "display_name": "Python 3",
   "language": "python",
   "name": "python3"
  },
  "language_info": {
   "codemirror_mode": {
    "name": "ipython",
    "version": 3
   },
   "file_extension": ".py",
   "mimetype": "text/x-python",
   "name": "python",
   "nbconvert_exporter": "python",
   "pygments_lexer": "ipython3",
   "version": "3.7.1"
  }
 },
 "nbformat": 4,
 "nbformat_minor": 2
}
