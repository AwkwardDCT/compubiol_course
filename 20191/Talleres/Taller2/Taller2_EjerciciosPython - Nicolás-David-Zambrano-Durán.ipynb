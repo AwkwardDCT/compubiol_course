{
 "cells": [
  {
   "cell_type": "markdown",
   "metadata": {},
   "source": [
    "# Taller 2 - Python\n",
    "## Fundamentos en Biología Computacional\n",
    "## 2019-1, Prof. Javier Correa\n",
    "Nota: Se calificará que el código sea lo más simple, claro, original y eficiente. No usar funciones no realizadas por ustedes mismos."
   ]
  },
  {
   "cell_type": "markdown",
   "metadata": {},
   "source": [
    "1. Realice un función para expresar cualquier número entero en su conotación factorial. <br>\n",
    "Ejemplo: factorial(4)<br>\n",
    "Out: 24"
   ]
  },
  {
   "cell_type": "code",
   "execution_count": 3,
   "metadata": {},
   "outputs": [
    {
     "data": {
      "text/plain": [
       "120"
      ]
     },
     "execution_count": 3,
     "metadata": {},
     "output_type": "execute_result"
    }
   ],
   "source": [
    "def fact(num):\n",
    "    result=1\n",
    "    i=1\n",
    "    while i<=num:\n",
    "        result=result*i\n",
    "        i=i+1\n",
    "    return result\n",
    "fact(5)"
   ]
  },
  {
   "cell_type": "markdown",
   "metadata": {},
   "source": [
    "2. Realice un función para expresar la potencia de cualquier número. La función recibe como parámetros la base y el exponencial. <br>\n",
    "Ejemplo: potencia(4,2)<br>\n",
    "Out: 16"
   ]
  },
  {
   "cell_type": "code",
   "execution_count": 5,
   "metadata": {},
   "outputs": [
    {
     "data": {
      "text/plain": [
       "27"
      ]
     },
     "execution_count": 5,
     "metadata": {},
     "output_type": "execute_result"
    }
   ],
   "source": [
    "def Potencia_De_Un_Número(Base, Exponente):\n",
    "    result= Base**Exponente\n",
    "    return result\n",
    "Potencia_De_Un_Número(3,3)\n",
    "    "
   ]
  },
  {
   "cell_type": "markdown",
   "metadata": {},
   "source": [
    "3. Utilizando las dos funciones anteriormente definidas (factorial y potencia), realice un función para expresar el Coseno de un entero. <br>\n",
    "Ejemplo: coseno(5)<br>\n",
    "fOut: 0.996194698"
   ]
  },
  {
   "cell_type": "code",
   "execution_count": 9,
   "metadata": {},
   "outputs": [
    {
     "data": {
      "text/plain": [
       "0.9961946996740816"
      ]
     },
     "execution_count": 9,
     "metadata": {},
     "output_type": "execute_result"
    }
   ],
   "source": [
    "def Potencia_De_Un_Número(Base, Exponente):\n",
    "    result= Base**Exponente\n",
    "    return result\n",
    "\n",
    "def CosenoEntero(num):\n",
    "    coseno=0\n",
    "    n=0\n",
    "    num= num*(3.141592/180)\n",
    "    while n in range (0,10):\n",
    "        coseno=coseno+ Potencia_De_Un_Número(-1,n)*((Potencia_De_Un_Número(num,2*n)/fact(2*n)))\n",
    "        n=n+1\n",
    "    return coseno\n",
    "CosenoEntero(5)\n",
    "    \n",
    "    "
   ]
  },
  {
   "cell_type": "markdown",
   "metadata": {},
   "source": [
    "4. Dadas las cantidades de individuos con los genótipos AA, AB y BB. Calcular la frecuencia de los alelos A y B <br>\n",
    "Ejemplo: FrecuenciaAlelos(12,4,4) <br>\n",
    "Out: (0.7, 0.3)"
   ]
  },
  {
   "cell_type": "code",
   "execution_count": 60,
   "metadata": {},
   "outputs": [
    {
     "data": {
      "text/plain": [
       "(0.7, 0.30000000000000004)"
      ]
     },
     "execution_count": 60,
     "metadata": {},
     "output_type": "execute_result"
    }
   ],
   "source": [
    "def FrecuenciaAlelica(AA, AB, BB):\n",
    "    suma= AA + AB + BB\n",
    "    Frec1= AA/suma\n",
    "    Frec2= AB/suma\n",
    "    Frec3= BB/suma\n",
    "    \n",
    "    FrecA=0\n",
    "    FrecB=0\n",
    "    FrecA= Frec1 + (Frec2/2)\n",
    "    FrecB= (Frec2/2) + Frec3\n",
    "    return FrecA, FrecB\n",
    "\n",
    "FrecuenciaAlelica(12,4,4)"
   ]
  },
  {
   "cell_type": "markdown",
   "metadata": {},
   "source": [
    "5. Dada una cadena de DNA retornar una de (-) RNA en sentido 5'-> 3' <br>\n",
    "Ejemplo: DNA_to_RNA(\"TCTCTACTCATGTCTGCA\")<br>\n",
    "Out: GUACUCACGUCUGCUCUC"
   ]
  },
  {
   "cell_type": "code",
   "execution_count": 55,
   "metadata": {},
   "outputs": [
    {
     "data": {
      "text/plain": [
       "'UGCAGACAUGAGUAGAG'"
      ]
     },
     "execution_count": 55,
     "metadata": {},
     "output_type": "execute_result"
    }
   ],
   "source": [
    "def PasaraRNA(DNA):\n",
    "    i=1\n",
    "    RNA=\"\"\n",
    "    while i < len(DNA):\n",
    "        if DNA[i] == \"A\":\n",
    "            RNA = RNA + \"U\"\n",
    "        if DNA[i] == \"T\":\n",
    "            RNA = RNA + \"A\"\n",
    "        if DNA[i] == \"C\":\n",
    "            RNA = RNA + \"G\"\n",
    "        if DNA[i] == \"G\":\n",
    "            RNA = RNA + \"C\"\n",
    "        i=i+1\n",
    "    return RNA[::-1]\n",
    "\n",
    "PasaraRNA(\"TCTCTACTCATGTCTGCA\")\n",
    " \n"
   ]
  },
  {
   "cell_type": "markdown",
   "metadata": {},
   "source": [
    "6. Realizar una función que calcule la Temperatura de Melting Promedio de un par de primers de DNA en grados Celcius. Teniendo en cuenta que; en un oligonucleótido < de 14 nucleótidos, la Tm se calcula multiplicando la cantidad de G+C por 4 y las A+T por 2. Mientras que, si es >= de 14 nt, se debe aplicar la siguiente fórmula (64.9 + 41 * (totalG+C -16.4) / Tamaño sel oligo). <br>\n",
    "Ejemplo: tempromelt(TCTCTACTCATGTCTGCA, TCGCGTGCACGTG)<br>\n",
    "Out: 44.88333333333334"
   ]
  },
  {
   "cell_type": "code",
   "execution_count": 67,
   "metadata": {},
   "outputs": [
    {
     "data": {
      "text/plain": [
       "44.88333333333334"
      ]
     },
     "execution_count": 67,
     "metadata": {},
     "output_type": "execute_result"
    }
   ],
   "source": [
    "def Número_de_Guaninas(primer):\n",
    "    longitud = len(primer)\n",
    "    Número = 0\n",
    "    i = 0\n",
    "    for i in range(longitud):\n",
    "        if primer[i] == \"G\":\n",
    "            Número = Número + 1\n",
    "    return Número\n",
    "\n",
    "def Número_de_Citocinas (primer):\n",
    "    longitud = len(primer)\n",
    "    Número = 0\n",
    "    i=0\n",
    "    for i in range (longitud):\n",
    "        if primer [i] == \"C\":\n",
    "            Número = Número + 1\n",
    "    return Número\n",
    "\n",
    "def Número_de_Adeninas(primer):\n",
    "    longitud = len(primer)\n",
    "    Número = 0\n",
    "    i = 0\n",
    "    for i in range (longitud):\n",
    "        if primer[i] == \"A\":\n",
    "            Número = Número + 1\n",
    "    return Número\n",
    "\n",
    "def Número_de_Timinas(primer):\n",
    "    longitud = len(primer)\n",
    "    Número = 0\n",
    "    i = 0\n",
    "    for i in range (longitud):\n",
    "        if primer[i] == \"T\":\n",
    "            Número = Número + 1\n",
    "    return Número\n",
    "\n",
    "def Guanina_Citocina(primer):\n",
    "    GuaninaCitocina = Número_de_Guaninas(primer) + Número_de_Citocinas(primer)\n",
    "    return GuaninaCitocina\n",
    "\n",
    "def Adenina_Timina(primer):\n",
    "    Adenina_Timina = Número_de_Adeninas(primer) + Número_de_Timinas(primer)\n",
    "    return Adenina_Timina\n",
    "\n",
    "def Temperatura_Melting(primer):\n",
    "    if len(primer) < 14:\n",
    "        Temperatura = Guanina_Citocina(primer)*4 + Adenina_Timina(primer)*2\n",
    "    else:\n",
    "        Temperatura =  64.9 + 41 * (Guanina_Citocina(primer)-16.4)/len(primer)\n",
    "    return Temperatura\n",
    "\n",
    "def Temperatura_Melting_Promedio(primer1, primer2):\n",
    "    return (Temperatura_Melting(primer1) + Temperatura_Melting(primer2))/2\n",
    "\n",
    "Temperatura_Melting_Promedio(\"TCTCTACTCATGTCTGCA\", \"TCGCGTGCACGTG\")"
   ]
  },
  {
   "cell_type": "markdown",
   "metadata": {},
   "source": [
    "7. Hallar la distancia Hamming entre dos secuencias dadas de polipéptidos. <br>\n",
    "link: https://es.wikipedia.org/wiki/Distancia_de_Hamming <br>\n",
    "Ejemplo: distancia_Hamming(\"SRSLLLRFLMSRSLLLRFLLFLLLLPPLPLFLLLLPPL\",\"SRSLLLRFLSSRSLLLRFLLFLLLLAALALFLLLLSML\")<br>\n",
    "Out:6"
   ]
  },
  {
   "cell_type": "code",
   "execution_count": 35,
   "metadata": {},
   "outputs": [
    {
     "data": {
      "text/plain": [
       "6"
      ]
     },
     "execution_count": 35,
     "metadata": {},
     "output_type": "execute_result"
    }
   ],
   "source": [
    "def distancia_Hamming (Secuencia1, Secuencia2):\n",
    "    Distancia = 0\n",
    "    Longitud = len (Secuencia1)\n",
    "    for i in range (Longitud):\n",
    "        if Secuencia1 [i] != Secuencia2 [i]:\n",
    "            Distancia = Distancia + 1\n",
    "    return Distancia\n",
    "\n",
    "distancia_Hamming (\"SRSLLLRFLMSRSLLLRFLLFLLLLPPLPLFLLLLPPL\", \"SRSLLLRFLSSRSLLLRFLLFLLLLAALALFLLLLSML\")\n",
    "    "
   ]
  },
  {
   "cell_type": "markdown",
   "metadata": {},
   "source": [
    "8. Dada la tabla de codones estandar, hacer una función para traducir una cadena de DNA empezando desde la posición 1 <br>\n",
    "Ejemplo: traducir(\"ATGGCGCGTATGAATAGCAATCCGAGCGCATGCCATGTTTGCCATGCGGCTCTGGCGGTCATTGATGCGTGCAATAACAATACCCGTAATAGCAATATCAATAGCTAA\")<br>\n",
    "Out: Met A R Met N S N P S A C H V C H A A L A V I D A C N N N T R N S N I N S Stop"
   ]
  },
  {
   "cell_type": "code",
   "execution_count": 87,
   "metadata": {},
   "outputs": [
    {
     "data": {
      "text/plain": [
       "'MetARMetNSNPSACHVCHAALAVIDACNNNTRNSNINSStop'"
      ]
     },
     "execution_count": 87,
     "metadata": {},
     "output_type": "execute_result"
    }
   ],
   "source": [
    "def Traducción(DNA):\n",
    "    dic = {'ATA':'I', 'ATC':'I', 'ATT':'I', 'ATG':'Met',\n",
    "    'ACA':'T', 'ACC':'T', 'ACG':'T', 'ACT':'T',\n",
    "    'AAC':'N', 'AAT':'N', 'AAA':'K', 'AAG':'K',\n",
    "    'AGC':'S', 'AGT':'S', 'AGA':'R', 'AGG':'R',\n",
    "    'CTA':'L', 'CTC':'L', 'CTG':'L', 'CTT':'L',\n",
    "    'CCA':'P', 'CCC':'P', 'CCG':'P', 'CCT':'P',\n",
    "    'CAC':'H', 'CAT':'H', 'CAA':'Q', 'CAG':'Q',\n",
    "    'CGA':'R', 'CGC':'R', 'CGG':'R', 'CGT':'R',\n",
    "    'GTA':'V', 'GTC':'V', 'GTG':'V', 'GTT':'V',\n",
    "    'GCA':'A', 'GCC':'A', 'GCG':'A', 'GCT':'A',\n",
    "    'GAC':'D', 'GAT':'D', 'GAA':'E', 'GAG':'E',\n",
    "    'GGA':'G', 'GGC':'G', 'GGG':'G', 'GGT':'G',\n",
    "    'TCA':'S', 'TCC':'S', 'TCG':'S', 'TCT':'S',\n",
    "    'TTC':'F', 'TTT':'F', 'TTA':'L', 'TTG':'L',\n",
    "    'TAC':'Y', 'TAT':'Y', 'TAA':'Stop', 'TAG':'Stop',\n",
    "    'TGC':'C', 'TGT':'C', 'TGA':'Stop', 'TGG':'W',}\n",
    "    i = 0\n",
    "    Proteína = \"\"\n",
    "    while i < len(DNA) - 2:\n",
    "        Aminoácido = dic[DNA[i:i+3]]\n",
    "        Proteína = Proteína + Aminoácido\n",
    "        i = i + 3\n",
    "    return Proteína\n",
    "\n",
    "DNA = \"ATGGCGCGTATGAATAGCAATCCGAGCGCATGCCATGTTTGCCATGCGGCTCTGGCGGTCATTGATGCGTGCAATAACAATACCCGTAATAGCAATATCAATAGCTAA\"\n",
    "\n",
    "SecuenciaRNA = PasaraRNA(DNA)\n",
    "\n",
    "Traducción(DNA)\n",
    "    "
   ]
  },
  {
   "cell_type": "markdown",
   "metadata": {},
   "source": [
    "9. Usando la función anterior, traducir la secuencia de DNA dada en los 6 frames posibles para producir un polipéptido.\n",
    "Ejemplo: traducirALL(\"ATGGCGCGTATGAATAGCAATCCGAGCGCATGCCATGTTTGCCATGCGGCTCTGGCGGTCATTGATGCGTGCAATAACAATACCCGTAATAGCAATATCAATAGCTAA\")<br>\n",
    "Out: (Frame1:Met A R Met N S N P S A C H V C H A A L A V I D A C N N N T R N S N I N S Stop, Frame2:W R V Stop I A I R A H A Met F A Met R L W R S L Met R A I T I P V I A I S I A, Frame3:G A Y E Stop Q S E R Met P C L P C G S G G H Stop C V Q Stop Q Y P Stop Stop Q Y Q Stop L, Frame4:L A I D I A I T G I V I A R I N D R Q S R Met A N Met A C A R I A I H T R H, Frame5:Stop L L I L L L R V L L L H A S Met T A R A A W Q T W H A L G L L F I R A, Frame6:S Y Stop Y C Y Y G Y C Y C T H Q Stop P P E P H G K H G Met R S D C Y S Y A P)"
   ]
  },
  {
   "cell_type": "markdown",
   "metadata": {},
   "source": []
  },
  {
   "cell_type": "code",
   "execution_count": 89,
   "metadata": {},
   "outputs": [
    {
     "data": {
      "text/plain": [
       "'1:MetARMetNSNPSACHVCHAALAVIDACNNNTRNSNINSStop,2:WRVStopIAIRAHAMetFAMetRLWRSLMetRAITIPVIAISIA,3:GAYEStopQSERMetPCLPCGSGGHStopCVQStopQYPStopStopQYQStopL,4:ARMetNSNPSACHVCHAALAVIDACNNNTRNSNINSStop,5:RVStopIAIRAHAMetFAMetRLWRSLMetRAITIPVIAISIA,6:AYEStopQSERMetPCLPCGSGGHStopCVQStopQYPStopStopQYQStopL'"
      ]
     },
     "execution_count": 89,
     "metadata": {},
     "output_type": "execute_result"
    }
   ],
   "source": [
    "def Traducir_Frames(Secuencia):\n",
    "    return (\"1\" + \":\" + Traducción(Secuencia) + \",\" + \"2\" + \":\" + Traducción(Secuencia[1:]) + \",\" + \"3\" + \":\" + Traducción(Secuencia[2:]) + \",\" + \"4\" + \":\" + Traducción(Secuencia[3:]) + \",\" + \"5\" + \":\" + Traducción(Secuencia[4:]) + \",\" + \"6\" + \":\" + Traducción(Secuencia[5:]))\n",
    "Traducir_Frames(\"ATGGCGCGTATGAATAGCAATCCGAGCGCATGCCATGTTTGCCATGCGGCTCTGGCGGTCATTGATGCGTGCAATAACAATACCCGTAATAGCAATATCAATAGCTAA\")"
   ]
  },
  {
   "cell_type": "markdown",
   "metadata": {},
   "source": [
    "10. Su código genético es esencialmente el mismo desde que nace hasta que muere, y el mismo en su sangre y su cerebro. Los genes que se activan y desactivan marcan la diferencia entre las células. Esta regulación de los genes está orquestada por un mecanismo inmensamente complejo, que solo hemos empezado a comprender. Una parte central de este mecanismo consiste en moléculas llamadas factores de transcripción que se adhieren al ADN, y al hacerlo, activan o desactivan los genes cercanos. Estas moléculas se unen preferentemente a secuencias específicas de ADN, y este patrón de preferencia de unión puede representarse mediante una tabla de frecuencias de símbolos dados en cada posición del patrón. Más precisamente, cada fila en la tabla corresponde a las bases A, C, G y T, mientras que la columna j refleja cuántas veces aparece la base en la posición j en la secuencia del ADN.\n",
    "\n",
    "    Por ejemplo; si nuestro conjunto de secuencias de ADN son TAG, GGT y GGG, la tabla se convierte en\n",
    "\n",
    "\n",
    "|base|\t0|\t1|\t2|\n",
    "|----|---|---|---|\n",
    "|A\t|0\t|1\t|0  |\n",
    "|C\t|0\t|0\t|0  |\n",
    "|G \t|2\t|2\t|2  |\n",
    "|T\t|1\t|0\t|1  |\n",
    "\n",
    "De esta tabla podemos leer que la base A aparece una vez en el índice 1 en las cadenas de ADN, la base C no aparece en absoluto, la base G aparece dos veces en todas las posiciones y la base T aparece una vez al principio y al final de las cadenas.\n",
    "\n",
    "a. Dada una lista de Strings con motivos de 4 nucleótidos, construir una matriz de frecuencias para las posiciones de los 4 nucleótidos. \n",
    "\n",
    "Ejemplo:<br>\n",
    "listamotivos =[\"ACTG\", \"CCAG\", \"AGAG\", \"CGTA\"]<br>\n",
    "MatrizFrecuencia(listamotivos)<br>\n",
    "Out: [[2, 0, 2, 1]<br>\n",
    " [2, 2, 0, 0]<br>\n",
    " [0, 2, 0, 3]<br>\n",
    " [0, 0, 2, 0]]<br>\n",
    " \n",
    "b. Realizar una función que retorne el nucleótido que más frecuencia obtuvo por posición. Si tienen la misma frecuecia retornar los valores iguales. <br>\n",
    "Ejemplo:<br>\n",
    "FrecuenciaMayorNt(MatrizFrecuencia(listamotivos))<br>\n",
    "Out: [[A:0.5, C:0.5],<br>\n",
    "[C:0.5,G:0.5],<br>\n",
    "[A:0.5,T:0.5],<br>\n",
    "[G:0.75]]<br>"
   ]
  },
  {
   "cell_type": "code",
   "execution_count": 79,
   "metadata": {},
   "outputs": [
    {
     "data": {
      "text/plain": [
       "[[2, 0, 2, 1], [2, 2, 0, 0], [0, 2, 0, 3], [0, 0, 2, 0]]"
      ]
     },
     "execution_count": 79,
     "metadata": {},
     "output_type": "execute_result"
    }
   ],
   "source": [
    "def Número_De_Bases(Lista):\n",
    "    A = [0]*len(Lista[0])\n",
    "    T = [0]*len(Lista[0])\n",
    "    C = [0]*len(Lista[0])\n",
    "    G = [0]*len(Lista[0])\n",
    "    for j in range (len(Lista[0])):\n",
    "        Adeninas = 0\n",
    "        Timinas = 0\n",
    "        Guaninas = 0\n",
    "        Citocinas = 0\n",
    "        for i in range (len(Lista)):\n",
    "            if Lista[i][j] == \"A\":\n",
    "                Adeninas = Adeninas + 1\n",
    "            elif Lista[i][j] == \"T\":\n",
    "                Timinas = Timinas + 1\n",
    "            elif Lista[i][j] == \"G\":\n",
    "                Guaninas = Guaninas + 1\n",
    "            elif Lista[i][j] == \"C\":\n",
    "                Citocinas = Citocinas + 1        \n",
    "        A[j] = Adeninas\n",
    "        C[j] = Citocinas\n",
    "        G[j] = Guaninas\n",
    "        T[j] = Timinas\n",
    "\n",
    "    result = [A, C, G, T]\n",
    "    return(result)\n",
    "\n",
    "Número_De_Bases([\"ACTG\", \"CCAG\", \"AGAG\", \"CGTA\"])\n",
    "        \n",
    "        \n",
    "        "
   ]
  },
  {
   "cell_type": "code",
   "execution_count": 82,
   "metadata": {},
   "outputs": [
    {
     "name": "stdout",
     "output_type": "stream",
     "text": [
      "(['A', 'C', '0', '0'], [0.5, 0.5])\n",
      "(['0', 'C', 'G', '0'], [0.5, 0.5])\n",
      "(['A', '0', '0', 'T'], [0.5, 0.5])\n",
      "(['0', '0', 'G', '0'], [0.75])\n"
     ]
    }
   ],
   "source": [
    "def Frecuencia_Por_Posición (Lista, Posición):\n",
    "    Número_Bases = Número_De_Bases([\"ACTG\", \"CCAG\", \"AGAG\", \"CGTA\"])\n",
    "    Frecuencia = [0]*len(Número_Bases[0])\n",
    "    for i in range (len(Número_Bases[0])):\n",
    "        Frecuencia[i] = Número_Bases[i][Posición]/len(Número_Bases[0])     \n",
    "    return Frecuencia\n",
    "\n",
    "def Frecuencia_Mayor (Lista, Posición):\n",
    "    Frecuencia_Posición = Frecuencia_Por_Posición(Lista, Posición) \n",
    "    Mayor  = max(Frecuencia_Posición)\n",
    "    Tamaño = 0\n",
    "    for i in range (len(Frecuencia_Posición)):\n",
    "        if Frecuencia_Posición[i] == Mayor:\n",
    "            Tamaño = Tamaño + 1\n",
    "    Posición_Mayores = [0]*len(Frecuencia_Posición)\n",
    "    Lista = [0]*Tamaño\n",
    "    for i in range (len(Frecuencia_Posición)):\n",
    "        if Frecuencia_Posición[i] == Mayor:\n",
    "            for j in range (Tamaño):\n",
    "                Posición_Mayores[i] = i + 1\n",
    "                Lista[j] = Frecuencia_Posición[i]            \n",
    "    return Posición_Mayores, Lista\n",
    "        \n",
    "def Final (Lista, Posición):\n",
    "    x = Frecuencia_Mayor(Lista, Posición)\n",
    "    for w in range (4):\n",
    "        if x[0][w] == 1:\n",
    "            x[0][w] = \"A\"\n",
    "        elif x[0][w] == 2:\n",
    "            x[0][w] = \"C\"\n",
    "        elif x[0][w] == 3:\n",
    "            x[0][w] = \"G\"\n",
    "        elif x[0][w] == 4:\n",
    "            x[0][w] = \"T\"\n",
    "    for w in range (4):\n",
    "        x[0][w] = str(x[0][w])\n",
    "    return(x)\n",
    "\n",
    "Final([\"ACTG\", \"CCAG\", \"AGAG\", \"CGTA\"],0)\n",
    "\n",
    "for m in range (4):\n",
    "    print(Final([\"ACTG\", \"CCAG\", \"AGAG\", \"CGTA\"],m))"
   ]
  },
  {
   "cell_type": "code",
   "execution_count": null,
   "metadata": {},
   "outputs": [],
   "source": []
  }
 ],
 "metadata": {
  "kernelspec": {
   "display_name": "Python 3",
   "language": "python",
   "name": "python3"
  },
  "language_info": {
   "codemirror_mode": {
    "name": "ipython",
    "version": 3
   },
   "file_extension": ".py",
   "mimetype": "text/x-python",
   "name": "python",
   "nbconvert_exporter": "python",
   "pygments_lexer": "ipython3",
   "version": "3.7.1"
  }
 },
 "nbformat": 4,
 "nbformat_minor": 2
}
