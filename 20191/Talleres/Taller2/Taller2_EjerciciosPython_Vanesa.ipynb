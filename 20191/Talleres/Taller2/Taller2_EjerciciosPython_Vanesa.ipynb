{
 "cells": [
  {
   "cell_type": "markdown",
   "metadata": {},
   "source": [
    "# Taller 2 - Python\n",
    "## Fundamentos en Biología Computacional\n",
    "## 2019-1, Prof. Javier Correa\n",
    "Nota: Se calificará que el código sea lo más simple, claro, original y eficiente. No usar funciones no realizadas por ustedes mismos."
   ]
  },
  {
   "cell_type": "markdown",
   "metadata": {},
   "source": [
    "1. Realice un función para expresar cualquier número entero en su conotación factorial. <br>\n",
    "Ejemplo: factorial(4)<br>\n",
    "Out: 24"
   ]
  },
  {
   "cell_type": "code",
   "execution_count": 93,
   "metadata": {},
   "outputs": [
    {
     "data": {
      "text/plain": [
       "24"
      ]
     },
     "execution_count": 93,
     "metadata": {},
     "output_type": "execute_result"
    }
   ],
   "source": [
    "def factorial(num):\n",
    "    i = 1\n",
    "    fact = 1\n",
    "    for i in range (1, num + 1):\n",
    "        fact = fact * i   \n",
    "    return fact \n",
    "    \n",
    "factorial(4)"
   ]
  },
  {
   "cell_type": "markdown",
   "metadata": {},
   "source": [
    "2. Realice un función para expresar la potencia de cualquier número. La función recibe como parámetros la base y el exponencial. <br>\n",
    "Ejemplo: potencia(4,2)<br>\n",
    "Out: 16"
   ]
  },
  {
   "cell_type": "code",
   "execution_count": 94,
   "metadata": {},
   "outputs": [
    {
     "data": {
      "text/plain": [
       "25"
      ]
     },
     "execution_count": 94,
     "metadata": {},
     "output_type": "execute_result"
    }
   ],
   "source": [
    "def potencia (base, expon):\n",
    "    pot = base ** expon\n",
    "    return pot\n",
    "\n",
    "potencia (5,2)"
   ]
  },
  {
   "cell_type": "markdown",
   "metadata": {},
   "source": [
    "3. Utilizando las dos funciones anteriormente definidas (factorial y potencia), realice un función para expresar el Coseno de un entero. <br>\n",
    "Ejemplo: coseno(5)<br>\n",
    "Out: 0.996194698"
   ]
  },
  {
   "cell_type": "code",
   "execution_count": 99,
   "metadata": {},
   "outputs": [
    {
     "data": {
      "text/plain": [
       "0.9961946803061181"
      ]
     },
     "execution_count": 99,
     "metadata": {},
     "output_type": "execute_result"
    }
   ],
   "source": [
    "def coseno(num):\n",
    "    n=0\n",
    "    d=0\n",
    "    pi = 3.1416\n",
    "    num = (num*pi)/180\n",
    "    for n in range (200):\n",
    "        cos = (potencia(-1, n))/(factorial(2*n)) * (potencia(num, 2*n))\n",
    "        d+=cos\n",
    "                         \n",
    "    return d\n",
    "                                 \n",
    "\n",
    "coseno(5)"
   ]
  },
  {
   "cell_type": "markdown",
   "metadata": {},
   "source": [
    "4. Dadas las cantidades de individuos con los genótipos AA, AB y BB. Calcular la frecuencia de los alelos A y B <br>\n",
    "Ejemplo: FrecuenciaAlelos(12,4,4) <br>\n",
    "Out: (0.7, 0.3)"
   ]
  },
  {
   "cell_type": "code",
   "execution_count": 5,
   "metadata": {},
   "outputs": [
    {
     "data": {
      "text/plain": [
       "(0.7, 0.3)"
      ]
     },
     "execution_count": 5,
     "metadata": {},
     "output_type": "execute_result"
    }
   ],
   "source": [
    "def frecuencia (AA, AB, BB):\n",
    "    Total = AA+AB+BB\n",
    "    dominante = (AA + (AB)/2)/ Total\n",
    "    recesivo = (BB + (AB)/2)/ Total\n",
    "    return dominante, recesivo\n",
    "\n",
    "frecuencia(12,4,4)"
   ]
  },
  {
   "cell_type": "markdown",
   "metadata": {},
   "source": [
    "5. Dada una cadena de DNA retornar una de (-) RNA en sentido 5'-> 3' <br>\n",
    "Ejemplo: DNA_to_RNA(\"TCTCTACTCATGTCTGCA\")<br>\n",
    "Out: GUACUCACGUCUGCUCUC"
   ]
  },
  {
   "cell_type": "code",
   "execution_count": 65,
   "metadata": {},
   "outputs": [
    {
     "data": {
      "text/plain": [
       "'ACGUCUGUACUCAUCUCU'"
      ]
     },
     "execution_count": 65,
     "metadata": {},
     "output_type": "execute_result"
    }
   ],
   "source": [
    "def dnarna(cadenadna):\n",
    "    i = 0\n",
    "    rna=''\n",
    "    rnacomp = ''\n",
    "    for i in range (0,len(cadenadna)):\n",
    "        celda=cadenadna[i] \n",
    "        if celda=='A':\n",
    "            rna=rna+'U'\n",
    "        if celda=='T':\n",
    "            rna=rna+'A'\n",
    "        if celda=='C':\n",
    "            rna=rna+'G'\n",
    "        if celda=='G':\n",
    "            rna=rna+'C' \n",
    "            \n",
    "    for i in range (0,len(rna)):\n",
    "        cell=rna[i] \n",
    "        if cell=='A':\n",
    "            rnacomp=rnacomp+'U'\n",
    "        if cell=='U':\n",
    "            rnacomp=rnacomp+'A'\n",
    "        if cell=='C':\n",
    "            rnacomp=rnacomp+'G'\n",
    "        if cell=='G':\n",
    "            rnacomp=rnacomp+'C'\n",
    "            \n",
    "        \n",
    "    return rnacomp[::-1]\n",
    "dnarna('TCTCTACTCATGTCTGCA')"
   ]
  },
  {
   "cell_type": "markdown",
   "metadata": {},
   "source": [
    "6. Realizar una función que calcule la Temperatura de Melting Promedio de un par de primers de DNA en grados Celcius. Teniendo en cuenta que; en un oligonucleótido < de 14 nucleótidos, la Tm se calcula multiplicando la cantidad de G+C por 4 y las A+T por 2. Mientras que, si es >= de 14 nt, se debe aplicar la siguiente fórmula (64.9 + 41 * (totalG+C -16.4) / Tamaño sel oligo). <br>\n",
    "Ejemplo: tempromelt(TCTCTACTCATGTCTGCA, TCGCGTGCACGTG)<br>\n",
    "Out: 44.88333333333334"
   ]
  },
  {
   "cell_type": "code",
   "execution_count": 26,
   "metadata": {},
   "outputs": [
    {
     "data": {
      "text/plain": [
       "38.0"
      ]
     },
     "execution_count": 26,
     "metadata": {},
     "output_type": "execute_result"
    }
   ],
   "source": [
    "def Tm (primer1, primer2):\n",
    "    i=0\n",
    "    sumagc1=0\n",
    "    sumata1=0\n",
    "    sumagc2=0\n",
    "    sumata2=0    \n",
    "    \n",
    "    if len(primer1) >= 14:\n",
    "        for i in range (0, len(primer1)):\n",
    "            psc = primer1[i]\n",
    "            if psc == 'G':\n",
    "                sumagc1 += 1\n",
    "            if psc == 'C':\n",
    "                sumagc1 += 1\n",
    "                \n",
    "    sumatotal1= (64.9 + 41 * (sumagc1 -16.4)) / len(primer1)\n",
    "    \n",
    "\n",
    "    if len(primer2) >= 14:\n",
    "        for i in range (0, len(primer2)):\n",
    "            psc = primer2[i]\n",
    "            if psc == 'G':\n",
    "                sumagc2 += 1\n",
    "            if psc == 'C':\n",
    "                sumagc2 += 1\n",
    "                \n",
    "    sumatotal2= (64.9 + 41 * (sumagc2 -16.4)) / len(primer2)\n",
    "    \n",
    "    \n",
    "    if len(primer1) < 14:\n",
    "        for i in range (0, len(primer1)):\n",
    "            psc = primer1[i]\n",
    "            if psc == 'G':\n",
    "                sumagc1 += 1\n",
    "            if psc == 'C':\n",
    "                sumagc1 += 1\n",
    "            if psc == 'A':\n",
    "                sumata1 += 1\n",
    "            if psc == 'T':\n",
    "                sumata1 += 1\n",
    "\n",
    "    tm1= (sumagc1*4) + (sumata1*2)\n",
    "    \n",
    "\n",
    "    if len(primer2) < 14:\n",
    "        for i in range (0, len(primer2)):\n",
    "            psc = primer2[i]\n",
    "            if psc == 'G':\n",
    "                sumagc2 += 1\n",
    "            if psc == 'C':\n",
    "                sumagc2 += 1\n",
    "            if psc == 'A':\n",
    "                sumata2 += 1\n",
    "            if psc == 'T':\n",
    "                sumata2 += 1\n",
    "\n",
    "    tm2= (sumagc2*4) + (sumata2*2)\n",
    "    \n",
    "    return (tm1+tm2)/2\n",
    "    return (sumatotal1+tm2)/2\n",
    "    return (tm1+sumatotal2)/2\n",
    "    return (sumatotal1+sumatotal2)/2\n",
    "     \n",
    "Tm('TCTCTACTCATGTCTGCA', 'TCGCGTGCACGTG')        "
   ]
  },
  {
   "cell_type": "markdown",
   "metadata": {},
   "source": [
    "7. Hallar la distancia Hamming entre dos secuencias dadas de polipéptidos. <br>\n",
    "link: https://es.wikipedia.org/wiki/Distancia_de_Hamming <br>\n",
    "Ejemplo: distancia_Hamming(\"SRSLLLRFLMSRSLLLRFLLFLLLLPPLPLFLLLLPPL\",\"SRSLLLRFLSSRSLLLRFLLFLLLLAALALFLLLLSML\")<br>\n",
    "Out:6"
   ]
  },
  {
   "cell_type": "code",
   "execution_count": 30,
   "metadata": {},
   "outputs": [
    {
     "data": {
      "text/plain": [
       "6"
      ]
     },
     "execution_count": 30,
     "metadata": {},
     "output_type": "execute_result"
    }
   ],
   "source": [
    "def hamming_distance(s1, s2):\n",
    "    i=0\n",
    "    distancia=0\n",
    "    for i in range (0,len(s1)):\n",
    "        if s1[i] != s2[i]:\n",
    "            distancia += 1  \n",
    "    return distancia    \n",
    "\n",
    "hamming_distance(\"SRSLLLRFLMSRSLLLRFLLFLLLLPPLPLFLLLLPPL\",\"SRSLLLRFLSSRSLLLRFLLFLLLLAALALFLLLLSML\")"
   ]
  },
  {
   "cell_type": "markdown",
   "metadata": {},
   "source": [
    "8. Dada la tabla de codones estandar, hacer una función para traducir una cadena de DNA empezando desde la posición 1 <br>\n",
    "Ejemplo: traducir(\"ATGGCGCGTATGAATAGCAATCCGAGCGCATGCCATGTTTGCCATGCGGCTCTGGCGGTCATTGATGCGTGCAATAACAATACCCGTAATAGCAATATCAATAGCTAA\")<br>\n",
    "Out: Met A R Met N S N P S A C H V C H A A L A V I D A C N N N T R N S N I N S Stop"
   ]
  },
  {
   "cell_type": "code",
   "execution_count": 164,
   "metadata": {},
   "outputs": [
    {
     "data": {
      "text/plain": [
       "'Met A R Met N S N P S A C H V C H A A L A V I D A C N N N T R N S N I N S Stop '"
      ]
     },
     "execution_count": 164,
     "metadata": {},
     "output_type": "execute_result"
    }
   ],
   "source": [
    "def traducir(sec): \n",
    "       \n",
    "    codones = { \n",
    "        'ATA':'I ', 'ATC':'I ', 'ATT':'I ', 'ATG':'Met ', \n",
    "        'ACA':'T ', 'ACC':'T ', 'ACG':'T ', 'ACT':'T ', \n",
    "        'AAC':'N ', 'AAT':'N ', 'AAA':'K ', 'AAG':'K ', \n",
    "        'AGC':'S ', 'AGT':'S ', 'AGA':'R ', 'AGG':'R ',                  \n",
    "        'CTA':'L ', 'CTC':'L ', 'CTG':'L ', 'CTT':'L ', \n",
    "        'CCA':'P ', 'CCC':'P ', 'CCG':'P ', 'CCT':'P ', \n",
    "        'CAC':'H ', 'CAT':'H ', 'CAA':'Q ', 'CAG':'Q ', \n",
    "        'CGA':'R ', 'CGC':'R ', 'CGG':'R ', 'CGT':'R ', \n",
    "        'GTA':'V ', 'GTC':'V ', 'GTG':'V ', 'GTT':'V ', \n",
    "        'GCA':'A ', 'GCC':'A ', 'GCG':'A ', 'GCT':'A ', \n",
    "        'GAC':'D ', 'GAT':'D ', 'GAA':'E ', 'GAG':'E ', \n",
    "        'GGA':'G ', 'GGC':'G ', 'GGG':'G ', 'GGT':'G ', \n",
    "        'TCA':'S ', 'TCC':'S ', 'TCG':'S ', 'TCT':'S ', \n",
    "        'TTC':'F ', 'TTT':'F ', 'TTA':'L ', 'TTG':'L ', \n",
    "        'TAC':'Y ', 'TAT':'Y ', 'TAA':'Stop ', 'TAG':'Stop ', \n",
    "        'TGC':'C ', 'TGT':'C ', 'TGA':'Stop ', 'TGG':'W ', \n",
    "    } \n",
    "    proteina =\"\" \n",
    "    if len(sec): \n",
    "        for i in range(0, len(sec), 3): \n",
    "            try:\n",
    "                codon = sec[i:i + 3] \n",
    "                proteina+= codones[codon]\n",
    "            except:\n",
    "                pass\n",
    "    return proteina\n",
    "traducir (\"ATGGCGCGTATGAATAGCAATCCGAGCGCATGCCATGTTTGCCATGCGGCTCTGGCGGTCATTGATGCGTGCAATAACAATACCCGTAATAGCAATATCAATAGCTAA\")\n"
   ]
  },
  {
   "cell_type": "markdown",
   "metadata": {},
   "source": [
    "9. Usando la función anterior, traducir la secuencia de DNA dada en los 6 frames posibles para producir un polipéptido.\n",
    "Ejemplo: traducirALL(\"ATGGCGCGTATGAATAGCAATCCGAGCGCATGCCATGTTTGCCATGCGGCTCTGGCGGTCATTGATGCGTGCAATAACAATACCCGTAATAGCAATATCAATAGCTAA\")<br>\n",
    "Out: (Frame1:Met A R Met N S N P S A C H V C H A A L A V I D A C N N N T R N S N I N S Stop, Frame2:W R V Stop I A I R A H A Met F A Met R L W R S L Met R A I T I P V I A I S I A, Frame3:G A Y E Stop Q S E R Met P C L P C G S G G H Stop C V Q Stop Q Y P Stop Stop Q Y Q Stop L, Frame4:L A I D I A I T G I V I A R I N D R Q S R Met A N Met A C A R I A I H T R H, Frame5:Stop L L I L L L R V L L L H A S Met T A R A A W Q T W H A L G L L F I R A, Frame6:S Y Stop Y C Y Y G Y C Y C T H Q Stop P P E P H G K H G Met R S D C Y S Y A P)"
   ]
  },
  {
   "cell_type": "code",
   "execution_count": 167,
   "metadata": {},
   "outputs": [
    {
     "data": {
      "text/plain": [
       "'TAGCAA'"
      ]
     },
     "execution_count": 167,
     "metadata": {},
     "output_type": "execute_result"
    }
   ],
   "source": [
    "def comp(cadena):\n",
    "    i = 0\n",
    "    dna=''\n",
    "    for i in range (0,len(cadena)):\n",
    "        if cadena[i]=='A':\n",
    "            dna+='T'\n",
    "        if cadena[i]=='T':\n",
    "            dna+='A'\n",
    "        if cadena[i]=='C':\n",
    "            dna+='G'\n",
    "        if cadena[i]=='G':\n",
    "            dna+='C'\n",
    "            \n",
    "    return dna\n",
    "comp('ATCGTT')"
   ]
  },
  {
   "cell_type": "code",
   "execution_count": 174,
   "metadata": {},
   "outputs": [
    {
     "data": {
      "text/plain": [
       "('frame1 Met A R Met N S N P S A C H V C H A A L A V I D A C N N N T R N S N I N S Stop ',\n",
       " 'frame2 W R V Stop I A I R A H A Met F A Met R L W R S L Met R A I T I P V I A I S I A ',\n",
       " 'frame3 G A Y E Stop Q S E R Met P C L P C G S G G H Stop C V Q Stop Q Y P Stop Stop Q Y Q Stop L ',\n",
       " 'frame4 L A I D I A I T G I V I A R I N D R Q S R Met A N Met A C A R I A I H T R H ',\n",
       " 'frame5 Stop L L I L L L R V L L L H A S Met T A R A A W Q T W H A L G L L F I R A ',\n",
       " 'frame6 S Y Stop Y C Y Y G Y C Y C T H Q Stop P P E P H G K H G Met R S D C Y S Y A P ')"
      ]
     },
     "execution_count": 174,
     "metadata": {},
     "output_type": "execute_result"
    }
   ],
   "source": [
    "def frames (sec):\n",
    "    inverso= sec[::-1]\n",
    "    return (\"frame1 \" + traducir (sec)), (\"frame2 \" + traducir (sec[1:])), (\"frame3 \" + traducir (sec[2:])), (\"frame4 \" + traducir (comp(inverso))), (\"frame5 \" + traducir (comp(inverso)[1:])), (\"frame6 \" + traducir (comp(inverso)[2:])) \n",
    "\n",
    "    \n",
    "frames (sec)\n"
   ]
  },
  {
   "cell_type": "markdown",
   "metadata": {},
   "source": [
    "$$ frame1 Met A R Met N S N P S A C H V C H A A L A V I D A C N N N T R N S N I N S Stop ',\n",
    " 'frame2 W R V Stop I A I R A H A Met F A Met R L W R S L Met R A I T I P V I A I S I A ',\n",
    " 'frame3 G A Y E Stop Q S E R Met P C L P C G S G G H Stop C V Q Stop Q Y P Stop Stop Q Y Q Stop L ',\n",
    " 'frame4 L A I D I A I T G I V I A R I N D R Q S R Met A N Met A C A R I A I H T R H ',\n",
    " 'frame5 Stop L L I L L L R V L L L H A S Met T A R A A W Q T W H A L G L L F I R A ',\n",
    " 'frame6 S Y Stop Y C Y Y G Y C Y C T H Q Stop P P E P H G K H G Met R S D C Y S Y A P $$\n",
    " "
   ]
  },
  {
   "cell_type": "markdown",
   "metadata": {},
   "source": [
    "10. Su código genético es esencialmente el mismo desde que nace hasta que muere, y el mismo en su sangre y su cerebro. Los genes que se activan y desactivan marcan la diferencia entre las células. Esta regulación de los genes está orquestada por un mecanismo inmensamente complejo, que solo hemos empezado a comprender. Una parte central de este mecanismo consiste en moléculas llamadas factores de transcripción que se adhieren al ADN, y al hacerlo, activan o desactivan los genes cercanos. Estas moléculas se unen preferentemente a secuencias específicas de ADN, y este patrón de preferencia de unión puede representarse mediante una tabla de frecuencias de símbolos dados en cada posición del patrón. Más precisamente, cada fila en la tabla corresponde a las bases A, C, G y T, mientras que la columna j refleja cuántas veces aparece la base en la posición j en la secuencia del ADN.\n",
    "\n",
    "    Por ejemplo; si nuestro conjunto de secuencias de ADN son TAG, GGT y GGG, la tabla se convierte en\n",
    "\n",
    "\n",
    "|base|\t0|\t1|\t2|\n",
    "|----|---|---|---|\n",
    "|A\t|0\t|1\t|0  |\n",
    "|C\t|0\t|0\t|0  |\n",
    "|G \t|2\t|2\t|2  |\n",
    "|T\t|1\t|0\t|1  |\n",
    "\n",
    "De esta tabla podemos leer que la base A aparece una vez en el índice 1 en las cadenas de ADN, la base C no aparece en absoluto, la base G aparece dos veces en todas las posiciones y la base T aparece una vez al principio y al final de las cadenas.\n",
    "\n",
    "a. Dada una lista de Strings con motivos de 4 nucleótidos, construir una matriz de frecuencias para las posiciones de los 4 nucleótidos. \n",
    "\n",
    "Ejemplo:<br>\n",
    "listamotivos =[\"ACTG\", \"CCAG\", \"AGAG\", \"CGTA\"]<br>\n",
    "MatrizFrecuencia(listamotivos)<br>\n",
    "Out: [[2, 0, 2, 1]<br>\n",
    " [2, 2, 0, 0]<br>\n",
    " [0, 2, 0, 3]<br>\n",
    " [0, 0, 2, 0]]<br>\n",
    " \n",
    "b. Realizar una función que retorne el nucleótido que más frecuencia obtuvo por posición. Si tienen la misma frecuecia retornar los valores iguales. <br>\n",
    "Ejemplo:<br>\n",
    "FrecuenciaMayorNt(MatrizFrecuencia(listamotivos))<br>\n",
    "Out: [[A:0.5, C:0.5],<br>\n",
    "[C:0.5,G:0.5],<br>\n",
    "[A:0.5,T:0.5],<br>\n",
    "[G:0.75]]<br>"
   ]
  },
  {
   "cell_type": "code",
   "execution_count": 6,
   "metadata": {},
   "outputs": [
    {
     "name": "stdout",
     "output_type": "stream",
     "text": [
      "(['A', 'C', '0', '0'], [0.5, 0.5])\n",
      "(['0', 'C', 'G', '0'], [0.5, 0.5])\n",
      "(['A', '0', '0', 'T'], [0.5, 0.5])\n",
      "(['0', '0', 'G', '0'], [0.75])\n"
     ]
    }
   ],
   "source": [
    "#a:\n",
    "def basesnitrogenadas (lista):\n",
    "    A = [0]*len(lista[0])\n",
    "    C = [0]*len(lista[0])\n",
    "    T = [0]*len(lista[0])\n",
    "    G = [0]*len(lista[0])\n",
    "    for x in range (len(lista[0])):\n",
    "        As = 0\n",
    "        Ts = 0\n",
    "        Gs = 0\n",
    "        Cs = 0\n",
    "        for i in range (len(lista)):\n",
    "            if lista[i][x] == 'A':\n",
    "                As += 1\n",
    "            elif lista[i][x] == 'T':\n",
    "                Ts += 1\n",
    "            elif lista[i][x] == 'G':\n",
    "                Gs += 1\n",
    "            elif lista[i][x] == 'C':\n",
    "                Cs += 1\n",
    "        A[x] = As\n",
    "        C[x] = Cs\n",
    "        G[x] = Gs\n",
    "        T[x] = Ts\n",
    "\n",
    "    total = [A, C, G, T]\n",
    "    return(total)\n",
    "\n",
    "basesnitrogenadas([\"ACTG\", \"CCAG\", \"AGAG\", \"CGTA\"])\n",
    "\n",
    "\n",
    "#b:\n",
    "\n",
    "def frecuencia (lista, posicion):\n",
    "    numerobases = basesnitrogenadas([\"ACTG\", \"CCAG\", \"AGAG\", \"CGTA\"])\n",
    "    freq = [0]*len(numerobases[0])\n",
    "    for i in range (len(numerobases[0])):\n",
    "        freq[i] = numerobases[i][posicion]/len(numerobases[0])\n",
    "        \n",
    "    return(freq)\n",
    "\n",
    "def mayor (lista, posicion):\n",
    "    freqpos = frecuencia(lista,posicion) \n",
    "    mayor  = max(freqpos)\n",
    "    tamano = 0\n",
    "    for i in range (len(freqpos)):\n",
    "        if freqpos[i] == mayor:\n",
    "            tamano += 1\n",
    "    posmayores = [0]*len(freqpos)\n",
    "    lista = [0]*tamano\n",
    "    for i in range (len(freqpos)):\n",
    "        if freqpos[i] == mayor:\n",
    "            for j in range (tamano):\n",
    "                posmayores[i] = i+1\n",
    "                lista[j] = freqpos[i]\n",
    "                \n",
    "                \n",
    "    return(posmayores,lista)\n",
    "        \n",
    "\n",
    "def final (lista, posicion):\n",
    "    x = mayor(lista, posicion)\n",
    "    for w in range (4):\n",
    "        if x[0][w] == 1:\n",
    "            x[0][w] = 'A'\n",
    "        elif x[0][w] == 2:\n",
    "            x[0][w] = 'C'\n",
    "        elif x[0][w] == 3:\n",
    "            x[0][w] = 'G'\n",
    "        elif x[0][w] == 4:\n",
    "            x[0][w] = 'T'\n",
    "    for w in range (4):\n",
    "        x[0][w] = str(x[0][w])\n",
    "    return(x)\n",
    "\n",
    "final([\"ACTG\", \"CCAG\", \"AGAG\", \"CGTA\"],0)\n",
    "\n",
    "for m in range (4):\n",
    "    print(final([\"ACTG\", \"CCAG\", \"AGAG\", \"CGTA\"],m))"
   ]
  }
 ],
 "metadata": {
  "kernelspec": {
   "display_name": "Python 3",
   "language": "python",
   "name": "python3"
  },
  "language_info": {
   "codemirror_mode": {
    "name": "ipython",
    "version": 3
   },
   "file_extension": ".py",
   "mimetype": "text/x-python",
   "name": "python",
   "nbconvert_exporter": "python",
   "pygments_lexer": "ipython3",
   "version": "3.7.1"
  }
 },
 "nbformat": 4,
 "nbformat_minor": 2
}
