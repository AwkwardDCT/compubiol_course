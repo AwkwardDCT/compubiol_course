{
 "cells": [
  {
   "cell_type": "markdown",
   "metadata": {},
   "source": [
    "# Taller 2 - Python\n",
    "## Fundamentos en Biología Computacional\n",
    "## Andres Felipe Sanchez Aguirre\n"
   ]
  },
  {
   "cell_type": "markdown",
   "metadata": {},
   "source": [
    "# 1"
   ]
  },
  {
   "cell_type": "code",
   "execution_count": 13,
   "metadata": {},
   "outputs": [
    {
     "data": {
      "text/plain": [
       "24"
      ]
     },
     "execution_count": 13,
     "metadata": {},
     "output_type": "execute_result"
    }
   ],
   "source": [
    "def factorial(num):\n",
    "    fact=1\n",
    "    i=1\n",
    "    while i<=num:\n",
    "        fact=fact*i\n",
    "        i=i+1\n",
    "    return fact\n",
    "factorial(4)"
   ]
  },
  {
   "cell_type": "markdown",
   "metadata": {},
   "source": [
    "# 2"
   ]
  },
  {
   "cell_type": "code",
   "execution_count": 14,
   "metadata": {},
   "outputs": [
    {
     "data": {
      "text/plain": [
       "16"
      ]
     },
     "execution_count": 14,
     "metadata": {},
     "output_type": "execute_result"
    }
   ],
   "source": [
    "def exponente(base,exp):\n",
    "    total=0\n",
    "    total=base**exp\n",
    "    return total\n",
    "exponente(4,2)"
   ]
  },
  {
   "cell_type": "markdown",
   "metadata": {},
   "source": [
    "# 3"
   ]
  },
  {
   "cell_type": "code",
   "execution_count": 15,
   "metadata": {},
   "outputs": [
    {
     "data": {
      "text/plain": [
       "0.9961946996740816"
      ]
     },
     "execution_count": 15,
     "metadata": {},
     "output_type": "execute_result"
    }
   ],
   "source": [
    "def factorial(num):\n",
    "    fact=1\n",
    "    i=1\n",
    "    while i<=num:\n",
    "        fact=fact*i\n",
    "        i=i+1\n",
    "    return fact\n",
    "def exponente(base,exp):\n",
    "    total=0\n",
    "    total=base**exp\n",
    "    return total\n",
    "exponente(4,2)\n",
    "def coseno(num):\n",
    "    num= num*(3.141592/180)\n",
    "    num=float(num)\n",
    "    cos=0.0\n",
    "    i=0\n",
    "    for i in range(0,50):\n",
    "        cos= cos+exponente(-1,i)*(exponente(num,2*i)/factorial(2*i))\n",
    "        i=i+1\n",
    "    return cos \n",
    "coseno(5)"
   ]
  },
  {
   "cell_type": "markdown",
   "metadata": {},
   "source": [
    "# 4"
   ]
  },
  {
   "cell_type": "code",
   "execution_count": 16,
   "metadata": {},
   "outputs": [
    {
     "data": {
      "text/plain": [
       "(0.7, 0.30000000000000004)"
      ]
     },
     "execution_count": 16,
     "metadata": {},
     "output_type": "execute_result"
    }
   ],
   "source": [
    "def frecuenciaAlelos(AA,AB,BB):\n",
    "    Total=AA+AB+BB\n",
    "    AA=AA/Total\n",
    "    AB=AB/Total\n",
    "    BB=BB/Total\n",
    "    FA=AA+(AB/2)\n",
    "    FB=BB+(AB/2)\n",
    "    return FA,FB\n",
    "frecuenciaAlelos(12,4,4)"
   ]
  },
  {
   "cell_type": "markdown",
   "metadata": {},
   "source": [
    "# 5"
   ]
  },
  {
   "cell_type": "code",
   "execution_count": 17,
   "metadata": {},
   "outputs": [
    {
     "data": {
      "text/plain": [
       "'UGCAGACAUGAGUAGAGA'"
      ]
     },
     "execution_count": 17,
     "metadata": {},
     "output_type": "execute_result"
    }
   ],
   "source": [
    "def DNA_to_RNA(DNA):\n",
    "    i=0\n",
    "    RNA=\"\"\n",
    "    while i<len(DNA):\n",
    "        if DNA[i]==\"A\":\n",
    "            RNA= RNA+ \"U\"\n",
    "        if DNA[i]==\"T\":\n",
    "            RNA= RNA + \"A\"\n",
    "        if DNA[i]==\"G\":\n",
    "            RNA=RNA + \"C\"\n",
    "        if DNA[i]==\"C\":\n",
    "            RNA=RNA+\"G\"\n",
    "        i=i+1\n",
    "    return RNA[::-1]\n",
    "\n",
    "cadenaDNA=\"TCTCTACTCATGTCTGCA\"\n",
    "DNA_to_RNA(cadenaDNA)"
   ]
  },
  {
   "cell_type": "markdown",
   "metadata": {},
   "source": [
    "# 6"
   ]
  },
  {
   "cell_type": "code",
   "execution_count": 18,
   "metadata": {},
   "outputs": [
    {
     "data": {
      "text/plain": [
       "44.88333333333334"
      ]
     },
     "execution_count": 18,
     "metadata": {},
     "output_type": "execute_result"
    }
   ],
   "source": [
    "def TempMel(primer1,primer2):\n",
    "    sumaGC1=0\n",
    "    sumaAT1=0\n",
    "    sumaGC2=0\n",
    "    sumaAT2=0\n",
    "    log1=len(primer1)\n",
    "    log2=len(primer2)\n",
    "    temp1=0\n",
    "    temp2=0\n",
    "    i=0\n",
    "    j=0\n",
    "    while i<log1:\n",
    "        if primer1[i]==\"C\" or primer1[i]==\"G\":\n",
    "            sumaGC1=sumaGC1 + 1\n",
    "        if primer1[i]==\"A\" or primer1[i]==\"T\":\n",
    "            sumaAT1=sumaAT1 + 1\n",
    "        i=i+1\n",
    "    \n",
    "    while j<log2:\n",
    "        if primer2[j]==\"C\" or primer2[j]==\"G\":\n",
    "            sumaGC2=sumaGC2 + 1\n",
    "        if primer2[j]==\"A\" or primer2[j]==\"T\":\n",
    "            sumaAT2=sumaAT2 + 1\n",
    "        j=j+1\n",
    "\n",
    "    if log2<14:\n",
    "        temp2=(sumaGC2*4 + sumaAT2*2)\n",
    "    else:\n",
    "        temp2=(64.9 + 41 * ((sumaGC2 -16.4) / log2)) \n",
    "    if log1 <14:\n",
    "        temp1=(sumaGC1*4 + sumaAT1*2)\n",
    "    else:\n",
    "        temp1=(64.9 + 41 * ((sumaGC1 -16.4) / log1))\n",
    "    return (temp1+temp2)/2\n",
    "               \n",
    "primer1=\"TCTCTACTCATGTCTGCA\"\n",
    "primer2=\"TCGCGTGCACGTG\"\n",
    "TempMel(primer1,primer2)"
   ]
  },
  {
   "cell_type": "markdown",
   "metadata": {},
   "source": [
    "# 7"
   ]
  },
  {
   "cell_type": "code",
   "execution_count": 19,
   "metadata": {},
   "outputs": [
    {
     "data": {
      "text/plain": [
       "6"
      ]
     },
     "execution_count": 19,
     "metadata": {},
     "output_type": "execute_result"
    }
   ],
   "source": [
    "def distancia_Hamming(pol1,pol2):\n",
    "    i=0\n",
    "    sum=0\n",
    "    while i< len(pol1):\n",
    "        if pol1[i] != pol2[i]:\n",
    "            sum=sum+1\n",
    "            i=i+1\n",
    "        else:\n",
    "            i=i+1\n",
    "    return sum\n",
    "\n",
    "pol1=\"SRSLLLRFLMSRSLLLRFLLFLLLLPPLPLFLLLLPPL\"\n",
    "pol2=\"SRSLLLRFLSSRSLLLRFLLFLLLLAALALFLLLLSML\"\n",
    "distancia_Hamming (pol1,pol2)"
   ]
  },
  {
   "cell_type": "markdown",
   "metadata": {},
   "source": [
    "# 8"
   ]
  },
  {
   "cell_type": "code",
   "execution_count": 20,
   "metadata": {},
   "outputs": [
    {
     "data": {
      "text/plain": [
       "' Met A R Met N S N P S A C H V C H A A L A V I D A C N N N T R N S N I N S Stop'"
      ]
     },
     "execution_count": 20,
     "metadata": {},
     "output_type": "execute_result"
    }
   ],
   "source": [
    " tabla_codones= {\n",
    "    'TTC':'F', 'TTT':'F', 'CTA':'L', 'CTC':'L', 'CTG':'L', 'CTT':'L','ATA':'I', 'ATC':'I', 'ATT':'I', 'GTA':'V', 'GTC':'V', \n",
    "     'GTG':'V', 'GTT':'V', 'TCA':'S', 'TCC':'S', 'TCG':'S', 'TCT':'S',  'AGC':'S', 'AGT':'S', 'CCA':'P', 'CCC':'P', \n",
    "     'CCG':'P', 'CCT':'P','ATG':'Met', 'ACA':'T', 'ACC':'T', 'ACG':'T', 'ACT':'T', 'GCA':'A', 'GCC':'A', \n",
    "    'GCG':'A', 'GCT':'A','TAC':'Y', 'TAT':'Y','CAC':'H', 'CAT':'H', 'CAA':'Q', 'CAG':'Q', 'AAC':'N', 'AAT':'N', \n",
    "     'AAA':'K', 'AAG':'K', 'GAC':'D', 'GAT':'D', 'GAA':'E', 'GAG':'E', 'TGC':'C', 'TGT':'C', 'TGG':'W','AGA':'R', 'AGG':'R',   \n",
    "    'CGA':'R', 'CGC':'R', 'CGG':'R', 'CGT':'R', 'GGA':'G', 'GGC':'G', 'GGG':'G', 'GGT':'G', 'TTA':'L', 'TTG':'L',  \n",
    "     'TAA':'Stop', 'TAG':'Stop', 'TGA':'Stop',}\n",
    "def trad(ADN):\n",
    "    i=0\n",
    "    protein=\"\"\n",
    "    while i < len(ADN)-2:\n",
    "        amino = tabla_codones[ADN[i:i+3]]\n",
    "        protein += \" \"+ amino\n",
    "        i=i+3\n",
    "    return protein\n",
    "ADN=\"ATGGCGCGTATGAATAGCAATCCGAGCGCATGCCATGTTTGCCATGCGGCTCTGGCGGTCATTGATGCGTGCAATAACAATACCCGTAATAGCAATATCAATAGCTAA\"\n",
    "trad(ADN)"
   ]
  },
  {
   "cell_type": "markdown",
   "metadata": {},
   "source": [
    "# 9"
   ]
  },
  {
   "cell_type": "code",
   "execution_count": 21,
   "metadata": {},
   "outputs": [
    {
     "name": "stdout",
     "output_type": "stream",
     "text": [
      "1: Met A R Met N S N P S A C H V C H A A L A V I D A C N N N T R N S N I N S Stop\n",
      "2: W R V Stop I A I R A H A Met F A Met R L W R S L Met R A I T I P V I A I S I A\n",
      "3: G A Y E Stop Q S E R Met P C L P C G S G G H Stop C V Q Stop Q Y P Stop Stop Q Y Q Stop L\n",
      "4: L A I D I A I T G I V I A R I N D R Q S R Met A N Met A C A R I A I H T R H\n",
      "5: Stop L L I L L L R V L L L H A S Met T A R A A W Q T W H A L G L L F I R A\n",
      "6: S Y Stop Y C Y Y G Y C Y C T H Q Stop P P E P H G K H G Met R S D C Y S Y A P\n"
     ]
    }
   ],
   "source": [
    "ADN=\"ATGGCGCGTATGAATAGCAATCCGAGCGCATGCCATGTTTGCCATGCGGCTCTGGCGGTCATTGATGCGTGCAATAACAATACCCGTAATAGCAATATCAATAGCTAA\"\n",
    "def Frames(ADN):\n",
    "    print (\"1\" + \":\" + trad(ADN)) \n",
    "    print (\"2\" + \":\" + trad(ADN[1:])) \n",
    "    print (\"3\" + \":\" + trad(ADN[2:]))\n",
    "Frames(ADN)\n",
    "def DNAADNAC(ADN):\n",
    "    j=0\n",
    "    DNAC=\"\"\n",
    "    while j < len(ADN):\n",
    "        if ADN[j]==\"T\":\n",
    "            DNAC=DNAC + \"A\"\n",
    "        if ADN[j]==\"G\":\n",
    "            DNAC=DNAC+\"C\"\n",
    "        if ADN[j]==\"A\":\n",
    "            DNAC=DNAC+\"T\"\n",
    "        if ADN[j]==\"C\":\n",
    "            DNAC=DNAC+\"G\"\n",
    "        j=j+1\n",
    "    return DNAC[::-1]\n",
    "DNAADNAC(ADN)\n",
    "print (\"4\"+\":\"+ trad(DNAADNAC(ADN)))\n",
    "print (\"5\"+\":\"+ trad(DNAADNAC(ADN)[1:]))\n",
    "print (\"6\"+\":\"+ trad(DNAADNAC(ADN)[2:]))"
   ]
  },
  {
   "cell_type": "markdown",
   "metadata": {},
   "source": [
    "$$1: Met A R Met N S N P S A C H V C H A A L A V I D A C N N N T R N S N I N S Stop\n",
    "2: W R V Stop I A I R A H A Met F A Met R L W R S L Met R A I T I P V I A I S I A\n",
    "3: G A Y E Stop Q S E R Met P C L P C G S G G H Stop C V Q Stop Q Y P Stop Stop Q Y Q Stop L\n",
    "4: L A I D I A I T G I V I A R I N D R Q S R Met A N Met A C A R I A I H T R H\n",
    "5: Stop L L I L L L R V L L L H A S Met T A R A A W Q T W H A L G L L F I R A\n",
    "6: S Y Stop Y C Y Y G Y C Y C T H Q Stop P P E P H G K H G Met R S D C Y S Y A P$$"
   ]
  },
  {
   "cell_type": "markdown",
   "metadata": {},
   "source": [
    "### 1: Met A R Met N S N P S A C H V C H A A L A V I D A C N N N T R N S N I N S Stop\n",
    "### 2: W R V Stop I A I R A H A Met F A Met R L W R S L Met R A I T I P V I A I S I A\n",
    "### 3: G A Y E Stop Q S E R Met P C L P C G S G G H Stop C V Q Stop Q Y P Stop Stop Q Y Q Stop L\n",
    "### 4: L A I D I A I T G I V I A R I N D R Q S R Met A N Met A C A R I A I H T R H\n",
    "### 5: Stop L L I L L L R V L L L H A S Met T A R A A W Q T W H A L G L L F I R A\n",
    "### 6: S Y Stop Y C Y Y G Y C Y C T H Q Stop P P E P H G K H G Met R S D C Y S Y A P"
   ]
  },
  {
   "cell_type": "markdown",
   "metadata": {},
   "source": [
    "# 10"
   ]
  },
  {
   "cell_type": "code",
   "execution_count": 2,
   "metadata": {},
   "outputs": [
    {
     "name": "stdout",
     "output_type": "stream",
     "text": [
      "[2, 0, 2, 1]\n",
      "[2, 2, 0, 0]\n",
      "[0, 2, 0, 3]\n",
      "[0, 0, 2, 0]\n"
     ]
    }
   ],
   "source": [
    "###a\n",
    "lista=[\"ACTG\", \"CCAG\", \"AGAG\", \"CGTA\"]\n",
    "def matrizFrecuencia(lista):\n",
    "    i=0\n",
    "    resultado=[[0,0,0,0],[0,0,0,0],[0,0,0,0],[0,0,0,0]]\n",
    "    for secuencias in lista:\n",
    "        for i in range(0,4):\n",
    "            if secuencias[i]=='A':\n",
    "                resultado[0][i]+=1\n",
    "            if secuencias[i]=='C':\n",
    "                resultado[1][i]+=+1\n",
    "            if secuencias[i]=='G':\n",
    "                resultado[2][i]+=1\n",
    "            if secuencias[i]=='T':\n",
    "                resultado[3][i]+=1\n",
    "    print (resultado[0])\n",
    "    print (resultado[1])\n",
    "    print (resultado[2])\n",
    "    print (resultado[3])\n",
    "matrizFrecuencia(lista)"
   ]
  },
  {
   "cell_type": "code",
   "execution_count": 21,
   "metadata": {},
   "outputs": [
    {
     "name": "stdout",
     "output_type": "stream",
     "text": [
      "[[2, 0, 2, 1], [2, 2, 0, 0], [0, 2, 0, 3], [0, 0, 2, 0]]\n"
     ]
    },
    {
     "data": {
      "text/plain": [
       "([0.5, 0.5], [0.5, 0.5], [0.5, 0.5], [0.5, ''])"
      ]
     },
     "execution_count": 21,
     "metadata": {},
     "output_type": "execute_result"
    }
   ],
   "source": [
    "lista=[\"ACTG\", \"CCAG\", \"AGAG\", \"CGTA\"]\n",
    "def matrizFrecuencia(lista):\n",
    "    i=0\n",
    "    resultado=[[0,0,0,0],[0,0,0,0],[0,0,0,0],[0,0,0,0]]\n",
    "    for secuencias in lista:\n",
    "        for i in range(0,4):\n",
    "            if secuencias[i]=='A':\n",
    "                resultado[0][i]+=1\n",
    "            if secuencias[i]=='C':\n",
    "                resultado[1][i]+=+1\n",
    "            if secuencias[i]=='G':\n",
    "                resultado[2][i]+=1\n",
    "            if secuencias[i]=='T':\n",
    "                resultado[3][i]+=1\n",
    "    return resultado\n",
    "matrizFrecuencia(lista)\n",
    "def FrecuenciaMayor(lista):\n",
    "    i=0\n",
    "    frec1=[0,0]\n",
    "    frec2=[0,0]\n",
    "    frec3=[0,0]\n",
    "    frec4=[0,0]\n",
    "    matriz=matrizFrecuencia(lista)\n",
    "    print(matriz)\n",
    "    for i in range(0,3):\n",
    "        if matriz[0][i]>matriz[0][i+1]:\n",
    "            if frec1[0]==matriz[0][i]:\n",
    "                frec1[1]=matriz[0][i]\n",
    "            else:\n",
    "                frec1[0]=matriz[1][i]\n",
    "    for i in range(0,3):\n",
    "        if matriz[1][i]>matriz[1][i+1]:\n",
    "            if frec2[0]==matriz[1][i]:\n",
    "                frec2[1]=matriz[1][i]\n",
    "            else:\n",
    "                frec2[0]=matriz[1][i]\n",
    "    for i in range(0,3):\n",
    "        if matriz[2][i]>matriz[2][i+1]:\n",
    "            if frec3[0]==matriz[2][i]:\n",
    "                frec3[1]=matriz[2][i]\n",
    "            else:\n",
    "                frec3[0]=matriz[2][i]\n",
    "    for i in range(0,3):\n",
    "        if matriz[3][i]>matriz[3][i+1]:\n",
    "            if frec4[0]==matriz[3][i]:\n",
    "                frec4[1]=matriz[3][i]\n",
    "            else:\n",
    "                frec4[0]=matriz[3][i]\n",
    "        i=i+1\n",
    "    i=0\n",
    "    frec1[0]=(frec1[0]+frec1[1])/8\n",
    "    frec1[1]=frec1[0]\n",
    "    frec2[0]=(frec2[0]+frec2[1])/4\n",
    "    frec2[1]= frec2[0]\n",
    "    frec3[0]=(frec3[0]+frec3[1])/4\n",
    "    frec3[1]=frec3[0]\n",
    "    frec4[0]=frec4[0]/4\n",
    "    frec4[1]=\"\"\n",
    "    return frec1,frec2,frec3,frec4\n",
    "FrecuenciaMayor(lista)"
   ]
  },
  {
   "cell_type": "code",
   "execution_count": null,
   "metadata": {},
   "outputs": [],
   "source": []
  }
 ],
 "metadata": {
  "kernelspec": {
   "display_name": "Python 3",
   "language": "python",
   "name": "python3"
  },
  "language_info": {
   "codemirror_mode": {
    "name": "ipython",
    "version": 3
   },
   "file_extension": ".py",
   "mimetype": "text/x-python",
   "name": "python",
   "nbconvert_exporter": "python",
   "pygments_lexer": "ipython3",
   "version": "3.7.1"
  }
 },
 "nbformat": 4,
 "nbformat_minor": 2
}
