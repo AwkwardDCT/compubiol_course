{
 "cells": [
  {
   "cell_type": "markdown",
   "metadata": {},
   "source": [
    "# Taller 2 - Python\n",
    "## Fundamentos en Biología Computacional\n",
    "## 2019-1, Prof. Javier Correa\n",
    "Nota: Se calificará que el código sea lo más simple, claro, original y eficiente. No usar funciones no realizadas por ustedes mismos."
   ]
  },
  {
   "cell_type": "markdown",
   "metadata": {},
   "source": [
    "1. Realice un función para expresar cualquier número entero en su conotación factorial. <br>\n",
    "Ejemplo: factorial(4)<br>\n",
    "Out: 24"
   ]
  },
  {
   "cell_type": "code",
   "execution_count": 31,
   "metadata": {},
   "outputs": [
    {
     "data": {
      "text/plain": [
       "24"
      ]
     },
     "execution_count": 31,
     "metadata": {},
     "output_type": "execute_result"
    }
   ],
   "source": [
    "def EnteroAfactorial(n):\n",
    "    i=1\n",
    "    f=1\n",
    "    for i in range(1,n+1):\n",
    "        f=i*f\n",
    "    return f\n",
    "\n",
    "EnteroAfactorial(4)    "
   ]
  },
  {
   "cell_type": "markdown",
   "metadata": {},
   "source": [
    "2. Realice un función para expresar la potencia de cualquier número. La función recibe como parámetros la base y el exponencial. <br>\n",
    "Ejemplo: potencia(4,2)<br>\n",
    "Out: 16"
   ]
  },
  {
   "cell_type": "code",
   "execution_count": 34,
   "metadata": {},
   "outputs": [
    {
     "data": {
      "text/plain": [
       "16"
      ]
     },
     "execution_count": 34,
     "metadata": {},
     "output_type": "execute_result"
    }
   ],
   "source": [
    "def PotenciaDeNumero(base,expo):\n",
    "    return base**expo\n",
    "\n",
    "PotenciaDeNumero(4,2)"
   ]
  },
  {
   "cell_type": "markdown",
   "metadata": {},
   "source": [
    "3. Utilizando las dos funciones anteriormente definidas (factorial y potencia), realice un función para expresar el Coseno de un entero. <br>\n",
    "Ejemplo: coseno(5)<br>\n",
    "Out: 0.996194698"
   ]
  },
  {
   "cell_type": "code",
   "execution_count": 37,
   "metadata": {},
   "outputs": [
    {
     "data": {
      "text/plain": [
       "0.9961946996740816"
      ]
     },
     "execution_count": 37,
     "metadata": {},
     "output_type": "execute_result"
    }
   ],
   "source": [
    "def Coseno(N):\n",
    "    N = N *3.141592/180\n",
    "    sum=0.0\n",
    "    i=0\n",
    "    for i in range(0,20):\n",
    "        pots =  PotenciaDeNumero(-1,i)\n",
    "        potn =  PotenciaDeNumero(N,2*i)\n",
    "        fact =  EnteroAfactorial(2*i)\n",
    "        sum = sum+ pots*potn/fact\n",
    "        i=i+1\n",
    "    return sum\n",
    "Coseno(5)"
   ]
  },
  {
   "cell_type": "markdown",
   "metadata": {},
   "source": [
    "4. Dadas las cantidades de individuos con los genótipos AA, AB y BB. Calcular la frecuencia de los alelos A y B <br>\n",
    "Ejemplo: FrecuenciaAlelos(12,4,4) <br>\n",
    "Out: (0.7, 0.3)"
   ]
  },
  {
   "cell_type": "code",
   "execution_count": 26,
   "metadata": {},
   "outputs": [
    {
     "data": {
      "text/plain": [
       "(0.7, 0.3)"
      ]
     },
     "execution_count": 26,
     "metadata": {},
     "output_type": "execute_result"
    }
   ],
   "source": [
    "def FrecuenciaAlelica(AA,AB,BB):\n",
    "    total=AA+AB+BB\n",
    "    ABdiv=AB/2\n",
    "    aleloA=(AA+ABdiv)/total\n",
    "    aleloB=(BB+ABdiv)/total\n",
    "    \n",
    "    return aleloA,aleloB\n",
    "\n",
    "FrecuenciaAlelica(12,4,4)\n",
    "\n"
   ]
  },
  {
   "cell_type": "markdown",
   "metadata": {},
   "source": [
    "5. Dada una cadena de DNA retornar una de (-) RNA en sentido 5'-> 3' <br>\n",
    "Ejemplo: DNA_to_RNA(\"TCTCTACTCATGTCTGCA\")<br>\n",
    "Out: GUACUCACGUCUGCUCUC"
   ]
  },
  {
   "cell_type": "code",
   "execution_count": 18,
   "metadata": {},
   "outputs": [
    {
     "data": {
      "text/plain": [
       "'UGCAGACAUGAGUAGAGA'"
      ]
     },
     "execution_count": 18,
     "metadata": {},
     "output_type": "execute_result"
    }
   ],
   "source": [
    "def DNA_to_RNA(cadenaDNA):\n",
    "    i=0\n",
    "    RNA=''\n",
    "    for i in range(0,len(cadenaDNA)):\n",
    "        base=cadenaDNA[i]\n",
    "        if base=='A':\n",
    "            RNA=RNA+'U'\n",
    "        if base=='T':\n",
    "            RNA=RNA+'A'\n",
    "        if base=='C':\n",
    "            RNA=RNA+'G'\n",
    "        if base=='G':\n",
    "            RNA=RNA+'C'\n",
    "            \n",
    "    return RNA[::-1]\n",
    "\n",
    "DNA_to_RNA('TCTCTACTCATGTCTGCA')\n",
    "        "
   ]
  },
  {
   "cell_type": "markdown",
   "metadata": {},
   "source": [
    "6. Realizar una función que calcule la Temperatura de Melting Promedio de un par de primers de DNA en grados Celcius. Teniendo en cuenta que; en un oligonucleótido < de 14 nucleótidos, la Tm se calcula multiplicando la cantidad de G+C por 4 y las A+T por 2. Mientras que, si es >= de 14 nt, se debe aplicar la siguiente fórmula (64.9 + 41 * (totalG+C -16.4) / Tamaño sel oligo). <br>\n",
    "Ejemplo: tempromelt(TCTCTACTCATGTCTGCA, TCGCGTGCACGTG)<br>\n",
    "Out: 44.88333333333334"
   ]
  },
  {
   "cell_type": "code",
   "execution_count": 15,
   "metadata": {},
   "outputs": [
    {
     "data": {
      "text/plain": [
       "45.76666666666668"
      ]
     },
     "execution_count": 15,
     "metadata": {},
     "output_type": "execute_result"
    }
   ],
   "source": [
    "def Tpromelting(primer1,primer2):\n",
    "    i=0 \n",
    "    j=0\n",
    "    sumaGCprimer1=0\n",
    "    sumaATprimer1=0\n",
    "    sumaGCprimer2=0\n",
    "    sumaATprimer2=0\n",
    "    tm1=0 \n",
    "    tm2=0\n",
    "    while i < len(primer1):\n",
    "        if primer1[i]=='C' or primer1[i]=='G':\n",
    "            sumaGCprimer1=sumaGCprimer1+1\n",
    "        if primer1[i]=='A' or primer1[i]=='T':\n",
    "            sumaATprimer1=sumaATprimer1+1\n",
    "        i=i+1\n",
    "        \n",
    "    while i < len(primer2):\n",
    "        if primer2[j]=='C' or primer2[j]=='G':\n",
    "            sumaGCprimer2=sumaGCprimer2+1\n",
    "        if primer2[j]=='A' or primer2[j]=='T':\n",
    "            sumaATprimer2=sumaATprimer2+1\n",
    "        j=j+1\n",
    "        \n",
    "    if len(primer1)<14:\n",
    "        tm1=(sumaGCprimer1*4)+(sumaATprimer1*2)\n",
    "    else:\n",
    "         tm1=(64.9 + 41 * (sumaGCprimer1 -16.4) / len(primer1))\n",
    "            \n",
    "    if len(primer2)<14:\n",
    "        tm2=(sumaGCprimer2*4)+(sumaATprimer2*2)\n",
    "    else:\n",
    "        tm2=(64.9 + 41 * (sumaGCprimer2 - 16.4) / len(primer2))\n",
    "    prom=tm1+tm2/2   \n",
    "    return prom\n",
    "\n",
    "primer1=\"TCTCTACTCATGTCTGCA\"\n",
    "primer2=\"TCGCGTGCACGTG\"\n",
    "Tpromelting(primer1,primer2)\n"
   ]
  },
  {
   "cell_type": "markdown",
   "metadata": {},
   "source": [
    "7. Hallar la distancia Hamming entre dos secuencias dadas de polipéptidos. <br>\n",
    "link: https://es.wikipedia.org/wiki/Distancia_de_Hamming <br>\n",
    "Ejemplo: distancia_Hamming(\"SRSLLLRFLMSRSLLLRFLLFLLLLPPLPLFLLLLPPL\",\"SRSLLLRFLSSRSLLLRFLLFLLLLAALALFLLLLSML\")<br>\n",
    "Out:6"
   ]
  },
  {
   "cell_type": "code",
   "execution_count": 17,
   "metadata": {},
   "outputs": [
    {
     "data": {
      "text/plain": [
       "6"
      ]
     },
     "execution_count": 17,
     "metadata": {},
     "output_type": "execute_result"
    }
   ],
   "source": [
    "def distanciaHam(cadena1,cadena2):\n",
    "    i=0\n",
    "    sumadiferencias=0\n",
    "    while i<len(cadena1):\n",
    "        if cadena1[i]!=cadena2[i]:\n",
    "            sumadiferencias=sumadiferencias+1\n",
    "        i=i+1\n",
    "            \n",
    "    return sumadiferencias\n",
    "\n",
    "cadena1=\"SRSLLLRFLMSRSLLLRFLLFLLLLPPLPLFLLLLPPL\"\n",
    "cadena2=\"SRSLLLRFLSSRSLLLRFLLFLLLLAALALFLLLLSML\"\n",
    "\n",
    "distanciaHam(cadena1,cadena2)"
   ]
  },
  {
   "cell_type": "markdown",
   "metadata": {},
   "source": [
    "8. Dada la tabla de codones estandar, hacer una función para traducir una cadena de DNA empezando desde la posición 1 <br>\n",
    "Ejemplo: traducir(\"ATGGCGCGTATGAATAGCAATCCGAGCGCATGCCATGTTTGCCATGCGGCTCTGGCGGTCATTGATGCGTGCAATAACAATACCCGTAATAGCAATATCAATAGCTAA\")<br>\n",
    "Out: Met A R Met N S N P S A C H V C H A A L A V I D A C N N N T R N S N I N S Stop"
   ]
  },
  {
   "cell_type": "code",
   "execution_count": 23,
   "metadata": {},
   "outputs": [
    {
     "data": {
      "text/plain": [
       "'MetARMetNSNPSACHVCHAALAVIDACNNNTRNSNINSStop'"
      ]
     },
     "execution_count": 23,
     "metadata": {},
     "output_type": "execute_result"
    }
   ],
   "source": [
    "tabla_aminoacidos= {'ATA':'I', 'ATC':'I', 'ATT':'I', 'ATG':'Met',\n",
    "    'ACA':'T', 'ACC':'T', 'ACG':'T', 'ACT':'T',\n",
    "    'AAC':'N', 'AAT':'N', 'AAA':'K', 'AAG':'K',\n",
    "    'AGC':'S', 'AGT':'S', 'AGA':'R', 'AGG':'R',\n",
    "    'CTA':'L', 'CTC':'L', 'CTG':'L', 'CTT':'L',\n",
    "    'CCA':'P', 'CCC':'P', 'CCG':'P', 'CCT':'P',\n",
    "    'CAC':'H', 'CAT':'H', 'CAA':'Q', 'CAG':'Q',\n",
    "    'CGA':'R', 'CGC':'R', 'CGG':'R', 'CGT':'R',\n",
    "    'GTA':'V', 'GTC':'V', 'GTG':'V', 'GTT':'V',\n",
    "    'GCA':'A', 'GCC':'A', 'GCG':'A', 'GCT':'A',\n",
    "    'GAC':'D', 'GAT':'D', 'GAA':'E', 'GAG':'E',\n",
    "    'GGA':'G', 'GGC':'G', 'GGG':'G', 'GGT':'G',\n",
    "    'TCA':'S', 'TCC':'S', 'TCG':'S', 'TCT':'S',\n",
    "    'TTC':'F', 'TTT':'F', 'TTA':'L', 'TTG':'L',\n",
    "    'TAC':'Y', 'TAT':'Y', 'TAA':'Stop', 'TAG':'Stop',\n",
    "    'TGC':'C', 'TGT':'C', 'TGA':'Stop', 'TGG':'W',}\n",
    "def traducirDNA(DNA):\n",
    "    i=0\n",
    "    peptido=\"\"\n",
    "    while i in range(0,len(DNA)-2):\n",
    "        aminoacido= tabla_aminoacidos[DNA[i:i+3]]\n",
    "        peptido=peptido + aminoacido\n",
    "        i=i+3\n",
    "    return peptido\n",
    "\n",
    "DNA=\"ATGGCGCGTATGAATAGCAATCCGAGCGCATGCCATGTTTGCCATGCGGCTCTGGCGGTCATTGATGCGTGCAATAACAATACCCGTAATAGCAATATCAATAGCTAA\"\n",
    "traducirDNA(DNA)"
   ]
  },
  {
   "cell_type": "markdown",
   "metadata": {},
   "source": [
    "9. Usando la función anterior, traducir la secuencia de DNA dada en los 6 frames posibles para producir un polipéptido.\n",
    "Ejemplo: traducirALL(\"ATGGCGCGTATGAATAGCAATCCGAGCGCATGCCATGTTTGCCATGCGGCTCTGGCGGTCATTGATGCGTGCAATAACAATACCCGTAATAGCAATATCAATAGCTAA\")<br>\n",
    "Out: (Frame1:Met A R Met N S N P S A C H V C H A A L A V I D A C N N N T R N S N I N S Stop, Frame2:W R V Stop I A I R A H A Met F A Met R L W R S L Met R A I T I P V I A I S I A, Frame3:G A Y E Stop Q S E R Met P C L P C G S G G H Stop C V Q Stop Q Y P Stop Stop Q Y Q Stop L, Frame4:L A I D I A I T G I V I A R I N D R Q S R Met A N Met A C A R I A I H T R H, Frame5:Stop L L I L L L R V L L L H A S Met T A R A A W Q T W H A L G L L F I R A, Frame6:S Y Stop Y C Y Y G Y C Y C T H Q Stop P P E P H G K H G Met R S D C Y S Y A P)"
   ]
  },
  {
   "cell_type": "code",
   "execution_count": 31,
   "metadata": {},
   "outputs": [
    {
     "data": {
      "text/plain": [
       "('1: MetARMetNSNPSACHVCHAALAVIDACNNNTRNSNINSStop',\n",
       " '2: WRVStopIAIRAHAMetFAMetRLWRSLMetRAITIPVIAISIA',\n",
       " '3: GAYEStopQSERMetPCLPCGSGGHStopCVQStopQYPStopStopQYQStopL')"
      ]
     },
     "execution_count": 31,
     "metadata": {},
     "output_type": "execute_result"
    }
   ],
   "source": [
    "def sixframes (seq):\n",
    "    return (\"1: \"+traducirDNA(seq)),(\"2: \"+ traducirDNA(seq[1:])),(\"3: \"+ traducirDNA(seq[2:]))\n",
    "sixframes(\"ATGGCGCGTATGAATAGCAATCCGAGCGCATGCCATGTTTGCCATGCGGCTCTGGCGGTCATTGATGCGTGCAATAACAATACCCGTAATAGCAATATCAATAGCTAA\")"
   ]
  },
  {
   "cell_type": "code",
   "execution_count": 30,
   "metadata": {},
   "outputs": [
    {
     "data": {
      "text/plain": [
       "('4: LAIDIAITGIVIARINDRQSRMetANMetACARIAIHTRH',\n",
       " '5: StopLLILLLRVLLLHASMetTARAAWQTWHALGLLFIRA',\n",
       " '6: SYStopYCYYGYCYCTHQStopPPEPHGKHGMetRSDCYSYAP')"
      ]
     },
     "execution_count": 30,
     "metadata": {},
     "output_type": "execute_result"
    }
   ],
   "source": [
    "def DNA_complementario(cadenaDNA):\n",
    "    i=0\n",
    "    Comp=''\n",
    "    for i in range(0,len(cadenaDNA)):\n",
    "        base=cadenaDNA[i]\n",
    "        if base=='A':\n",
    "            Comp=Comp+'T'\n",
    "        if base=='T':\n",
    "            Comp=Comp+'A'\n",
    "        if base=='C':\n",
    "            Comp=Comp+'G'\n",
    "        if base=='G':\n",
    "            Comp=Comp+'C'\n",
    "        i = i+1\n",
    "    return Comp\n",
    "\n",
    "\n",
    "def sixframes2 (seq):\n",
    "    inversa = (seq[::-1])\n",
    "    return (\"4: \"+ traducirDNA(DNA_complementario(inversa))),(\"5: \"+ traducirDNA(DNA_complementario(inversa[1:]))),(\"6: \"+ traducirDNA(DNA_complementario(inversa[2:])))\n",
    "sixframes2(\"ATGGCGCGTATGAATAGCAATCCGAGCGCATGCCATGTTTGCCATGCGGCTCTGGCGGTCATTGATGCGTGCAATAACAATACCCGTAATAGCAATATCAATAGCTAA\")\n",
    "    "
   ]
  },
  {
   "cell_type": "markdown",
   "metadata": {},
   "source": []
  },
  {
   "cell_type": "markdown",
   "metadata": {},
   "source": [
    "$$'1: MetARMetNSNPSACHVCHAALAVIDACNNNTRNSNINSStop', \n",
    " '2WRVStopIAIRAHAMetFAMetRLWRSLMetRAITIPVIAISIA',\n",
    " '3GAYEStopQSERMetPCLPCGSGGHStopCVQStopQYPStopStopQYQStopL',\n",
    " '4LAIDIAITGIVIARINDRQSRMetANMetACARIAIHTRH',\n",
    " '5StopLLILLLRVLLLHASMetTARAAWQTWHALGLLFIRA',\n",
    " '6SYStopYCYYGYCYCTHQStopPPEPHGKHGMetRSDCYSYAP'$$"
   ]
  },
  {
   "cell_type": "markdown",
   "metadata": {},
   "source": [
    "'1: MetARMetNSNPSACHVCHAALAVIDACNNNTRNSNINSStop', \n",
    " '2WRVStopIAIRAHAMetFAMetRLWRSLMetRAITIPVIAISIA',\n",
    " '3GAYEStopQSERMetPCLPCGSGGHStopCVQStopQYPStopStopQYQStopL',\n",
    " '4LAIDIAITGIVIARINDRQSRMetANMetACARIAIHTRH',\n",
    " '5StopLLILLLRVLLLHASMetTARAAWQTWHALGLLFIRA',\n",
    " '6SYStopYCYYGYCYCTHQStopPPEPHGKHGMetRSDCYSYAP'"
   ]
  },
  {
   "cell_type": "markdown",
   "metadata": {},
   "source": [
    "10. Su código genético es esencialmente el mismo desde que nace hasta que muere, y el mismo en su sangre y su cerebro. Los genes que se activan y desactivan marcan la diferencia entre las células. Esta regulación de los genes está orquestada por un mecanismo inmensamente complejo, que solo hemos empezado a comprender. Una parte central de este mecanismo consiste en moléculas llamadas factores de transcripción que se adhieren al ADN, y al hacerlo, activan o desactivan los genes cercanos. Estas moléculas se unen preferentemente a secuencias específicas de ADN, y este patrón de preferencia de unión puede representarse mediante una tabla de frecuencias de símbolos dados en cada posición del patrón. Más precisamente, cada fila en la tabla corresponde a las bases A, C, G y T, mientras que la columna j refleja cuántas veces aparece la base en la posición j en la secuencia del ADN.\n",
    "\n",
    "Por ejemplo; si nuestro conjunto de secuencias de ADN son TAG, GGT y GGG, la tabla se convierte en\n",
    "\n",
    "base\t0\t1\t2\n",
    "A\t0\t1\t0\n",
    "C\t0\t0\t0\n",
    "G\t2\t2\t2\n",
    "T\t1\t0\t1\n",
    "De esta tabla podemos leer que la base A aparece una vez en el índice 1 en las cadenas de ADN, la base C no aparece en absoluto, la base G aparece dos veces en todas las posiciones y la base T aparece una vez al principio y al final de las cadenas.\n",
    "\n",
    "a. Dada una lista de Strings con motivos de 4 nucleótidos, construir una matriz de frecuencias para las posiciones de los 4 nucleótidos.\n",
    "\n",
    "Ejemplo:\n",
    "listamotivos =[\"ACTG\", \"CCAG\", \"AGAG\", \"CGTA\"]\n",
    "MatrizFrecuencia(listamotivos)\n",
    "Out: [[2, 0, 2, 1]\n",
    "[2, 2, 0, 0]\n",
    "[0, 2, 0, 3]\n",
    "[0, 0, 2, 0]]\n",
    "\n",
    "b. Realizar una función que retorne el nucleótido que más frecuencia obtuvo por posición. Si tienen la misma frecuecia retornar los valores iguales. \n",
    "Ejemplo:\n",
    "FrecuenciaMayorNt(MatrizFrecuencia(listamotivos))\n",
    "Out: [[A:0.5, C:0.5],\n",
    "[C:0.5,G:0.5],\n",
    "[A:0.5,T:0.5],\n",
    "[G:0.75]]"
   ]
  },
  {
   "cell_type": "code",
   "execution_count": 3,
   "metadata": {},
   "outputs": [
    {
     "name": "stdout",
     "output_type": "stream",
     "text": [
      "[[2, 0, 2, 1], [2, 2, 0, 0], [0, 2, 0, 3], [0, 0, 2, 0]]\n",
      "[[2, 0, 1, 3], [1, 2, 0, 0], [3, 4, 1, 3], [0, 0, 4, 0]]\n"
     ]
    }
   ],
   "source": [
    "#a\n",
    "def MatrizFrecuencia(listamotivos):\n",
    "    conteo=[[0,0,0,0],[0,0,0,0],[0,0,0,0],[0,0,0,0]]\n",
    "    for motivo in listamotivos:\n",
    "        for i in range(0,4):\n",
    "            if motivo[i]=='A':\n",
    "                conteo[0][i] = conteo[0][i]+ 1\n",
    "            if motivo[i]=='C':\n",
    "                conteo[1][i] = conteo[1][i]+ 1\n",
    "            if motivo[i]=='G':\n",
    "                conteo[2][i] = conteo[2][i]+ 1\n",
    "            if motivo[i]=='T':\n",
    "                conteo[3][i] = conteo[3][i]+ 1\n",
    "    return conteo  \n",
    "\n",
    "#prueba de la funsion.\n",
    "mot1 = [\"ACTG\", \"CCAG\", \"AGAG\", \"CGTA\"]\n",
    "print(MatrizFrecuencia(mot1))\n",
    "mot2 = [\"ACTG\", \"CCAG\", \"AGGG\", \"GGTA\", \"GGTA\", \"GGTA\"]\n",
    "print(MatrizFrecuencia(mot2))\n"
   ]
  },
  {
   "cell_type": "code",
   "execution_count": 6,
   "metadata": {},
   "outputs": [
    {
     "name": "stdout",
     "output_type": "stream",
     "text": [
      "[[0.5, 0.5], [0.5, 0.5], [0.5, 0.5], [0.75]]\n",
      "[['A', 'C'], ['C', 'G'], ['A', 'T'], ['G']]\n"
     ]
    }
   ],
   "source": [
    "#B\n",
    "#buscar el mayor valor en una columna 'col', de la matriz 'conteos'\n",
    "#la función devuelve el número mayor\n",
    "def mayorValorEnPosicion(conteos,col):\n",
    "    mayor=conteos[0][col]\n",
    "    for i in range(1,4):\n",
    "        if mayor < conteos[i][col]:\n",
    "            mayor = conteos[i][col]\n",
    "    return mayor\n",
    "\n",
    "#determina la posición del 'mayor' en la columna 'col'\n",
    "#devuelve una lista con las posiciones donde esté el mayor.\n",
    "#puede se una lista de una o varias posiciones\n",
    "def posicionDeLosMayores(conteos,col, mayor):\n",
    "    pos=[]\n",
    "    for i in range(0,4): \n",
    "        if conteos[i][col]==mayor:\n",
    "            pos.append(i)\n",
    "    return pos\n",
    "\n",
    "#determina el porcentaje correspondiente al mayor\n",
    "def porcentajeDelMayor(conteos,col, mayor):\n",
    "    suma=0\n",
    "    for i in range(0,4): \n",
    "           suma += conteos[i][col]\n",
    "    return mayor/suma\n",
    "\n",
    "def mayorFrecuencia(conteos):\n",
    "    porcentajes=[]\n",
    "    posiciones=[]\n",
    "    columnas = len(conteos[0])\n",
    "    for col in range(0,columnas):\n",
    "        mayor = mayorValorEnPosicion(conteos,col)        #busco el mayor\n",
    "        pos = posicionDeLosMayores(conteos, col, mayor)  #determino las posiciones donde está el mayor\n",
    "        porc = porcentajeDelMayor(conteos,col,mayor)     #determino el porcentaje del mayor\n",
    "        porcentajes.append([porc]*len(pos))\n",
    "        posiciones.append([\"ACGT\"[i] for i in pos])\n",
    "    return porcentajes,posiciones\n",
    "\n",
    "#hallar matriz de conteos con el punto #a\n",
    "mot1 = [\"ACTG\", \"CCAG\", \"AGAG\", \"CGTA\"]\n",
    "conteos = MatrizFrecuencia(mot1)\n",
    "\n",
    "#hallar matriz de frecuencias con la función del punto #10    \n",
    "frecs,pos= mayorFrecuencia(conteos)\n",
    "print(frecs)\n",
    "print(pos)\n"
   ]
  },
  {
   "cell_type": "code",
   "execution_count": null,
   "metadata": {},
   "outputs": [],
   "source": []
  }
 ],
 "metadata": {
  "kernelspec": {
   "display_name": "Python 3",
   "language": "python",
   "name": "python3"
  },
  "language_info": {
   "codemirror_mode": {
    "name": "ipython",
    "version": 3
   },
   "file_extension": ".py",
   "mimetype": "text/x-python",
   "name": "python",
   "nbconvert_exporter": "python",
   "pygments_lexer": "ipython3",
   "version": "3.7.1"
  }
 },
 "nbformat": 4,
 "nbformat_minor": 2
}
